{
 "cells": [
  {
   "cell_type": "code",
   "execution_count": 1,
   "metadata": {},
   "outputs": [],
   "source": [
    "import pandas as pd\n",
    "import numpy as np\n",
    "import matplotlib.pyplot as plt\n",
    "import seaborn as sns\n",
    "from textblob import TextBlob\n",
    "from wordcloud import WordCloud\n",
    "from wordcloud import STOPWORDS\n",
    "from langdetect import detect_langs\n",
    "from sklearn.feature_extraction.text import CountVectorizer, TfidfVectorizer, ENGLISH_STOP_WORDS\n",
    "from sklearn.linear_model import LogisticRegression\n",
    "from sklearn.metrics import confusion_matrix, classification_report, accuracy_score\n",
    "from sklearn.model_selection import train_test_split\n",
    "%matplotlib inline\n",
    "from nltk import word_tokenize\n",
    "from nltk.stem import PorterStemmer,WordNetLemmatizer\n",
    "import spacy\n",
    "from sklearn.ensemble import RandomForestClassifier\n",
    "from sklearn.pipeline import Pipeline\n",
    "from sklearn.feature_extraction.text import TfidfTransformer\n",
    "from sklearn.metrics import roc_curve, roc_auc_score\n",
    "from sklearn.model_selection import GridSearchCV"
   ]
  },
  {
   "cell_type": "code",
   "execution_count": 2,
   "metadata": {},
   "outputs": [
    {
     "name": "stderr",
     "output_type": "stream",
     "text": [
      "/opt/anaconda3/lib/python3.7/site-packages/IPython/core/interactiveshell.py:3058: DtypeWarning: Columns (1) have mixed types.Specify dtype option on import or set low_memory=False.\n",
      "  interactivity=interactivity, compiler=compiler, result=result)\n"
     ]
    }
   ],
   "source": [
    "df = pd.read_csv('ratebeer.csv')"
   ]
  },
  {
   "cell_type": "code",
   "execution_count": 3,
   "metadata": {},
   "outputs": [
    {
     "data": {
      "text/html": [
       "<div>\n",
       "<style scoped>\n",
       "    .dataframe tbody tr th:only-of-type {\n",
       "        vertical-align: middle;\n",
       "    }\n",
       "\n",
       "    .dataframe tbody tr th {\n",
       "        vertical-align: top;\n",
       "    }\n",
       "\n",
       "    .dataframe thead th {\n",
       "        text-align: right;\n",
       "    }\n",
       "</style>\n",
       "<table border=\"1\" class=\"dataframe\">\n",
       "  <thead>\n",
       "    <tr style=\"text-align: right;\">\n",
       "      <th></th>\n",
       "      <th>name</th>\n",
       "      <th>id</th>\n",
       "      <th>brewerID</th>\n",
       "      <th>abv</th>\n",
       "      <th>style</th>\n",
       "      <th>appearance</th>\n",
       "      <th>aroma</th>\n",
       "      <th>palate</th>\n",
       "      <th>taste</th>\n",
       "      <th>overall</th>\n",
       "      <th>time</th>\n",
       "      <th>profileName</th>\n",
       "      <th>reviewtext</th>\n",
       "    </tr>\n",
       "  </thead>\n",
       "  <tbody>\n",
       "    <tr>\n",
       "      <th>0</th>\n",
       "      <td>John Harvards Simcoe IPA</td>\n",
       "      <td>63836</td>\n",
       "      <td>8481</td>\n",
       "      <td>5.4</td>\n",
       "      <td>India Pale Ale &amp;#40;IPA&amp;#41;</td>\n",
       "      <td>5-Apr</td>\n",
       "      <td>10-Jun</td>\n",
       "      <td>5-Mar</td>\n",
       "      <td>10-Jun</td>\n",
       "      <td>13/20</td>\n",
       "      <td>1157587200</td>\n",
       "      <td>hopdog</td>\n",
       "      <td>On tap at the Springfield, PA location. Poured...</td>\n",
       "    </tr>\n",
       "    <tr>\n",
       "      <th>1</th>\n",
       "      <td>John Harvards Simcoe IPA</td>\n",
       "      <td>63836</td>\n",
       "      <td>8481</td>\n",
       "      <td>5.4</td>\n",
       "      <td>India Pale Ale &amp;#40;IPA&amp;#41;</td>\n",
       "      <td>5-Apr</td>\n",
       "      <td>10-Jun</td>\n",
       "      <td>5-Apr</td>\n",
       "      <td>10-Jul</td>\n",
       "      <td>13/20</td>\n",
       "      <td>1157241600</td>\n",
       "      <td>TomDecapolis</td>\n",
       "      <td>On tap at the John Harvards in Springfield PA....</td>\n",
       "    </tr>\n",
       "    <tr>\n",
       "      <th>2</th>\n",
       "      <td>John Harvards Cristal Pilsner</td>\n",
       "      <td>71716</td>\n",
       "      <td>8481</td>\n",
       "      <td>5</td>\n",
       "      <td>Bohemian Pilsener</td>\n",
       "      <td>5-Apr</td>\n",
       "      <td>10-May</td>\n",
       "      <td>5-Mar</td>\n",
       "      <td>10-Jun</td>\n",
       "      <td>14/20</td>\n",
       "      <td>958694400</td>\n",
       "      <td>PhillyBeer2112</td>\n",
       "      <td>UPDATED: FEB 19, 2003 Springfield, PA. I've ne...</td>\n",
       "    </tr>\n",
       "    <tr>\n",
       "      <th>3</th>\n",
       "      <td>John Harvards Fancy Lawnmower Beer</td>\n",
       "      <td>64125</td>\n",
       "      <td>8481</td>\n",
       "      <td>5.4</td>\n",
       "      <td>Kölsch</td>\n",
       "      <td>5-Feb</td>\n",
       "      <td>10-Apr</td>\n",
       "      <td>5-Feb</td>\n",
       "      <td>10-Apr</td>\n",
       "      <td>20-Aug</td>\n",
       "      <td>1157587200</td>\n",
       "      <td>TomDecapolis</td>\n",
       "      <td>On tap the Springfield PA location billed as t...</td>\n",
       "    </tr>\n",
       "    <tr>\n",
       "      <th>4</th>\n",
       "      <td>John Harvards Fancy Lawnmower Beer</td>\n",
       "      <td>64125</td>\n",
       "      <td>8481</td>\n",
       "      <td>5.4</td>\n",
       "      <td>Kölsch</td>\n",
       "      <td>5-Feb</td>\n",
       "      <td>10-Apr</td>\n",
       "      <td>5-Feb</td>\n",
       "      <td>10-Apr</td>\n",
       "      <td>20-Aug</td>\n",
       "      <td>1157587200</td>\n",
       "      <td>hopdog</td>\n",
       "      <td>On tap at the Springfield, PA location. Poured...</td>\n",
       "    </tr>\n",
       "  </tbody>\n",
       "</table>\n",
       "</div>"
      ],
      "text/plain": [
       "                                 name     id  brewerID  abv  \\\n",
       "0            John Harvards Simcoe IPA  63836      8481  5.4   \n",
       "1            John Harvards Simcoe IPA  63836      8481  5.4   \n",
       "2       John Harvards Cristal Pilsner  71716      8481    5   \n",
       "3  John Harvards Fancy Lawnmower Beer  64125      8481  5.4   \n",
       "4  John Harvards Fancy Lawnmower Beer  64125      8481  5.4   \n",
       "\n",
       "                          style appearance   aroma palate   taste overall  \\\n",
       "0  India Pale Ale &#40;IPA&#41;      5-Apr  10-Jun  5-Mar  10-Jun   13/20   \n",
       "1  India Pale Ale &#40;IPA&#41;      5-Apr  10-Jun  5-Apr  10-Jul   13/20   \n",
       "2             Bohemian Pilsener      5-Apr  10-May  5-Mar  10-Jun   14/20   \n",
       "3                        Kölsch      5-Feb  10-Apr  5-Feb  10-Apr  20-Aug   \n",
       "4                        Kölsch      5-Feb  10-Apr  5-Feb  10-Apr  20-Aug   \n",
       "\n",
       "         time     profileName  \\\n",
       "0  1157587200          hopdog   \n",
       "1  1157241600    TomDecapolis   \n",
       "2   958694400  PhillyBeer2112   \n",
       "3  1157587200    TomDecapolis   \n",
       "4  1157587200          hopdog   \n",
       "\n",
       "                                          reviewtext  \n",
       "0  On tap at the Springfield, PA location. Poured...  \n",
       "1  On tap at the John Harvards in Springfield PA....  \n",
       "2  UPDATED: FEB 19, 2003 Springfield, PA. I've ne...  \n",
       "3  On tap the Springfield PA location billed as t...  \n",
       "4  On tap at the Springfield, PA location. Poured...  "
      ]
     },
     "execution_count": 3,
     "metadata": {},
     "output_type": "execute_result"
    }
   ],
   "source": [
    "df.head()"
   ]
  },
  {
   "cell_type": "code",
   "execution_count": 4,
   "metadata": {},
   "outputs": [
    {
     "data": {
      "text/plain": [
       "(262144, 13)"
      ]
     },
     "execution_count": 4,
     "metadata": {},
     "output_type": "execute_result"
    }
   ],
   "source": [
    "df_1 = df.sample(frac=0.25)\n",
    "df_1.shape"
   ]
  },
  {
   "cell_type": "code",
   "execution_count": 5,
   "metadata": {},
   "outputs": [
    {
     "data": {
      "text/plain": [
       "(52429, 13)"
      ]
     },
     "execution_count": 5,
     "metadata": {},
     "output_type": "execute_result"
    }
   ],
   "source": [
    "df_2 = df.sample(frac=0.05)\n",
    "df_2.shape"
   ]
  },
  {
   "cell_type": "code",
   "execution_count": 6,
   "metadata": {},
   "outputs": [
    {
     "data": {
      "text/html": [
       "<div>\n",
       "<style scoped>\n",
       "    .dataframe tbody tr th:only-of-type {\n",
       "        vertical-align: middle;\n",
       "    }\n",
       "\n",
       "    .dataframe tbody tr th {\n",
       "        vertical-align: top;\n",
       "    }\n",
       "\n",
       "    .dataframe thead th {\n",
       "        text-align: right;\n",
       "    }\n",
       "</style>\n",
       "<table border=\"1\" class=\"dataframe\">\n",
       "  <thead>\n",
       "    <tr style=\"text-align: right;\">\n",
       "      <th></th>\n",
       "      <th>name</th>\n",
       "      <th>reviewtext</th>\n",
       "    </tr>\n",
       "  </thead>\n",
       "  <tbody>\n",
       "    <tr>\n",
       "      <th>715151</th>\n",
       "      <td>Roots Organic Hotsteppa Golden Ale</td>\n",
       "      <td>Golden colour.  Fruity hop aroma with light pa...</td>\n",
       "    </tr>\n",
       "    <tr>\n",
       "      <th>470842</th>\n",
       "      <td>AleSmith X</td>\n",
       "      <td>22 oz. bottle from Johns Market Place. A huge ...</td>\n",
       "    </tr>\n",
       "    <tr>\n",
       "      <th>906055</th>\n",
       "      <td>Stoudts Blonde Double Mai-bock</td>\n",
       "      <td>Yeast and caramel rolled into a beer that I ho...</td>\n",
       "    </tr>\n",
       "    <tr>\n",
       "      <th>155830</th>\n",
       "      <td>New Holland The Poet</td>\n",
       "      <td>Bottle.  pours dark.  dry and bitter, not very...</td>\n",
       "    </tr>\n",
       "    <tr>\n",
       "      <th>302268</th>\n",
       "      <td>Hair of the Dog Ruth</td>\n",
       "      <td>Pour is hazy golden yellow with a quick head. ...</td>\n",
       "    </tr>\n",
       "  </tbody>\n",
       "</table>\n",
       "</div>"
      ],
      "text/plain": [
       "                                      name  \\\n",
       "715151  Roots Organic Hotsteppa Golden Ale   \n",
       "470842                          AleSmith X   \n",
       "906055      Stoudts Blonde Double Mai-bock   \n",
       "155830                New Holland The Poet   \n",
       "302268                Hair of the Dog Ruth   \n",
       "\n",
       "                                               reviewtext  \n",
       "715151  Golden colour.  Fruity hop aroma with light pa...  \n",
       "470842  22 oz. bottle from Johns Market Place. A huge ...  \n",
       "906055  Yeast and caramel rolled into a beer that I ho...  \n",
       "155830  Bottle.  pours dark.  dry and bitter, not very...  \n",
       "302268  Pour is hazy golden yellow with a quick head. ...  "
      ]
     },
     "execution_count": 6,
     "metadata": {},
     "output_type": "execute_result"
    }
   ],
   "source": [
    "df_3 = df_2[['name', 'reviewtext']]\n",
    "df_3.head()"
   ]
  },
  {
   "cell_type": "code",
   "execution_count": 7,
   "metadata": {},
   "outputs": [
    {
     "data": {
      "text/html": [
       "<div>\n",
       "<style scoped>\n",
       "    .dataframe tbody tr th:only-of-type {\n",
       "        vertical-align: middle;\n",
       "    }\n",
       "\n",
       "    .dataframe tbody tr th {\n",
       "        vertical-align: top;\n",
       "    }\n",
       "\n",
       "    .dataframe thead th {\n",
       "        text-align: right;\n",
       "    }\n",
       "</style>\n",
       "<table border=\"1\" class=\"dataframe\">\n",
       "  <thead>\n",
       "    <tr style=\"text-align: right;\">\n",
       "      <th></th>\n",
       "      <th>name</th>\n",
       "      <th>review</th>\n",
       "      <th>length</th>\n",
       "    </tr>\n",
       "  </thead>\n",
       "  <tbody>\n",
       "    <tr>\n",
       "      <th>715151</th>\n",
       "      <td>Roots Organic Hotsteppa Golden Ale</td>\n",
       "      <td>Golden colour.  Fruity hop aroma with light pa...</td>\n",
       "      <td>309.0</td>\n",
       "    </tr>\n",
       "    <tr>\n",
       "      <th>470842</th>\n",
       "      <td>AleSmith X</td>\n",
       "      <td>22 oz. bottle from Johns Market Place. A huge ...</td>\n",
       "      <td>817.0</td>\n",
       "    </tr>\n",
       "    <tr>\n",
       "      <th>906055</th>\n",
       "      <td>Stoudts Blonde Double Mai-bock</td>\n",
       "      <td>Yeast and caramel rolled into a beer that I ho...</td>\n",
       "      <td>149.0</td>\n",
       "    </tr>\n",
       "    <tr>\n",
       "      <th>155830</th>\n",
       "      <td>New Holland The Poet</td>\n",
       "      <td>Bottle.  pours dark.  dry and bitter, not very...</td>\n",
       "      <td>178.0</td>\n",
       "    </tr>\n",
       "    <tr>\n",
       "      <th>302268</th>\n",
       "      <td>Hair of the Dog Ruth</td>\n",
       "      <td>Pour is hazy golden yellow with a quick head. ...</td>\n",
       "      <td>216.0</td>\n",
       "    </tr>\n",
       "  </tbody>\n",
       "</table>\n",
       "</div>"
      ],
      "text/plain": [
       "                                      name  \\\n",
       "715151  Roots Organic Hotsteppa Golden Ale   \n",
       "470842                          AleSmith X   \n",
       "906055      Stoudts Blonde Double Mai-bock   \n",
       "155830                New Holland The Poet   \n",
       "302268                Hair of the Dog Ruth   \n",
       "\n",
       "                                                   review  length  \n",
       "715151  Golden colour.  Fruity hop aroma with light pa...   309.0  \n",
       "470842  22 oz. bottle from Johns Market Place. A huge ...   817.0  \n",
       "906055  Yeast and caramel rolled into a beer that I ho...   149.0  \n",
       "155830  Bottle.  pours dark.  dry and bitter, not very...   178.0  \n",
       "302268  Pour is hazy golden yellow with a quick head. ...   216.0  "
      ]
     },
     "execution_count": 7,
     "metadata": {},
     "output_type": "execute_result"
    }
   ],
   "source": [
    "df_3 = df_3.rename(columns={'reviewtext': 'review'})\n",
    "\n",
    "# length of the reviews\n",
    "length_reviews = df_3.review.str.len()\n",
    "df_3['length'] = length_reviews\n",
    "df_3.head()"
   ]
  },
  {
   "cell_type": "code",
   "execution_count": 8,
   "metadata": {},
   "outputs": [
    {
     "name": "stdout",
     "output_type": "stream",
     "text": [
      "Average Length: 309.94192796852917\n"
     ]
    }
   ],
   "source": [
    "avg_length = df_3.length.mean()\n",
    "print('Average Length: {}'.format(avg_length))"
   ]
  },
  {
   "cell_type": "code",
   "execution_count": 9,
   "metadata": {},
   "outputs": [
    {
     "name": "stdout",
     "output_type": "stream",
     "text": [
      "Longest Review: 4444.0\n",
      "Shortest Review: 5.0\n"
     ]
    }
   ],
   "source": [
    "longest_review = df_3['length'].max()\n",
    "shortest_review = df_3['length'].min()\n",
    "print('Longest Review: {}'.format(longest_review))\n",
    "print('Shortest Review: {}'.format(shortest_review))"
   ]
  },
  {
   "cell_type": "code",
   "execution_count": 10,
   "metadata": {},
   "outputs": [
    {
     "data": {
      "text/html": [
       "<div>\n",
       "<style scoped>\n",
       "    .dataframe tbody tr th:only-of-type {\n",
       "        vertical-align: middle;\n",
       "    }\n",
       "\n",
       "    .dataframe tbody tr th {\n",
       "        vertical-align: top;\n",
       "    }\n",
       "\n",
       "    .dataframe thead th {\n",
       "        text-align: right;\n",
       "    }\n",
       "</style>\n",
       "<table border=\"1\" class=\"dataframe\">\n",
       "  <thead>\n",
       "    <tr style=\"text-align: right;\">\n",
       "      <th></th>\n",
       "      <th>name</th>\n",
       "      <th>review</th>\n",
       "      <th>length</th>\n",
       "    </tr>\n",
       "  </thead>\n",
       "  <tbody>\n",
       "    <tr>\n",
       "      <th>324481</th>\n",
       "      <td>Snoqualmie Falls Spring Fever Belgian Grand Cru</td>\n",
       "      <td>UPDATED: FEB 25, 2011 Snoqualmie Falls Brewing...</td>\n",
       "      <td>4444.0</td>\n",
       "    </tr>\n",
       "    <tr>\n",
       "      <th>264929</th>\n",
       "      <td>Stone Old Guardian &amp;#40;Vintages 2004 and late...</td>\n",
       "      <td>UPDATED: JAN 27, 2007 Jan 2007, bottled.\\t\\tLo...</td>\n",
       "      <td>3696.0</td>\n",
       "    </tr>\n",
       "    <tr>\n",
       "      <th>856994</th>\n",
       "      <td>Arbor Demetrius Barrel Aged Sour Double IPA</td>\n",
       "      <td>This one has sat in the back of the fridge for...</td>\n",
       "      <td>3577.0</td>\n",
       "    </tr>\n",
       "    <tr>\n",
       "      <th>120565</th>\n",
       "      <td>Firestone Walker 10</td>\n",
       "      <td>Sampled March 2007\\tThis produces a very thick...</td>\n",
       "      <td>3315.0</td>\n",
       "    </tr>\n",
       "    <tr>\n",
       "      <th>265390</th>\n",
       "      <td>Stone Old Guardian &amp;#40;Vintages 2004 and late...</td>\n",
       "      <td>While my personal preference leans more toward...</td>\n",
       "      <td>3273.0</td>\n",
       "    </tr>\n",
       "  </tbody>\n",
       "</table>\n",
       "</div>"
      ],
      "text/plain": [
       "                                                     name  \\\n",
       "324481    Snoqualmie Falls Spring Fever Belgian Grand Cru   \n",
       "264929  Stone Old Guardian &#40;Vintages 2004 and late...   \n",
       "856994        Arbor Demetrius Barrel Aged Sour Double IPA   \n",
       "120565                                Firestone Walker 10   \n",
       "265390  Stone Old Guardian &#40;Vintages 2004 and late...   \n",
       "\n",
       "                                                   review  length  \n",
       "324481  UPDATED: FEB 25, 2011 Snoqualmie Falls Brewing...  4444.0  \n",
       "264929  UPDATED: JAN 27, 2007 Jan 2007, bottled.\\t\\tLo...  3696.0  \n",
       "856994  This one has sat in the back of the fridge for...  3577.0  \n",
       "120565  Sampled March 2007\\tThis produces a very thick...  3315.0  \n",
       "265390  While my personal preference leans more toward...  3273.0  "
      ]
     },
     "execution_count": 10,
     "metadata": {},
     "output_type": "execute_result"
    }
   ],
   "source": [
    "df_4 = df_3.sort_values(by=['length'], ascending=False)\n",
    "df_4.head()"
   ]
  },
  {
   "cell_type": "code",
   "execution_count": 11,
   "metadata": {},
   "outputs": [
    {
     "data": {
      "text/html": [
       "<div>\n",
       "<style scoped>\n",
       "    .dataframe tbody tr th:only-of-type {\n",
       "        vertical-align: middle;\n",
       "    }\n",
       "\n",
       "    .dataframe tbody tr th {\n",
       "        vertical-align: top;\n",
       "    }\n",
       "\n",
       "    .dataframe thead th {\n",
       "        text-align: right;\n",
       "    }\n",
       "</style>\n",
       "<table border=\"1\" class=\"dataframe\">\n",
       "  <thead>\n",
       "    <tr style=\"text-align: right;\">\n",
       "      <th></th>\n",
       "      <th>name</th>\n",
       "      <th>review</th>\n",
       "      <th>length</th>\n",
       "    </tr>\n",
       "  </thead>\n",
       "  <tbody>\n",
       "    <tr>\n",
       "      <th>808826</th>\n",
       "      <td>George Killians Irish Red</td>\n",
       "      <td>I like this beer, it tastes good and has a goo...</td>\n",
       "      <td>119.0</td>\n",
       "    </tr>\n",
       "    <tr>\n",
       "      <th>804739</th>\n",
       "      <td>Blue Moon Winter Abbey Ale</td>\n",
       "      <td>Thankfully I with beer expert Justin Greene @w...</td>\n",
       "      <td>274.0</td>\n",
       "    </tr>\n",
       "    <tr>\n",
       "      <th>684228</th>\n",
       "      <td>De Dolle Stille Nacht</td>\n",
       "      <td>Bottle, bought @ Kolding Vinhandel. [Vintage 2...</td>\n",
       "      <td>548.0</td>\n",
       "    </tr>\n",
       "    <tr>\n",
       "      <th>660030</th>\n",
       "      <td>Cigar City Humidor Series Juniper Jai Alai IPA</td>\n",
       "      <td>Entering old rates. 2010 originally as Twigs a...</td>\n",
       "      <td>393.0</td>\n",
       "    </tr>\n",
       "    <tr>\n",
       "      <th>537582</th>\n",
       "      <td>Chapeau Faro</td>\n",
       "      <td>Sampled alongside Lindeman's Faro. The front l...</td>\n",
       "      <td>1611.0</td>\n",
       "    </tr>\n",
       "  </tbody>\n",
       "</table>\n",
       "</div>"
      ],
      "text/plain": [
       "                                                  name  \\\n",
       "808826                      George Killians Irish Red    \n",
       "804739                      Blue Moon Winter Abbey Ale   \n",
       "684228                           De Dolle Stille Nacht   \n",
       "660030  Cigar City Humidor Series Juniper Jai Alai IPA   \n",
       "537582                                   Chapeau Faro    \n",
       "\n",
       "                                                   review  length  \n",
       "808826  I like this beer, it tastes good and has a goo...   119.0  \n",
       "804739  Thankfully I with beer expert Justin Greene @w...   274.0  \n",
       "684228  Bottle, bought @ Kolding Vinhandel. [Vintage 2...   548.0  \n",
       "660030  Entering old rates. 2010 originally as Twigs a...   393.0  \n",
       "537582  Sampled alongside Lindeman's Faro. The front l...  1611.0  "
      ]
     },
     "execution_count": 11,
     "metadata": {},
     "output_type": "execute_result"
    }
   ],
   "source": [
    "reviews = df_4.sample(frac=0.50)\n",
    "reviews.head()"
   ]
  },
  {
   "cell_type": "code",
   "execution_count": 12,
   "metadata": {},
   "outputs": [
    {
     "name": "stdout",
     "output_type": "stream",
     "text": [
      "<class 'pandas.core.frame.DataFrame'>\n",
      "Int64Index: 26214 entries, 808826 to 684789\n",
      "Data columns (total 3 columns):\n",
      " #   Column  Non-Null Count  Dtype  \n",
      "---  ------  --------------  -----  \n",
      " 0   name    26214 non-null  object \n",
      " 1   review  26182 non-null  object \n",
      " 2   length  26182 non-null  float64\n",
      "dtypes: float64(1), object(2)\n",
      "memory usage: 819.2+ KB\n"
     ]
    }
   ],
   "source": [
    "reviews.info()"
   ]
  },
  {
   "cell_type": "code",
   "execution_count": 13,
   "metadata": {},
   "outputs": [],
   "source": [
    "review = str(reviews.review)"
   ]
  },
  {
   "cell_type": "code",
   "execution_count": 14,
   "metadata": {},
   "outputs": [],
   "source": [
    "languages = []\n",
    "\n",
    "for r in range(len(reviews)):\n",
    "    languages.append(detect_langs(reviews.iloc[r, 0]))"
   ]
  },
  {
   "cell_type": "code",
   "execution_count": 15,
   "metadata": {},
   "outputs": [],
   "source": [
    "languages = [str(lang).split(':')[0][1] for lang in languages]"
   ]
  },
  {
   "cell_type": "code",
   "execution_count": 16,
   "metadata": {},
   "outputs": [
    {
     "data": {
      "text/html": [
       "<div>\n",
       "<style scoped>\n",
       "    .dataframe tbody tr th:only-of-type {\n",
       "        vertical-align: middle;\n",
       "    }\n",
       "\n",
       "    .dataframe tbody tr th {\n",
       "        vertical-align: top;\n",
       "    }\n",
       "\n",
       "    .dataframe thead th {\n",
       "        text-align: right;\n",
       "    }\n",
       "</style>\n",
       "<table border=\"1\" class=\"dataframe\">\n",
       "  <thead>\n",
       "    <tr style=\"text-align: right;\">\n",
       "      <th></th>\n",
       "      <th>name</th>\n",
       "      <th>review</th>\n",
       "      <th>length</th>\n",
       "      <th>lang</th>\n",
       "    </tr>\n",
       "  </thead>\n",
       "  <tbody>\n",
       "    <tr>\n",
       "      <th>808826</th>\n",
       "      <td>George Killians Irish Red</td>\n",
       "      <td>I like this beer, it tastes good and has a goo...</td>\n",
       "      <td>119.0</td>\n",
       "      <td>e</td>\n",
       "    </tr>\n",
       "    <tr>\n",
       "      <th>804739</th>\n",
       "      <td>Blue Moon Winter Abbey Ale</td>\n",
       "      <td>Thankfully I with beer expert Justin Greene @w...</td>\n",
       "      <td>274.0</td>\n",
       "      <td>e</td>\n",
       "    </tr>\n",
       "    <tr>\n",
       "      <th>684228</th>\n",
       "      <td>De Dolle Stille Nacht</td>\n",
       "      <td>Bottle, bought @ Kolding Vinhandel. [Vintage 2...</td>\n",
       "      <td>548.0</td>\n",
       "      <td>d</td>\n",
       "    </tr>\n",
       "    <tr>\n",
       "      <th>660030</th>\n",
       "      <td>Cigar City Humidor Series Juniper Jai Alai IPA</td>\n",
       "      <td>Entering old rates. 2010 originally as Twigs a...</td>\n",
       "      <td>393.0</td>\n",
       "      <td>e</td>\n",
       "    </tr>\n",
       "    <tr>\n",
       "      <th>537582</th>\n",
       "      <td>Chapeau Faro</td>\n",
       "      <td>Sampled alongside Lindeman's Faro. The front l...</td>\n",
       "      <td>1611.0</td>\n",
       "      <td>p</td>\n",
       "    </tr>\n",
       "  </tbody>\n",
       "</table>\n",
       "</div>"
      ],
      "text/plain": [
       "                                                  name  \\\n",
       "808826                      George Killians Irish Red    \n",
       "804739                      Blue Moon Winter Abbey Ale   \n",
       "684228                           De Dolle Stille Nacht   \n",
       "660030  Cigar City Humidor Series Juniper Jai Alai IPA   \n",
       "537582                                   Chapeau Faro    \n",
       "\n",
       "                                                   review  length lang  \n",
       "808826  I like this beer, it tastes good and has a goo...   119.0    e  \n",
       "804739  Thankfully I with beer expert Justin Greene @w...   274.0    e  \n",
       "684228  Bottle, bought @ Kolding Vinhandel. [Vintage 2...   548.0    d  \n",
       "660030  Entering old rates. 2010 originally as Twigs a...   393.0    e  \n",
       "537582  Sampled alongside Lindeman's Faro. The front l...  1611.0    p  "
      ]
     },
     "execution_count": 16,
     "metadata": {},
     "output_type": "execute_result"
    }
   ],
   "source": [
    "reviews['lang'] = languages\n",
    "reviews.head()"
   ]
  },
  {
   "cell_type": "code",
   "execution_count": 114,
   "metadata": {},
   "outputs": [
    {
     "data": {
      "text/plain": [
       "e    13780\n",
       "d     5583\n",
       "n     1570\n",
       "f     1151\n",
       "i     1149\n",
       "s      764\n",
       "a      582\n",
       "c      563\n",
       "t      401\n",
       "p      259\n",
       "r      190\n",
       "h      156\n",
       "l       61\n",
       "v        5\n",
       "Name: lang, dtype: int64"
      ]
     },
     "execution_count": 114,
     "metadata": {},
     "output_type": "execute_result"
    }
   ],
   "source": [
    "reviews['lang'].value_counts()"
   ]
  },
  {
   "cell_type": "code",
   "execution_count": 17,
   "metadata": {},
   "outputs": [
    {
     "data": {
      "text/html": [
       "<div>\n",
       "<style scoped>\n",
       "    .dataframe tbody tr th:only-of-type {\n",
       "        vertical-align: middle;\n",
       "    }\n",
       "\n",
       "    .dataframe tbody tr th {\n",
       "        vertical-align: top;\n",
       "    }\n",
       "\n",
       "    .dataframe thead th {\n",
       "        text-align: right;\n",
       "    }\n",
       "</style>\n",
       "<table border=\"1\" class=\"dataframe\">\n",
       "  <thead>\n",
       "    <tr style=\"text-align: right;\">\n",
       "      <th></th>\n",
       "      <th>name</th>\n",
       "      <th>review</th>\n",
       "      <th>length</th>\n",
       "      <th>lang</th>\n",
       "    </tr>\n",
       "  </thead>\n",
       "  <tbody>\n",
       "    <tr>\n",
       "      <th>808826</th>\n",
       "      <td>George Killians Irish Red</td>\n",
       "      <td>I like this beer, it tastes good and has a goo...</td>\n",
       "      <td>119.0</td>\n",
       "      <td>e</td>\n",
       "    </tr>\n",
       "    <tr>\n",
       "      <th>804739</th>\n",
       "      <td>Blue Moon Winter Abbey Ale</td>\n",
       "      <td>Thankfully I with beer expert Justin Greene @w...</td>\n",
       "      <td>274.0</td>\n",
       "      <td>e</td>\n",
       "    </tr>\n",
       "    <tr>\n",
       "      <th>660030</th>\n",
       "      <td>Cigar City Humidor Series Juniper Jai Alai IPA</td>\n",
       "      <td>Entering old rates. 2010 originally as Twigs a...</td>\n",
       "      <td>393.0</td>\n",
       "      <td>e</td>\n",
       "    </tr>\n",
       "    <tr>\n",
       "      <th>495579</th>\n",
       "      <td>Stillwater/Olivers Channel Crossing</td>\n",
       "      <td>Draft @ Capones. Brown pour with tan head. Swe...</td>\n",
       "      <td>144.0</td>\n",
       "      <td>e</td>\n",
       "    </tr>\n",
       "    <tr>\n",
       "      <th>285990</th>\n",
       "      <td>Alpine Beer Company Willy</td>\n",
       "      <td>Meh, not to impressed with this. Wheaty nose a...</td>\n",
       "      <td>126.0</td>\n",
       "      <td>e</td>\n",
       "    </tr>\n",
       "    <tr>\n",
       "      <th>...</th>\n",
       "      <td>...</td>\n",
       "      <td>...</td>\n",
       "      <td>...</td>\n",
       "      <td>...</td>\n",
       "    </tr>\n",
       "    <tr>\n",
       "      <th>579386</th>\n",
       "      <td>Melbourn Brothers Strawberry</td>\n",
       "      <td>Noticably more red - basically an amber - than...</td>\n",
       "      <td>270.0</td>\n",
       "      <td>e</td>\n",
       "    </tr>\n",
       "    <tr>\n",
       "      <th>72757</th>\n",
       "      <td>Lagunitas New DogTown Pale Ale</td>\n",
       "      <td>Several on Draught at the Black Crowes shows a...</td>\n",
       "      <td>473.0</td>\n",
       "      <td>e</td>\n",
       "    </tr>\n",
       "    <tr>\n",
       "      <th>1010603</th>\n",
       "      <td>North Coast Red Seal Ale</td>\n",
       "      <td>Poured a copper color with minimal head. Hoppy...</td>\n",
       "      <td>126.0</td>\n",
       "      <td>e</td>\n",
       "    </tr>\n",
       "    <tr>\n",
       "      <th>658246</th>\n",
       "      <td>Cigar City Maduro Oatmeal Brown Ale - Vanilla ...</td>\n",
       "      <td>Pours a standard medioum brown with a small am...</td>\n",
       "      <td>377.0</td>\n",
       "      <td>e</td>\n",
       "    </tr>\n",
       "    <tr>\n",
       "      <th>470928</th>\n",
       "      <td>AleSmith X</td>\n",
       "      <td>Pale yellow with thick white head. Aroma of ci...</td>\n",
       "      <td>203.0</td>\n",
       "      <td>e</td>\n",
       "    </tr>\n",
       "  </tbody>\n",
       "</table>\n",
       "<p>13780 rows × 4 columns</p>\n",
       "</div>"
      ],
      "text/plain": [
       "                                                      name  \\\n",
       "808826                          George Killians Irish Red    \n",
       "804739                          Blue Moon Winter Abbey Ale   \n",
       "660030      Cigar City Humidor Series Juniper Jai Alai IPA   \n",
       "495579                 Stillwater/Olivers Channel Crossing   \n",
       "285990                           Alpine Beer Company Willy   \n",
       "...                                                    ...   \n",
       "579386                        Melbourn Brothers Strawberry   \n",
       "72757                       Lagunitas New DogTown Pale Ale   \n",
       "1010603                           North Coast Red Seal Ale   \n",
       "658246   Cigar City Maduro Oatmeal Brown Ale - Vanilla ...   \n",
       "470928                                          AleSmith X   \n",
       "\n",
       "                                                    review  length lang  \n",
       "808826   I like this beer, it tastes good and has a goo...   119.0    e  \n",
       "804739   Thankfully I with beer expert Justin Greene @w...   274.0    e  \n",
       "660030   Entering old rates. 2010 originally as Twigs a...   393.0    e  \n",
       "495579   Draft @ Capones. Brown pour with tan head. Swe...   144.0    e  \n",
       "285990   Meh, not to impressed with this. Wheaty nose a...   126.0    e  \n",
       "...                                                    ...     ...  ...  \n",
       "579386   Noticably more red - basically an amber - than...   270.0    e  \n",
       "72757    Several on Draught at the Black Crowes shows a...   473.0    e  \n",
       "1010603  Poured a copper color with minimal head. Hoppy...   126.0    e  \n",
       "658246   Pours a standard medioum brown with a small am...   377.0    e  \n",
       "470928   Pale yellow with thick white head. Aroma of ci...   203.0    e  \n",
       "\n",
       "[13780 rows x 4 columns]"
      ]
     },
     "execution_count": 17,
     "metadata": {},
     "output_type": "execute_result"
    }
   ],
   "source": [
    "# Removing non english reviews and Keeping only reviews in english\n",
    "\n",
    "reviews_e = reviews.loc[lambda reviews: reviews['lang'] == 'e']\n",
    "reviews_e"
   ]
  },
  {
   "cell_type": "code",
   "execution_count": 18,
   "metadata": {},
   "outputs": [
    {
     "name": "stdout",
     "output_type": "stream",
     "text": [
      "Average Length: 321.93026296672963\n",
      "Longest Review: 3696.0\n",
      "Shortest Review: 6.0\n"
     ]
    }
   ],
   "source": [
    "avg_length_e = reviews_e.length.mean()\n",
    "longest_review_e = reviews_e['length'].max()\n",
    "shortest_review_e = reviews_e['length'].min()\n",
    "print('Average Length: {}'.format(avg_length_e))\n",
    "print('Longest Review: {}'.format(longest_review_e))\n",
    "print('Shortest Review: {}'.format(shortest_review_e))"
   ]
  },
  {
   "cell_type": "code",
   "execution_count": 19,
   "metadata": {},
   "outputs": [
    {
     "name": "stderr",
     "output_type": "stream",
     "text": [
      "/opt/anaconda3/lib/python3.7/site-packages/ipykernel_launcher.py:1: SettingWithCopyWarning: \n",
      "A value is trying to be set on a copy of a slice from a DataFrame.\n",
      "Try using .loc[row_indexer,col_indexer] = value instead\n",
      "\n",
      "See the caveats in the documentation: https://pandas.pydata.org/pandas-docs/stable/user_guide/indexing.html#returning-a-view-versus-a-copy\n",
      "  \"\"\"Entry point for launching an IPython kernel.\n"
     ]
    }
   ],
   "source": [
    "reviews_e['review'] = reviews_e['review'].astype(str)"
   ]
  },
  {
   "cell_type": "code",
   "execution_count": 20,
   "metadata": {},
   "outputs": [
    {
     "name": "stderr",
     "output_type": "stream",
     "text": [
      "/opt/anaconda3/lib/python3.7/site-packages/ipykernel_launcher.py:1: SettingWithCopyWarning: \n",
      "A value is trying to be set on a copy of a slice from a DataFrame.\n",
      "Try using .loc[row_indexer,col_indexer] = value instead\n",
      "\n",
      "See the caveats in the documentation: https://pandas.pydata.org/pandas-docs/stable/user_guide/indexing.html#returning-a-view-versus-a-copy\n",
      "  \"\"\"Entry point for launching an IPython kernel.\n"
     ]
    }
   ],
   "source": [
    "reviews_e['sentiment'] = round(reviews_e['review'].apply(lambda x: TextBlob(x).sentiment[0]),2)"
   ]
  },
  {
   "cell_type": "code",
   "execution_count": 21,
   "metadata": {},
   "outputs": [
    {
     "data": {
      "text/html": [
       "<div>\n",
       "<style scoped>\n",
       "    .dataframe tbody tr th:only-of-type {\n",
       "        vertical-align: middle;\n",
       "    }\n",
       "\n",
       "    .dataframe tbody tr th {\n",
       "        vertical-align: top;\n",
       "    }\n",
       "\n",
       "    .dataframe thead th {\n",
       "        text-align: right;\n",
       "    }\n",
       "</style>\n",
       "<table border=\"1\" class=\"dataframe\">\n",
       "  <thead>\n",
       "    <tr style=\"text-align: right;\">\n",
       "      <th></th>\n",
       "      <th>name</th>\n",
       "      <th>review</th>\n",
       "      <th>length</th>\n",
       "      <th>lang</th>\n",
       "      <th>sentiment</th>\n",
       "    </tr>\n",
       "  </thead>\n",
       "  <tbody>\n",
       "    <tr>\n",
       "      <th>808826</th>\n",
       "      <td>George Killians Irish Red</td>\n",
       "      <td>I like this beer, it tastes good and has a goo...</td>\n",
       "      <td>119.0</td>\n",
       "      <td>e</td>\n",
       "      <td>0.51</td>\n",
       "    </tr>\n",
       "    <tr>\n",
       "      <th>804739</th>\n",
       "      <td>Blue Moon Winter Abbey Ale</td>\n",
       "      <td>Thankfully I with beer expert Justin Greene @w...</td>\n",
       "      <td>274.0</td>\n",
       "      <td>e</td>\n",
       "      <td>-0.13</td>\n",
       "    </tr>\n",
       "    <tr>\n",
       "      <th>660030</th>\n",
       "      <td>Cigar City Humidor Series Juniper Jai Alai IPA</td>\n",
       "      <td>Entering old rates. 2010 originally as Twigs a...</td>\n",
       "      <td>393.0</td>\n",
       "      <td>e</td>\n",
       "      <td>0.09</td>\n",
       "    </tr>\n",
       "    <tr>\n",
       "      <th>495579</th>\n",
       "      <td>Stillwater/Olivers Channel Crossing</td>\n",
       "      <td>Draft @ Capones. Brown pour with tan head. Swe...</td>\n",
       "      <td>144.0</td>\n",
       "      <td>e</td>\n",
       "      <td>0.22</td>\n",
       "    </tr>\n",
       "    <tr>\n",
       "      <th>285990</th>\n",
       "      <td>Alpine Beer Company Willy</td>\n",
       "      <td>Meh, not to impressed with this. Wheaty nose a...</td>\n",
       "      <td>126.0</td>\n",
       "      <td>e</td>\n",
       "      <td>1.00</td>\n",
       "    </tr>\n",
       "    <tr>\n",
       "      <th>...</th>\n",
       "      <td>...</td>\n",
       "      <td>...</td>\n",
       "      <td>...</td>\n",
       "      <td>...</td>\n",
       "      <td>...</td>\n",
       "    </tr>\n",
       "    <tr>\n",
       "      <th>579386</th>\n",
       "      <td>Melbourn Brothers Strawberry</td>\n",
       "      <td>Noticably more red - basically an amber - than...</td>\n",
       "      <td>270.0</td>\n",
       "      <td>e</td>\n",
       "      <td>0.38</td>\n",
       "    </tr>\n",
       "    <tr>\n",
       "      <th>72757</th>\n",
       "      <td>Lagunitas New DogTown Pale Ale</td>\n",
       "      <td>Several on Draught at the Black Crowes shows a...</td>\n",
       "      <td>473.0</td>\n",
       "      <td>e</td>\n",
       "      <td>0.20</td>\n",
       "    </tr>\n",
       "    <tr>\n",
       "      <th>1010603</th>\n",
       "      <td>North Coast Red Seal Ale</td>\n",
       "      <td>Poured a copper color with minimal head. Hoppy...</td>\n",
       "      <td>126.0</td>\n",
       "      <td>e</td>\n",
       "      <td>0.20</td>\n",
       "    </tr>\n",
       "    <tr>\n",
       "      <th>658246</th>\n",
       "      <td>Cigar City Maduro Oatmeal Brown Ale - Vanilla ...</td>\n",
       "      <td>Pours a standard medioum brown with a small am...</td>\n",
       "      <td>377.0</td>\n",
       "      <td>e</td>\n",
       "      <td>0.03</td>\n",
       "    </tr>\n",
       "    <tr>\n",
       "      <th>470928</th>\n",
       "      <td>AleSmith X</td>\n",
       "      <td>Pale yellow with thick white head. Aroma of ci...</td>\n",
       "      <td>203.0</td>\n",
       "      <td>e</td>\n",
       "      <td>0.02</td>\n",
       "    </tr>\n",
       "  </tbody>\n",
       "</table>\n",
       "<p>13780 rows × 5 columns</p>\n",
       "</div>"
      ],
      "text/plain": [
       "                                                      name  \\\n",
       "808826                          George Killians Irish Red    \n",
       "804739                          Blue Moon Winter Abbey Ale   \n",
       "660030      Cigar City Humidor Series Juniper Jai Alai IPA   \n",
       "495579                 Stillwater/Olivers Channel Crossing   \n",
       "285990                           Alpine Beer Company Willy   \n",
       "...                                                    ...   \n",
       "579386                        Melbourn Brothers Strawberry   \n",
       "72757                       Lagunitas New DogTown Pale Ale   \n",
       "1010603                           North Coast Red Seal Ale   \n",
       "658246   Cigar City Maduro Oatmeal Brown Ale - Vanilla ...   \n",
       "470928                                          AleSmith X   \n",
       "\n",
       "                                                    review  length lang  \\\n",
       "808826   I like this beer, it tastes good and has a goo...   119.0    e   \n",
       "804739   Thankfully I with beer expert Justin Greene @w...   274.0    e   \n",
       "660030   Entering old rates. 2010 originally as Twigs a...   393.0    e   \n",
       "495579   Draft @ Capones. Brown pour with tan head. Swe...   144.0    e   \n",
       "285990   Meh, not to impressed with this. Wheaty nose a...   126.0    e   \n",
       "...                                                    ...     ...  ...   \n",
       "579386   Noticably more red - basically an amber - than...   270.0    e   \n",
       "72757    Several on Draught at the Black Crowes shows a...   473.0    e   \n",
       "1010603  Poured a copper color with minimal head. Hoppy...   126.0    e   \n",
       "658246   Pours a standard medioum brown with a small am...   377.0    e   \n",
       "470928   Pale yellow with thick white head. Aroma of ci...   203.0    e   \n",
       "\n",
       "         sentiment  \n",
       "808826        0.51  \n",
       "804739       -0.13  \n",
       "660030        0.09  \n",
       "495579        0.22  \n",
       "285990        1.00  \n",
       "...            ...  \n",
       "579386        0.38  \n",
       "72757         0.20  \n",
       "1010603       0.20  \n",
       "658246        0.03  \n",
       "470928        0.02  \n",
       "\n",
       "[13780 rows x 5 columns]"
      ]
     },
     "execution_count": 21,
     "metadata": {},
     "output_type": "execute_result"
    }
   ],
   "source": [
    "reviews_e"
   ]
  },
  {
   "cell_type": "code",
   "execution_count": 22,
   "metadata": {},
   "outputs": [
    {
     "name": "stdout",
     "output_type": "stream",
     "text": [
      "<class 'pandas.core.frame.DataFrame'>\n",
      "Int64Index: 13780 entries, 808826 to 470928\n",
      "Data columns (total 5 columns):\n",
      " #   Column     Non-Null Count  Dtype  \n",
      "---  ------     --------------  -----  \n",
      " 0   name       13780 non-null  object \n",
      " 1   review     13780 non-null  object \n",
      " 2   length     13766 non-null  float64\n",
      " 3   lang       13780 non-null  object \n",
      " 4   sentiment  13780 non-null  float64\n",
      "dtypes: float64(2), object(3)\n",
      "memory usage: 645.9+ KB\n"
     ]
    }
   ],
   "source": [
    "reviews_e.info()"
   ]
  },
  {
   "cell_type": "code",
   "execution_count": 23,
   "metadata": {},
   "outputs": [],
   "source": [
    "reviews_1 = reviews_e"
   ]
  },
  {
   "cell_type": "code",
   "execution_count": 24,
   "metadata": {},
   "outputs": [],
   "source": [
    "reviews_1.reset_index(drop=True, inplace=True)"
   ]
  },
  {
   "cell_type": "code",
   "execution_count": 25,
   "metadata": {},
   "outputs": [
    {
     "data": {
      "text/html": [
       "<div>\n",
       "<style scoped>\n",
       "    .dataframe tbody tr th:only-of-type {\n",
       "        vertical-align: middle;\n",
       "    }\n",
       "\n",
       "    .dataframe tbody tr th {\n",
       "        vertical-align: top;\n",
       "    }\n",
       "\n",
       "    .dataframe thead th {\n",
       "        text-align: right;\n",
       "    }\n",
       "</style>\n",
       "<table border=\"1\" class=\"dataframe\">\n",
       "  <thead>\n",
       "    <tr style=\"text-align: right;\">\n",
       "      <th></th>\n",
       "      <th>name</th>\n",
       "      <th>review</th>\n",
       "      <th>length</th>\n",
       "      <th>lang</th>\n",
       "      <th>sentiment</th>\n",
       "    </tr>\n",
       "  </thead>\n",
       "  <tbody>\n",
       "    <tr>\n",
       "      <th>0</th>\n",
       "      <td>George Killians Irish Red</td>\n",
       "      <td>I like this beer, it tastes good and has a goo...</td>\n",
       "      <td>119.0</td>\n",
       "      <td>e</td>\n",
       "      <td>0.51</td>\n",
       "    </tr>\n",
       "    <tr>\n",
       "      <th>1</th>\n",
       "      <td>Blue Moon Winter Abbey Ale</td>\n",
       "      <td>Thankfully I with beer expert Justin Greene @w...</td>\n",
       "      <td>274.0</td>\n",
       "      <td>e</td>\n",
       "      <td>-0.13</td>\n",
       "    </tr>\n",
       "    <tr>\n",
       "      <th>2</th>\n",
       "      <td>Cigar City Humidor Series Juniper Jai Alai IPA</td>\n",
       "      <td>Entering old rates. 2010 originally as Twigs a...</td>\n",
       "      <td>393.0</td>\n",
       "      <td>e</td>\n",
       "      <td>0.09</td>\n",
       "    </tr>\n",
       "    <tr>\n",
       "      <th>3</th>\n",
       "      <td>Stillwater/Olivers Channel Crossing</td>\n",
       "      <td>Draft @ Capones. Brown pour with tan head. Swe...</td>\n",
       "      <td>144.0</td>\n",
       "      <td>e</td>\n",
       "      <td>0.22</td>\n",
       "    </tr>\n",
       "    <tr>\n",
       "      <th>4</th>\n",
       "      <td>Alpine Beer Company Willy</td>\n",
       "      <td>Meh, not to impressed with this. Wheaty nose a...</td>\n",
       "      <td>126.0</td>\n",
       "      <td>e</td>\n",
       "      <td>1.00</td>\n",
       "    </tr>\n",
       "  </tbody>\n",
       "</table>\n",
       "</div>"
      ],
      "text/plain": [
       "                                             name  \\\n",
       "0                      George Killians Irish Red    \n",
       "1                      Blue Moon Winter Abbey Ale   \n",
       "2  Cigar City Humidor Series Juniper Jai Alai IPA   \n",
       "3             Stillwater/Olivers Channel Crossing   \n",
       "4                       Alpine Beer Company Willy   \n",
       "\n",
       "                                              review  length lang  sentiment  \n",
       "0  I like this beer, it tastes good and has a goo...   119.0    e       0.51  \n",
       "1  Thankfully I with beer expert Justin Greene @w...   274.0    e      -0.13  \n",
       "2  Entering old rates. 2010 originally as Twigs a...   393.0    e       0.09  \n",
       "3  Draft @ Capones. Brown pour with tan head. Swe...   144.0    e       0.22  \n",
       "4  Meh, not to impressed with this. Wheaty nose a...   126.0    e       1.00  "
      ]
     },
     "execution_count": 25,
     "metadata": {},
     "output_type": "execute_result"
    }
   ],
   "source": [
    "reviews_1.head()"
   ]
  },
  {
   "cell_type": "code",
   "execution_count": 26,
   "metadata": {},
   "outputs": [],
   "source": [
    "sentiment_1 = []\n",
    "\n",
    "for i in range(len(reviews_1)):\n",
    "    if reviews_1.sentiment[i] >= 0.10:\n",
    "        sentiment_1.append(2)\n",
    "    elif reviews_1.sentiment[i] >= -0.10:\n",
    "        sentiment_1.append(0)\n",
    "    else:\n",
    "        sentiment_1.append(1)"
   ]
  },
  {
   "cell_type": "code",
   "execution_count": 27,
   "metadata": {},
   "outputs": [
    {
     "name": "stderr",
     "output_type": "stream",
     "text": [
      "/opt/anaconda3/lib/python3.7/site-packages/ipykernel_launcher.py:1: SettingWithCopyWarning: \n",
      "A value is trying to be set on a copy of a slice from a DataFrame.\n",
      "Try using .loc[row_indexer,col_indexer] = value instead\n",
      "\n",
      "See the caveats in the documentation: https://pandas.pydata.org/pandas-docs/stable/user_guide/indexing.html#returning-a-view-versus-a-copy\n",
      "  \"\"\"Entry point for launching an IPython kernel.\n"
     ]
    }
   ],
   "source": [
    "reviews_1['sentiment_1'] = sentiment_1"
   ]
  },
  {
   "cell_type": "code",
   "execution_count": 28,
   "metadata": {},
   "outputs": [
    {
     "data": {
      "text/html": [
       "<div>\n",
       "<style scoped>\n",
       "    .dataframe tbody tr th:only-of-type {\n",
       "        vertical-align: middle;\n",
       "    }\n",
       "\n",
       "    .dataframe tbody tr th {\n",
       "        vertical-align: top;\n",
       "    }\n",
       "\n",
       "    .dataframe thead th {\n",
       "        text-align: right;\n",
       "    }\n",
       "</style>\n",
       "<table border=\"1\" class=\"dataframe\">\n",
       "  <thead>\n",
       "    <tr style=\"text-align: right;\">\n",
       "      <th></th>\n",
       "      <th>name</th>\n",
       "      <th>review</th>\n",
       "      <th>length</th>\n",
       "      <th>lang</th>\n",
       "      <th>sentiment</th>\n",
       "      <th>sentiment_1</th>\n",
       "    </tr>\n",
       "  </thead>\n",
       "  <tbody>\n",
       "    <tr>\n",
       "      <th>0</th>\n",
       "      <td>George Killians Irish Red</td>\n",
       "      <td>I like this beer, it tastes good and has a goo...</td>\n",
       "      <td>119.0</td>\n",
       "      <td>e</td>\n",
       "      <td>0.51</td>\n",
       "      <td>2</td>\n",
       "    </tr>\n",
       "    <tr>\n",
       "      <th>1</th>\n",
       "      <td>Blue Moon Winter Abbey Ale</td>\n",
       "      <td>Thankfully I with beer expert Justin Greene @w...</td>\n",
       "      <td>274.0</td>\n",
       "      <td>e</td>\n",
       "      <td>-0.13</td>\n",
       "      <td>1</td>\n",
       "    </tr>\n",
       "    <tr>\n",
       "      <th>2</th>\n",
       "      <td>Cigar City Humidor Series Juniper Jai Alai IPA</td>\n",
       "      <td>Entering old rates. 2010 originally as Twigs a...</td>\n",
       "      <td>393.0</td>\n",
       "      <td>e</td>\n",
       "      <td>0.09</td>\n",
       "      <td>0</td>\n",
       "    </tr>\n",
       "    <tr>\n",
       "      <th>3</th>\n",
       "      <td>Stillwater/Olivers Channel Crossing</td>\n",
       "      <td>Draft @ Capones. Brown pour with tan head. Swe...</td>\n",
       "      <td>144.0</td>\n",
       "      <td>e</td>\n",
       "      <td>0.22</td>\n",
       "      <td>2</td>\n",
       "    </tr>\n",
       "    <tr>\n",
       "      <th>4</th>\n",
       "      <td>Alpine Beer Company Willy</td>\n",
       "      <td>Meh, not to impressed with this. Wheaty nose a...</td>\n",
       "      <td>126.0</td>\n",
       "      <td>e</td>\n",
       "      <td>1.00</td>\n",
       "      <td>2</td>\n",
       "    </tr>\n",
       "    <tr>\n",
       "      <th>...</th>\n",
       "      <td>...</td>\n",
       "      <td>...</td>\n",
       "      <td>...</td>\n",
       "      <td>...</td>\n",
       "      <td>...</td>\n",
       "      <td>...</td>\n",
       "    </tr>\n",
       "    <tr>\n",
       "      <th>13775</th>\n",
       "      <td>Melbourn Brothers Strawberry</td>\n",
       "      <td>Noticably more red - basically an amber - than...</td>\n",
       "      <td>270.0</td>\n",
       "      <td>e</td>\n",
       "      <td>0.38</td>\n",
       "      <td>2</td>\n",
       "    </tr>\n",
       "    <tr>\n",
       "      <th>13776</th>\n",
       "      <td>Lagunitas New DogTown Pale Ale</td>\n",
       "      <td>Several on Draught at the Black Crowes shows a...</td>\n",
       "      <td>473.0</td>\n",
       "      <td>e</td>\n",
       "      <td>0.20</td>\n",
       "      <td>2</td>\n",
       "    </tr>\n",
       "    <tr>\n",
       "      <th>13777</th>\n",
       "      <td>North Coast Red Seal Ale</td>\n",
       "      <td>Poured a copper color with minimal head. Hoppy...</td>\n",
       "      <td>126.0</td>\n",
       "      <td>e</td>\n",
       "      <td>0.20</td>\n",
       "      <td>2</td>\n",
       "    </tr>\n",
       "    <tr>\n",
       "      <th>13778</th>\n",
       "      <td>Cigar City Maduro Oatmeal Brown Ale - Vanilla ...</td>\n",
       "      <td>Pours a standard medioum brown with a small am...</td>\n",
       "      <td>377.0</td>\n",
       "      <td>e</td>\n",
       "      <td>0.03</td>\n",
       "      <td>0</td>\n",
       "    </tr>\n",
       "    <tr>\n",
       "      <th>13779</th>\n",
       "      <td>AleSmith X</td>\n",
       "      <td>Pale yellow with thick white head. Aroma of ci...</td>\n",
       "      <td>203.0</td>\n",
       "      <td>e</td>\n",
       "      <td>0.02</td>\n",
       "      <td>0</td>\n",
       "    </tr>\n",
       "  </tbody>\n",
       "</table>\n",
       "<p>13780 rows × 6 columns</p>\n",
       "</div>"
      ],
      "text/plain": [
       "                                                    name  \\\n",
       "0                             George Killians Irish Red    \n",
       "1                             Blue Moon Winter Abbey Ale   \n",
       "2         Cigar City Humidor Series Juniper Jai Alai IPA   \n",
       "3                    Stillwater/Olivers Channel Crossing   \n",
       "4                              Alpine Beer Company Willy   \n",
       "...                                                  ...   \n",
       "13775                       Melbourn Brothers Strawberry   \n",
       "13776                     Lagunitas New DogTown Pale Ale   \n",
       "13777                           North Coast Red Seal Ale   \n",
       "13778  Cigar City Maduro Oatmeal Brown Ale - Vanilla ...   \n",
       "13779                                         AleSmith X   \n",
       "\n",
       "                                                  review  length lang  \\\n",
       "0      I like this beer, it tastes good and has a goo...   119.0    e   \n",
       "1      Thankfully I with beer expert Justin Greene @w...   274.0    e   \n",
       "2      Entering old rates. 2010 originally as Twigs a...   393.0    e   \n",
       "3      Draft @ Capones. Brown pour with tan head. Swe...   144.0    e   \n",
       "4      Meh, not to impressed with this. Wheaty nose a...   126.0    e   \n",
       "...                                                  ...     ...  ...   \n",
       "13775  Noticably more red - basically an amber - than...   270.0    e   \n",
       "13776  Several on Draught at the Black Crowes shows a...   473.0    e   \n",
       "13777  Poured a copper color with minimal head. Hoppy...   126.0    e   \n",
       "13778  Pours a standard medioum brown with a small am...   377.0    e   \n",
       "13779  Pale yellow with thick white head. Aroma of ci...   203.0    e   \n",
       "\n",
       "       sentiment  sentiment_1  \n",
       "0           0.51            2  \n",
       "1          -0.13            1  \n",
       "2           0.09            0  \n",
       "3           0.22            2  \n",
       "4           1.00            2  \n",
       "...          ...          ...  \n",
       "13775       0.38            2  \n",
       "13776       0.20            2  \n",
       "13777       0.20            2  \n",
       "13778       0.03            0  \n",
       "13779       0.02            0  \n",
       "\n",
       "[13780 rows x 6 columns]"
      ]
     },
     "execution_count": 28,
     "metadata": {},
     "output_type": "execute_result"
    }
   ],
   "source": [
    "reviews_1"
   ]
  },
  {
   "cell_type": "code",
   "execution_count": 29,
   "metadata": {},
   "outputs": [
    {
     "data": {
      "text/plain": [
       "2    9033\n",
       "0    4039\n",
       "1     708\n",
       "Name: sentiment_1, dtype: int64"
      ]
     },
     "execution_count": 29,
     "metadata": {},
     "output_type": "execute_result"
    }
   ],
   "source": [
    "reviews_1['sentiment_1'].value_counts()"
   ]
  },
  {
   "cell_type": "code",
   "execution_count": 30,
   "metadata": {},
   "outputs": [
    {
     "name": "stdout",
     "output_type": "stream",
     "text": [
      "<class 'pandas.core.frame.DataFrame'>\n",
      "RangeIndex: 13780 entries, 0 to 13779\n",
      "Data columns (total 6 columns):\n",
      " #   Column       Non-Null Count  Dtype  \n",
      "---  ------       --------------  -----  \n",
      " 0   name         13780 non-null  object \n",
      " 1   review       13780 non-null  object \n",
      " 2   length       13766 non-null  float64\n",
      " 3   lang         13780 non-null  object \n",
      " 4   sentiment    13780 non-null  float64\n",
      " 5   sentiment_1  13780 non-null  int64  \n",
      "dtypes: float64(2), int64(1), object(3)\n",
      "memory usage: 646.1+ KB\n"
     ]
    }
   ],
   "source": [
    "reviews_1.info()"
   ]
  },
  {
   "cell_type": "code",
   "execution_count": 31,
   "metadata": {},
   "outputs": [],
   "source": [
    "positive = []\n",
    "negative = []\n",
    "neutral = []\n",
    "\n",
    "for i in range(len(reviews_1.sentiment_1)-1):\n",
    "    if reviews_1.sentiment_1[i] == 2:\n",
    "        positive.append(reviews_1.review[i])\n",
    "    elif reviews_1.sentiment_1[i] == 1:\n",
    "        negative.append(reviews_1.review[i])\n",
    "    else:\n",
    "        neutral.append(reviews_1.review[i])\n",
    "   "
   ]
  },
  {
   "cell_type": "code",
   "execution_count": 32,
   "metadata": {},
   "outputs": [
    {
     "data": {
      "text/plain": [
       "702"
      ]
     },
     "execution_count": 32,
     "metadata": {},
     "output_type": "execute_result"
    }
   ],
   "source": [
    "len(review)"
   ]
  },
  {
   "cell_type": "code",
   "execution_count": 33,
   "metadata": {},
   "outputs": [
    {
     "name": "stdout",
     "output_type": "stream",
     "text": [
      "9033\n",
      "708\n",
      "4038\n"
     ]
    }
   ],
   "source": [
    "print(len(positive))\n",
    "print(len(negative))\n",
    "print(len(neutral))"
   ]
  },
  {
   "cell_type": "code",
   "execution_count": 34,
   "metadata": {},
   "outputs": [],
   "source": [
    "positive_string = str(positive)\n",
    "negative_string = str(negative)\n",
    "neutral_string = str(neutral)"
   ]
  },
  {
   "cell_type": "code",
   "execution_count": 35,
   "metadata": {},
   "outputs": [],
   "source": [
    "# my_stop_words = ENGLISH_STOP_WORDS.union(['Aroma', 'head', 'is'])\n",
    "stop_words = ['Aroma', 'head', 'is']+list(STOPWORDS)"
   ]
  },
  {
   "cell_type": "code",
   "execution_count": 36,
   "metadata": {},
   "outputs": [
    {
     "data": {
      "image/png": "[encoded data removed]",
      "text/plain": [
       "<Figure size 432x288 with 1 Axes>"
      ]
     },
     "metadata": {
      "needs_background": "light"
     },
     "output_type": "display_data"
    }
   ],
   "source": [
    "positive_cloud = WordCloud(stopwords = stop_words).generate(positive_string)\n",
    "plt.imshow(positive_cloud, interpolation='bilinear')\n",
    "plt.axis('off')\n",
    "plt.show()"
   ]
  },
  {
   "cell_type": "code",
   "execution_count": 37,
   "metadata": {},
   "outputs": [
    {
     "data": {
      "image/png": "[encoded data removed]",
      "text/plain": [
       "<Figure size 432x288 with 1 Axes>"
      ]
     },
     "metadata": {
      "needs_background": "light"
     },
     "output_type": "display_data"
    }
   ],
   "source": [
    "negative_cloud = WordCloud(stopwords = stop_words).generate(negative_string)\n",
    "plt.imshow(negative_cloud, interpolation='bilinear')\n",
    "plt.axis('off')\n",
    "plt.show()"
   ]
  },
  {
   "cell_type": "code",
   "execution_count": 38,
   "metadata": {},
   "outputs": [
    {
     "data": {
      "image/png": "[encoded data removed]",
      "text/plain": [
       "<Figure size 432x288 with 1 Axes>"
      ]
     },
     "metadata": {
      "needs_background": "light"
     },
     "output_type": "display_data"
    }
   ],
   "source": [
    "neutral_cloud = WordCloud(stopwords = stop_words).generate(neutral_string)\n",
    "plt.imshow(neutral_cloud, interpolation='bilinear')\n",
    "plt.axis('off')\n",
    "plt.show()"
   ]
  },
  {
   "cell_type": "code",
   "execution_count": 39,
   "metadata": {},
   "outputs": [
    {
     "data": {
      "text/html": [
       "<div>\n",
       "<style scoped>\n",
       "    .dataframe tbody tr th:only-of-type {\n",
       "        vertical-align: middle;\n",
       "    }\n",
       "\n",
       "    .dataframe tbody tr th {\n",
       "        vertical-align: top;\n",
       "    }\n",
       "\n",
       "    .dataframe thead th {\n",
       "        text-align: right;\n",
       "    }\n",
       "</style>\n",
       "<table border=\"1\" class=\"dataframe\">\n",
       "  <thead>\n",
       "    <tr style=\"text-align: right;\">\n",
       "      <th></th>\n",
       "      <th>name</th>\n",
       "      <th>review</th>\n",
       "      <th>sentiment_1</th>\n",
       "    </tr>\n",
       "  </thead>\n",
       "  <tbody>\n",
       "    <tr>\n",
       "      <th>0</th>\n",
       "      <td>George Killians Irish Red</td>\n",
       "      <td>I like this beer, it tastes good and has a goo...</td>\n",
       "      <td>2</td>\n",
       "    </tr>\n",
       "    <tr>\n",
       "      <th>1</th>\n",
       "      <td>Blue Moon Winter Abbey Ale</td>\n",
       "      <td>Thankfully I with beer expert Justin Greene @w...</td>\n",
       "      <td>1</td>\n",
       "    </tr>\n",
       "    <tr>\n",
       "      <th>2</th>\n",
       "      <td>Cigar City Humidor Series Juniper Jai Alai IPA</td>\n",
       "      <td>Entering old rates. 2010 originally as Twigs a...</td>\n",
       "      <td>0</td>\n",
       "    </tr>\n",
       "    <tr>\n",
       "      <th>3</th>\n",
       "      <td>Stillwater/Olivers Channel Crossing</td>\n",
       "      <td>Draft @ Capones. Brown pour with tan head. Swe...</td>\n",
       "      <td>2</td>\n",
       "    </tr>\n",
       "    <tr>\n",
       "      <th>4</th>\n",
       "      <td>Alpine Beer Company Willy</td>\n",
       "      <td>Meh, not to impressed with this. Wheaty nose a...</td>\n",
       "      <td>2</td>\n",
       "    </tr>\n",
       "  </tbody>\n",
       "</table>\n",
       "</div>"
      ],
      "text/plain": [
       "                                             name  \\\n",
       "0                      George Killians Irish Red    \n",
       "1                      Blue Moon Winter Abbey Ale   \n",
       "2  Cigar City Humidor Series Juniper Jai Alai IPA   \n",
       "3             Stillwater/Olivers Channel Crossing   \n",
       "4                       Alpine Beer Company Willy   \n",
       "\n",
       "                                              review  sentiment_1  \n",
       "0  I like this beer, it tastes good and has a goo...            2  \n",
       "1  Thankfully I with beer expert Justin Greene @w...            1  \n",
       "2  Entering old rates. 2010 originally as Twigs a...            0  \n",
       "3  Draft @ Capones. Brown pour with tan head. Swe...            2  \n",
       "4  Meh, not to impressed with this. Wheaty nose a...            2  "
      ]
     },
     "execution_count": 39,
     "metadata": {},
     "output_type": "execute_result"
    }
   ],
   "source": [
    "reviews_2 = reviews_1.drop(['length', 'lang', 'sentiment'], axis=1)\n",
    "reviews_2.head()"
   ]
  },
  {
   "cell_type": "code",
   "execution_count": 40,
   "metadata": {},
   "outputs": [
    {
     "name": "stdout",
     "output_type": "stream",
     "text": [
      "<class 'pandas.core.frame.DataFrame'>\n",
      "RangeIndex: 13780 entries, 0 to 13779\n",
      "Data columns (total 3 columns):\n",
      " #   Column       Non-Null Count  Dtype \n",
      "---  ------       --------------  ----- \n",
      " 0   name         13780 non-null  object\n",
      " 1   review       13780 non-null  object\n",
      " 2   sentiment_1  13780 non-null  int64 \n",
      "dtypes: int64(1), object(2)\n",
      "memory usage: 323.1+ KB\n"
     ]
    }
   ],
   "source": [
    "reviews_2.info()"
   ]
  },
  {
   "cell_type": "code",
   "execution_count": 41,
   "metadata": {},
   "outputs": [
    {
     "data": {
      "text/html": [
       "<div>\n",
       "<style scoped>\n",
       "    .dataframe tbody tr th:only-of-type {\n",
       "        vertical-align: middle;\n",
       "    }\n",
       "\n",
       "    .dataframe tbody tr th {\n",
       "        vertical-align: top;\n",
       "    }\n",
       "\n",
       "    .dataframe thead th {\n",
       "        text-align: right;\n",
       "    }\n",
       "</style>\n",
       "<table border=\"1\" class=\"dataframe\">\n",
       "  <thead>\n",
       "    <tr style=\"text-align: right;\">\n",
       "      <th></th>\n",
       "      <th>name</th>\n",
       "      <th>review</th>\n",
       "    </tr>\n",
       "  </thead>\n",
       "  <tbody>\n",
       "    <tr>\n",
       "      <th>0</th>\n",
       "      <td>George Killians Irish Red</td>\n",
       "      <td>I like this beer, it tastes good and has a goo...</td>\n",
       "    </tr>\n",
       "    <tr>\n",
       "      <th>1</th>\n",
       "      <td>Blue Moon Winter Abbey Ale</td>\n",
       "      <td>Thankfully I with beer expert Justin Greene @w...</td>\n",
       "    </tr>\n",
       "    <tr>\n",
       "      <th>2</th>\n",
       "      <td>Cigar City Humidor Series Juniper Jai Alai IPA</td>\n",
       "      <td>Entering old rates. 2010 originally as Twigs a...</td>\n",
       "    </tr>\n",
       "    <tr>\n",
       "      <th>3</th>\n",
       "      <td>Stillwater/Olivers Channel Crossing</td>\n",
       "      <td>Draft @ Capones. Brown pour with tan head. Swe...</td>\n",
       "    </tr>\n",
       "    <tr>\n",
       "      <th>4</th>\n",
       "      <td>Alpine Beer Company Willy</td>\n",
       "      <td>Meh, not to impressed with this. Wheaty nose a...</td>\n",
       "    </tr>\n",
       "  </tbody>\n",
       "</table>\n",
       "</div>"
      ],
      "text/plain": [
       "                                             name  \\\n",
       "0                      George Killians Irish Red    \n",
       "1                      Blue Moon Winter Abbey Ale   \n",
       "2  Cigar City Humidor Series Juniper Jai Alai IPA   \n",
       "3             Stillwater/Olivers Channel Crossing   \n",
       "4                       Alpine Beer Company Willy   \n",
       "\n",
       "                                              review  \n",
       "0  I like this beer, it tastes good and has a goo...  \n",
       "1  Thankfully I with beer expert Justin Greene @w...  \n",
       "2  Entering old rates. 2010 originally as Twigs a...  \n",
       "3  Draft @ Capones. Brown pour with tan head. Swe...  \n",
       "4  Meh, not to impressed with this. Wheaty nose a...  "
      ]
     },
     "execution_count": 41,
     "metadata": {},
     "output_type": "execute_result"
    }
   ],
   "source": [
    "X = reviews_2.drop('sentiment_1', axis=1)\n",
    "X.head()"
   ]
  },
  {
   "cell_type": "code",
   "execution_count": 42,
   "metadata": {},
   "outputs": [
    {
     "data": {
      "text/plain": [
       "0    2\n",
       "1    1\n",
       "2    0\n",
       "3    2\n",
       "4    2\n",
       "Name: sentiment_1, dtype: int64"
      ]
     },
     "execution_count": 42,
     "metadata": {},
     "output_type": "execute_result"
    }
   ],
   "source": [
    "y = reviews_2['sentiment_1']\n",
    "y.head()"
   ]
  },
  {
   "cell_type": "code",
   "execution_count": 43,
   "metadata": {},
   "outputs": [],
   "source": [
    "X_train, X_test, y_train, y_test = train_test_split(X, y, test_size=0.2, random_state=42, stratify=y)"
   ]
  },
  {
   "cell_type": "code",
   "execution_count": 44,
   "metadata": {},
   "outputs": [
    {
     "data": {
      "text/html": [
       "<div>\n",
       "<style scoped>\n",
       "    .dataframe tbody tr th:only-of-type {\n",
       "        vertical-align: middle;\n",
       "    }\n",
       "\n",
       "    .dataframe tbody tr th {\n",
       "        vertical-align: top;\n",
       "    }\n",
       "\n",
       "    .dataframe thead th {\n",
       "        text-align: right;\n",
       "    }\n",
       "</style>\n",
       "<table border=\"1\" class=\"dataframe\">\n",
       "  <thead>\n",
       "    <tr style=\"text-align: right;\">\n",
       "      <th></th>\n",
       "      <th>name</th>\n",
       "      <th>review</th>\n",
       "    </tr>\n",
       "  </thead>\n",
       "  <tbody>\n",
       "    <tr>\n",
       "      <th>6575</th>\n",
       "      <td>Samuel Smiths Oatmeal Stout</td>\n",
       "      <td>My favorite Oatmeal Stout to date, with a rich...</td>\n",
       "    </tr>\n",
       "    <tr>\n",
       "      <th>4977</th>\n",
       "      <td>Shorts Anniversary Ale Part Deux Original Version</td>\n",
       "      <td>12oz bottle purchased at the brewery. The arom...</td>\n",
       "    </tr>\n",
       "    <tr>\n",
       "      <th>4476</th>\n",
       "      <td>Iron Horse Brass Ass Brown Ale</td>\n",
       "      <td>clear brown with a small head. Aroma was sligh...</td>\n",
       "    </tr>\n",
       "    <tr>\n",
       "      <th>13295</th>\n",
       "      <td>Central Waters Mud Puppy Porter</td>\n",
       "      <td>As you bring the glass to your lips the roasty...</td>\n",
       "    </tr>\n",
       "    <tr>\n",
       "      <th>13442</th>\n",
       "      <td>Chimay Rouge &amp;#40;Red&amp;#41; / Première</td>\n",
       "      <td>bittersweet, my least favorite of the red whit...</td>\n",
       "    </tr>\n",
       "  </tbody>\n",
       "</table>\n",
       "</div>"
      ],
      "text/plain": [
       "                                                    name  \\\n",
       "6575                         Samuel Smiths Oatmeal Stout   \n",
       "4977   Shorts Anniversary Ale Part Deux Original Version   \n",
       "4476                      Iron Horse Brass Ass Brown Ale   \n",
       "13295                    Central Waters Mud Puppy Porter   \n",
       "13442              Chimay Rouge &#40;Red&#41; / Première   \n",
       "\n",
       "                                                  review  \n",
       "6575   My favorite Oatmeal Stout to date, with a rich...  \n",
       "4977   12oz bottle purchased at the brewery. The arom...  \n",
       "4476   clear brown with a small head. Aroma was sligh...  \n",
       "13295  As you bring the glass to your lips the roasty...  \n",
       "13442  bittersweet, my least favorite of the red whit...  "
      ]
     },
     "execution_count": 44,
     "metadata": {},
     "output_type": "execute_result"
    }
   ],
   "source": [
    "X_train.head()"
   ]
  },
  {
   "cell_type": "code",
   "execution_count": 45,
   "metadata": {},
   "outputs": [
    {
     "data": {
      "text/html": [
       "<div>\n",
       "<style scoped>\n",
       "    .dataframe tbody tr th:only-of-type {\n",
       "        vertical-align: middle;\n",
       "    }\n",
       "\n",
       "    .dataframe tbody tr th {\n",
       "        vertical-align: top;\n",
       "    }\n",
       "\n",
       "    .dataframe thead th {\n",
       "        text-align: right;\n",
       "    }\n",
       "</style>\n",
       "<table border=\"1\" class=\"dataframe\">\n",
       "  <thead>\n",
       "    <tr style=\"text-align: right;\">\n",
       "      <th></th>\n",
       "      <th>name</th>\n",
       "      <th>review</th>\n",
       "    </tr>\n",
       "  </thead>\n",
       "  <tbody>\n",
       "    <tr>\n",
       "      <th>9152</th>\n",
       "      <td>Iron Hill ESB</td>\n",
       "      <td>Draught at the West Chester location.  Sweet f...</td>\n",
       "    </tr>\n",
       "    <tr>\n",
       "      <th>43</th>\n",
       "      <td>Rock Bottom Portland Sunny Day IPA</td>\n",
       "      <td>Surprisingly tame nose.  well balanced from th...</td>\n",
       "    </tr>\n",
       "    <tr>\n",
       "      <th>1933</th>\n",
       "      <td>Rock Bottom Des Moines L’Ange Rouge</td>\n",
       "      <td>UPDATED: MAY 5, 2010 One of fourty-five beers ...</td>\n",
       "    </tr>\n",
       "    <tr>\n",
       "      <th>13413</th>\n",
       "      <td>Wizard Mother in Law</td>\n",
       "      <td>Cask conditioned at the Woolpack, Banbury, o...</td>\n",
       "    </tr>\n",
       "    <tr>\n",
       "      <th>999</th>\n",
       "      <td>Stone Double Bastard Ale</td>\n",
       "      <td>Bomber. This one pours amber with an off-white...</td>\n",
       "    </tr>\n",
       "  </tbody>\n",
       "</table>\n",
       "</div>"
      ],
      "text/plain": [
       "                                      name  \\\n",
       "9152                         Iron Hill ESB   \n",
       "43      Rock Bottom Portland Sunny Day IPA   \n",
       "1933   Rock Bottom Des Moines L’Ange Rouge   \n",
       "13413                 Wizard Mother in Law   \n",
       "999               Stone Double Bastard Ale   \n",
       "\n",
       "                                                  review  \n",
       "9152   Draught at the West Chester location.  Sweet f...  \n",
       "43     Surprisingly tame nose.  well balanced from th...  \n",
       "1933   UPDATED: MAY 5, 2010 One of fourty-five beers ...  \n",
       "13413    Cask conditioned at the Woolpack, Banbury, o...  \n",
       "999    Bomber. This one pours amber with an off-white...  "
      ]
     },
     "execution_count": 45,
     "metadata": {},
     "output_type": "execute_result"
    }
   ],
   "source": [
    "X_test.head()"
   ]
  },
  {
   "cell_type": "code",
   "execution_count": 46,
   "metadata": {},
   "outputs": [
    {
     "data": {
      "text/html": [
       "<div>\n",
       "<style scoped>\n",
       "    .dataframe tbody tr th:only-of-type {\n",
       "        vertical-align: middle;\n",
       "    }\n",
       "\n",
       "    .dataframe tbody tr th {\n",
       "        vertical-align: top;\n",
       "    }\n",
       "\n",
       "    .dataframe thead th {\n",
       "        text-align: right;\n",
       "    }\n",
       "</style>\n",
       "<table border=\"1\" class=\"dataframe\">\n",
       "  <thead>\n",
       "    <tr style=\"text-align: right;\">\n",
       "      <th></th>\n",
       "      <th>name</th>\n",
       "      <th>review</th>\n",
       "    </tr>\n",
       "  </thead>\n",
       "  <tbody>\n",
       "    <tr>\n",
       "      <th>0</th>\n",
       "      <td>Iron Hill ESB</td>\n",
       "      <td>Draught at the West Chester location.  Sweet f...</td>\n",
       "    </tr>\n",
       "    <tr>\n",
       "      <th>1</th>\n",
       "      <td>Rock Bottom Portland Sunny Day IPA</td>\n",
       "      <td>Surprisingly tame nose.  well balanced from th...</td>\n",
       "    </tr>\n",
       "    <tr>\n",
       "      <th>2</th>\n",
       "      <td>Rock Bottom Des Moines L’Ange Rouge</td>\n",
       "      <td>UPDATED: MAY 5, 2010 One of fourty-five beers ...</td>\n",
       "    </tr>\n",
       "    <tr>\n",
       "      <th>3</th>\n",
       "      <td>Wizard Mother in Law</td>\n",
       "      <td>Cask conditioned at the Woolpack, Banbury, o...</td>\n",
       "    </tr>\n",
       "    <tr>\n",
       "      <th>4</th>\n",
       "      <td>Stone Double Bastard Ale</td>\n",
       "      <td>Bomber. This one pours amber with an off-white...</td>\n",
       "    </tr>\n",
       "    <tr>\n",
       "      <th>...</th>\n",
       "      <td>...</td>\n",
       "      <td>...</td>\n",
       "    </tr>\n",
       "    <tr>\n",
       "      <th>2751</th>\n",
       "      <td>Half Acre Daisy Cutter</td>\n",
       "      <td>On draft at the Hyatt Regency in Chicago.  Pou...</td>\n",
       "    </tr>\n",
       "    <tr>\n",
       "      <th>2752</th>\n",
       "      <td>Porterhouse Wrasslers XXXX Stout</td>\n",
       "      <td>750ml bottle via trade.  What a pain in the as...</td>\n",
       "    </tr>\n",
       "    <tr>\n",
       "      <th>2753</th>\n",
       "      <td>Acme California IPA</td>\n",
       "      <td>Super-hoppy nose is lemony and herbal.  Dry an...</td>\n",
       "    </tr>\n",
       "    <tr>\n",
       "      <th>2754</th>\n",
       "      <td>Telegraph White Ale</td>\n",
       "      <td>My Bottom Line:\\t This classic Witbier focuses...</td>\n",
       "    </tr>\n",
       "    <tr>\n",
       "      <th>2755</th>\n",
       "      <td>New Forest Perry &amp;#40;Draught&amp;#41;</td>\n",
       "      <td>Barrel at Wenlock Arms, London. A hazy light y...</td>\n",
       "    </tr>\n",
       "  </tbody>\n",
       "</table>\n",
       "<p>2756 rows × 2 columns</p>\n",
       "</div>"
      ],
      "text/plain": [
       "                                     name  \\\n",
       "0                           Iron Hill ESB   \n",
       "1      Rock Bottom Portland Sunny Day IPA   \n",
       "2     Rock Bottom Des Moines L’Ange Rouge   \n",
       "3                    Wizard Mother in Law   \n",
       "4                Stone Double Bastard Ale   \n",
       "...                                   ...   \n",
       "2751               Half Acre Daisy Cutter   \n",
       "2752     Porterhouse Wrasslers XXXX Stout   \n",
       "2753                  Acme California IPA   \n",
       "2754                  Telegraph White Ale   \n",
       "2755   New Forest Perry &#40;Draught&#41;   \n",
       "\n",
       "                                                 review  \n",
       "0     Draught at the West Chester location.  Sweet f...  \n",
       "1     Surprisingly tame nose.  well balanced from th...  \n",
       "2     UPDATED: MAY 5, 2010 One of fourty-five beers ...  \n",
       "3       Cask conditioned at the Woolpack, Banbury, o...  \n",
       "4     Bomber. This one pours amber with an off-white...  \n",
       "...                                                 ...  \n",
       "2751  On draft at the Hyatt Regency in Chicago.  Pou...  \n",
       "2752  750ml bottle via trade.  What a pain in the as...  \n",
       "2753  Super-hoppy nose is lemony and herbal.  Dry an...  \n",
       "2754  My Bottom Line:\\t This classic Witbier focuses...  \n",
       "2755  Barrel at Wenlock Arms, London. A hazy light y...  \n",
       "\n",
       "[2756 rows x 2 columns]"
      ]
     },
     "execution_count": 46,
     "metadata": {},
     "output_type": "execute_result"
    }
   ],
   "source": [
    "X_test = X_test.reset_index().drop('index', axis=1)\n",
    "X_test"
   ]
  },
  {
   "cell_type": "code",
   "execution_count": null,
   "metadata": {},
   "outputs": [],
   "source": []
  },
  {
   "cell_type": "code",
   "execution_count": 47,
   "metadata": {},
   "outputs": [
    {
     "data": {
      "text/plain": [
       "CountVectorizer(analyzer='word', binary=False, decode_error='strict',\n",
       "                dtype=<class 'numpy.int64'>, encoding='utf-8', input='content',\n",
       "                lowercase=True, max_df=1.0, max_features=10000, min_df=1,\n",
       "                ngram_range=(1, 2), preprocessor=None, stop_words='english',\n",
       "                strip_accents=None, token_pattern='(?u)\\\\b\\\\w\\\\w+\\\\b',\n",
       "                tokenizer=None, vocabulary=None)"
      ]
     },
     "execution_count": 47,
     "metadata": {},
     "output_type": "execute_result"
    }
   ],
   "source": [
    "count_vect = CountVectorizer(ngram_range=(1,2), max_features=10000, stop_words='english')\n",
    "count_vect.fit(X_train.review)"
   ]
  },
  {
   "cell_type": "code",
   "execution_count": 48,
   "metadata": {},
   "outputs": [
    {
     "data": {
      "text/html": [
       "<div>\n",
       "<style scoped>\n",
       "    .dataframe tbody tr th:only-of-type {\n",
       "        vertical-align: middle;\n",
       "    }\n",
       "\n",
       "    .dataframe tbody tr th {\n",
       "        vertical-align: top;\n",
       "    }\n",
       "\n",
       "    .dataframe thead th {\n",
       "        text-align: right;\n",
       "    }\n",
       "</style>\n",
       "<table border=\"1\" class=\"dataframe\">\n",
       "  <thead>\n",
       "    <tr style=\"text-align: right;\">\n",
       "      <th></th>\n",
       "      <th>00</th>\n",
       "      <th>01</th>\n",
       "      <th>02</th>\n",
       "      <th>03</th>\n",
       "      <th>04</th>\n",
       "      <th>05</th>\n",
       "      <th>06</th>\n",
       "      <th>06 pours</th>\n",
       "      <th>07</th>\n",
       "      <th>08</th>\n",
       "      <th>...</th>\n",
       "      <th>youre</th>\n",
       "      <th>youve</th>\n",
       "      <th>youve got</th>\n",
       "      <th>yum</th>\n",
       "      <th>yummy</th>\n",
       "      <th>zero</th>\n",
       "      <th>zero head</th>\n",
       "      <th>zest</th>\n",
       "      <th>zesty</th>\n",
       "      <th>zing</th>\n",
       "    </tr>\n",
       "  </thead>\n",
       "  <tbody>\n",
       "    <tr>\n",
       "      <th>0</th>\n",
       "      <td>0</td>\n",
       "      <td>0</td>\n",
       "      <td>0</td>\n",
       "      <td>0</td>\n",
       "      <td>0</td>\n",
       "      <td>0</td>\n",
       "      <td>0</td>\n",
       "      <td>0</td>\n",
       "      <td>0</td>\n",
       "      <td>0</td>\n",
       "      <td>...</td>\n",
       "      <td>0</td>\n",
       "      <td>0</td>\n",
       "      <td>0</td>\n",
       "      <td>0</td>\n",
       "      <td>0</td>\n",
       "      <td>0</td>\n",
       "      <td>0</td>\n",
       "      <td>0</td>\n",
       "      <td>0</td>\n",
       "      <td>0</td>\n",
       "    </tr>\n",
       "    <tr>\n",
       "      <th>1</th>\n",
       "      <td>0</td>\n",
       "      <td>0</td>\n",
       "      <td>0</td>\n",
       "      <td>0</td>\n",
       "      <td>0</td>\n",
       "      <td>0</td>\n",
       "      <td>0</td>\n",
       "      <td>0</td>\n",
       "      <td>0</td>\n",
       "      <td>0</td>\n",
       "      <td>...</td>\n",
       "      <td>0</td>\n",
       "      <td>0</td>\n",
       "      <td>0</td>\n",
       "      <td>0</td>\n",
       "      <td>0</td>\n",
       "      <td>0</td>\n",
       "      <td>0</td>\n",
       "      <td>0</td>\n",
       "      <td>0</td>\n",
       "      <td>0</td>\n",
       "    </tr>\n",
       "    <tr>\n",
       "      <th>2</th>\n",
       "      <td>0</td>\n",
       "      <td>0</td>\n",
       "      <td>0</td>\n",
       "      <td>0</td>\n",
       "      <td>0</td>\n",
       "      <td>0</td>\n",
       "      <td>0</td>\n",
       "      <td>0</td>\n",
       "      <td>0</td>\n",
       "      <td>0</td>\n",
       "      <td>...</td>\n",
       "      <td>0</td>\n",
       "      <td>0</td>\n",
       "      <td>0</td>\n",
       "      <td>0</td>\n",
       "      <td>0</td>\n",
       "      <td>0</td>\n",
       "      <td>0</td>\n",
       "      <td>0</td>\n",
       "      <td>0</td>\n",
       "      <td>0</td>\n",
       "    </tr>\n",
       "    <tr>\n",
       "      <th>3</th>\n",
       "      <td>0</td>\n",
       "      <td>0</td>\n",
       "      <td>0</td>\n",
       "      <td>0</td>\n",
       "      <td>0</td>\n",
       "      <td>0</td>\n",
       "      <td>0</td>\n",
       "      <td>0</td>\n",
       "      <td>0</td>\n",
       "      <td>0</td>\n",
       "      <td>...</td>\n",
       "      <td>0</td>\n",
       "      <td>0</td>\n",
       "      <td>0</td>\n",
       "      <td>0</td>\n",
       "      <td>0</td>\n",
       "      <td>0</td>\n",
       "      <td>0</td>\n",
       "      <td>0</td>\n",
       "      <td>0</td>\n",
       "      <td>0</td>\n",
       "    </tr>\n",
       "    <tr>\n",
       "      <th>4</th>\n",
       "      <td>0</td>\n",
       "      <td>0</td>\n",
       "      <td>0</td>\n",
       "      <td>0</td>\n",
       "      <td>0</td>\n",
       "      <td>0</td>\n",
       "      <td>0</td>\n",
       "      <td>0</td>\n",
       "      <td>0</td>\n",
       "      <td>0</td>\n",
       "      <td>...</td>\n",
       "      <td>0</td>\n",
       "      <td>0</td>\n",
       "      <td>0</td>\n",
       "      <td>0</td>\n",
       "      <td>0</td>\n",
       "      <td>0</td>\n",
       "      <td>0</td>\n",
       "      <td>0</td>\n",
       "      <td>0</td>\n",
       "      <td>0</td>\n",
       "    </tr>\n",
       "  </tbody>\n",
       "</table>\n",
       "<p>5 rows × 10000 columns</p>\n",
       "</div>"
      ],
      "text/plain": [
       "   00  01  02  03  04  05  06  06 pours  07  08  ...  youre  youve  youve got  \\\n",
       "0   0   0   0   0   0   0   0         0   0   0  ...      0      0          0   \n",
       "1   0   0   0   0   0   0   0         0   0   0  ...      0      0          0   \n",
       "2   0   0   0   0   0   0   0         0   0   0  ...      0      0          0   \n",
       "3   0   0   0   0   0   0   0         0   0   0  ...      0      0          0   \n",
       "4   0   0   0   0   0   0   0         0   0   0  ...      0      0          0   \n",
       "\n",
       "   yum  yummy  zero  zero head  zest  zesty  zing  \n",
       "0    0      0     0          0     0      0     0  \n",
       "1    0      0     0          0     0      0     0  \n",
       "2    0      0     0          0     0      0     0  \n",
       "3    0      0     0          0     0      0     0  \n",
       "4    0      0     0          0     0      0     0  \n",
       "\n",
       "[5 rows x 10000 columns]"
      ]
     },
     "execution_count": 48,
     "metadata": {},
     "output_type": "execute_result"
    }
   ],
   "source": [
    "X_train_transformed = count_vect.transform(X_train.review)\n",
    "train_df = pd.DataFrame(X_train_transformed.toarray(), columns=count_vect.get_feature_names())\n",
    "train_df.head()"
   ]
  },
  {
   "cell_type": "code",
   "execution_count": null,
   "metadata": {},
   "outputs": [],
   "source": []
  },
  {
   "cell_type": "code",
   "execution_count": 49,
   "metadata": {},
   "outputs": [
    {
     "name": "stdout",
     "output_type": "stream",
     "text": [
      "<class 'pandas.core.frame.DataFrame'>\n",
      "(11024, 10000)\n"
     ]
    }
   ],
   "source": [
    "print(type(train_df))\n",
    "print(train_df.shape)\n",
    "# print(review_text_count.toarray())\n",
    "##print(count_vect.get_feature_names())\n",
    "##print(reviews_1.review)"
   ]
  },
  {
   "cell_type": "code",
   "execution_count": 50,
   "metadata": {},
   "outputs": [],
   "source": [
    "tfidf_trans = TfidfTransformer().fit(train_df)"
   ]
  },
  {
   "cell_type": "code",
   "execution_count": 51,
   "metadata": {},
   "outputs": [
    {
     "name": "stdout",
     "output_type": "stream",
     "text": [
      "<class 'scipy.sparse.csr.csr_matrix'>\n"
     ]
    }
   ],
   "source": [
    "training_tfidf = tfidf_trans.transform(train_df)\n",
    "print(type(training_tfidf))\n",
    "##print(training_tfidf)\n",
    "\n",
    "\n"
   ]
  },
  {
   "cell_type": "code",
   "execution_count": 52,
   "metadata": {},
   "outputs": [
    {
     "data": {
      "text/html": [
       "<div>\n",
       "<style scoped>\n",
       "    .dataframe tbody tr th:only-of-type {\n",
       "        vertical-align: middle;\n",
       "    }\n",
       "\n",
       "    .dataframe tbody tr th {\n",
       "        vertical-align: top;\n",
       "    }\n",
       "\n",
       "    .dataframe thead th {\n",
       "        text-align: right;\n",
       "    }\n",
       "</style>\n",
       "<table border=\"1\" class=\"dataframe\">\n",
       "  <thead>\n",
       "    <tr style=\"text-align: right;\">\n",
       "      <th></th>\n",
       "      <th>0</th>\n",
       "      <th>1</th>\n",
       "      <th>2</th>\n",
       "      <th>3</th>\n",
       "      <th>4</th>\n",
       "      <th>5</th>\n",
       "      <th>6</th>\n",
       "      <th>7</th>\n",
       "      <th>8</th>\n",
       "      <th>9</th>\n",
       "      <th>...</th>\n",
       "      <th>9990</th>\n",
       "      <th>9991</th>\n",
       "      <th>9992</th>\n",
       "      <th>9993</th>\n",
       "      <th>9994</th>\n",
       "      <th>9995</th>\n",
       "      <th>9996</th>\n",
       "      <th>9997</th>\n",
       "      <th>9998</th>\n",
       "      <th>9999</th>\n",
       "    </tr>\n",
       "  </thead>\n",
       "  <tbody>\n",
       "    <tr>\n",
       "      <th>0</th>\n",
       "      <td>0.0</td>\n",
       "      <td>0.0</td>\n",
       "      <td>0.0</td>\n",
       "      <td>0.0</td>\n",
       "      <td>0.0</td>\n",
       "      <td>0.0</td>\n",
       "      <td>0.0</td>\n",
       "      <td>0.0</td>\n",
       "      <td>0.0</td>\n",
       "      <td>0.0</td>\n",
       "      <td>...</td>\n",
       "      <td>0.0</td>\n",
       "      <td>0.0</td>\n",
       "      <td>0.0</td>\n",
       "      <td>0.0</td>\n",
       "      <td>0.0</td>\n",
       "      <td>0.0</td>\n",
       "      <td>0.0</td>\n",
       "      <td>0.0</td>\n",
       "      <td>0.0</td>\n",
       "      <td>0.0</td>\n",
       "    </tr>\n",
       "    <tr>\n",
       "      <th>1</th>\n",
       "      <td>0.0</td>\n",
       "      <td>0.0</td>\n",
       "      <td>0.0</td>\n",
       "      <td>0.0</td>\n",
       "      <td>0.0</td>\n",
       "      <td>0.0</td>\n",
       "      <td>0.0</td>\n",
       "      <td>0.0</td>\n",
       "      <td>0.0</td>\n",
       "      <td>0.0</td>\n",
       "      <td>...</td>\n",
       "      <td>0.0</td>\n",
       "      <td>0.0</td>\n",
       "      <td>0.0</td>\n",
       "      <td>0.0</td>\n",
       "      <td>0.0</td>\n",
       "      <td>0.0</td>\n",
       "      <td>0.0</td>\n",
       "      <td>0.0</td>\n",
       "      <td>0.0</td>\n",
       "      <td>0.0</td>\n",
       "    </tr>\n",
       "    <tr>\n",
       "      <th>2</th>\n",
       "      <td>0.0</td>\n",
       "      <td>0.0</td>\n",
       "      <td>0.0</td>\n",
       "      <td>0.0</td>\n",
       "      <td>0.0</td>\n",
       "      <td>0.0</td>\n",
       "      <td>0.0</td>\n",
       "      <td>0.0</td>\n",
       "      <td>0.0</td>\n",
       "      <td>0.0</td>\n",
       "      <td>...</td>\n",
       "      <td>0.0</td>\n",
       "      <td>0.0</td>\n",
       "      <td>0.0</td>\n",
       "      <td>0.0</td>\n",
       "      <td>0.0</td>\n",
       "      <td>0.0</td>\n",
       "      <td>0.0</td>\n",
       "      <td>0.0</td>\n",
       "      <td>0.0</td>\n",
       "      <td>0.0</td>\n",
       "    </tr>\n",
       "    <tr>\n",
       "      <th>3</th>\n",
       "      <td>0.0</td>\n",
       "      <td>0.0</td>\n",
       "      <td>0.0</td>\n",
       "      <td>0.0</td>\n",
       "      <td>0.0</td>\n",
       "      <td>0.0</td>\n",
       "      <td>0.0</td>\n",
       "      <td>0.0</td>\n",
       "      <td>0.0</td>\n",
       "      <td>0.0</td>\n",
       "      <td>...</td>\n",
       "      <td>0.0</td>\n",
       "      <td>0.0</td>\n",
       "      <td>0.0</td>\n",
       "      <td>0.0</td>\n",
       "      <td>0.0</td>\n",
       "      <td>0.0</td>\n",
       "      <td>0.0</td>\n",
       "      <td>0.0</td>\n",
       "      <td>0.0</td>\n",
       "      <td>0.0</td>\n",
       "    </tr>\n",
       "    <tr>\n",
       "      <th>4</th>\n",
       "      <td>0.0</td>\n",
       "      <td>0.0</td>\n",
       "      <td>0.0</td>\n",
       "      <td>0.0</td>\n",
       "      <td>0.0</td>\n",
       "      <td>0.0</td>\n",
       "      <td>0.0</td>\n",
       "      <td>0.0</td>\n",
       "      <td>0.0</td>\n",
       "      <td>0.0</td>\n",
       "      <td>...</td>\n",
       "      <td>0.0</td>\n",
       "      <td>0.0</td>\n",
       "      <td>0.0</td>\n",
       "      <td>0.0</td>\n",
       "      <td>0.0</td>\n",
       "      <td>0.0</td>\n",
       "      <td>0.0</td>\n",
       "      <td>0.0</td>\n",
       "      <td>0.0</td>\n",
       "      <td>0.0</td>\n",
       "    </tr>\n",
       "  </tbody>\n",
       "</table>\n",
       "<p>5 rows × 10000 columns</p>\n",
       "</div>"
      ],
      "text/plain": [
       "   0     1     2     3     4     5     6     7     8     9     ...  9990  \\\n",
       "0   0.0   0.0   0.0   0.0   0.0   0.0   0.0   0.0   0.0   0.0  ...   0.0   \n",
       "1   0.0   0.0   0.0   0.0   0.0   0.0   0.0   0.0   0.0   0.0  ...   0.0   \n",
       "2   0.0   0.0   0.0   0.0   0.0   0.0   0.0   0.0   0.0   0.0  ...   0.0   \n",
       "3   0.0   0.0   0.0   0.0   0.0   0.0   0.0   0.0   0.0   0.0  ...   0.0   \n",
       "4   0.0   0.0   0.0   0.0   0.0   0.0   0.0   0.0   0.0   0.0  ...   0.0   \n",
       "\n",
       "   9991  9992  9993  9994  9995  9996  9997  9998  9999  \n",
       "0   0.0   0.0   0.0   0.0   0.0   0.0   0.0   0.0   0.0  \n",
       "1   0.0   0.0   0.0   0.0   0.0   0.0   0.0   0.0   0.0  \n",
       "2   0.0   0.0   0.0   0.0   0.0   0.0   0.0   0.0   0.0  \n",
       "3   0.0   0.0   0.0   0.0   0.0   0.0   0.0   0.0   0.0  \n",
       "4   0.0   0.0   0.0   0.0   0.0   0.0   0.0   0.0   0.0  \n",
       "\n",
       "[5 rows x 10000 columns]"
      ]
     },
     "execution_count": 52,
     "metadata": {},
     "output_type": "execute_result"
    }
   ],
   "source": [
    "tfidf_df = pd.DataFrame(training_tfidf.toarray())\n",
    "tfidf_df.head()"
   ]
  },
  {
   "cell_type": "code",
   "execution_count": 53,
   "metadata": {},
   "outputs": [
    {
     "name": "stdout",
     "output_type": "stream",
     "text": [
      "<class 'scipy.sparse.csr.csr_matrix'>\n",
      "(2756, 10000)\n"
     ]
    }
   ],
   "source": [
    "test_countvect = count_vect.transform(X_test.review)\n",
    "test_tfidf = tfidf_trans.transform(test_countvect)\n",
    "print(type(test_tfidf))\n",
    "print(pd.DataFrame(test_tfidf.toarray()).shape)"
   ]
  },
  {
   "cell_type": "code",
   "execution_count": 54,
   "metadata": {},
   "outputs": [
    {
     "name": "stderr",
     "output_type": "stream",
     "text": [
      "/opt/anaconda3/lib/python3.7/site-packages/sklearn/linear_model/_logistic.py:940: ConvergenceWarning: lbfgs failed to converge (status=1):\n",
      "STOP: TOTAL NO. of ITERATIONS REACHED LIMIT.\n",
      "\n",
      "Increase the number of iterations (max_iter) or scale the data as shown in:\n",
      "    https://scikit-learn.org/stable/modules/preprocessing.html\n",
      "Please also refer to the documentation for alternative solver options:\n",
      "    https://scikit-learn.org/stable/modules/linear_model.html#logistic-regression\n",
      "  extra_warning_msg=_LOGISTIC_SOLVER_CONVERGENCE_MSG)\n"
     ]
    },
    {
     "data": {
      "text/plain": [
       "LogisticRegression(C=1.0, class_weight=None, dual=False, fit_intercept=True,\n",
       "                   intercept_scaling=1, l1_ratio=None, max_iter=100,\n",
       "                   multi_class='auto', n_jobs=None, penalty='l2',\n",
       "                   random_state=None, solver='lbfgs', tol=0.0001, verbose=0,\n",
       "                   warm_start=False)"
      ]
     },
     "execution_count": 54,
     "metadata": {},
     "output_type": "execute_result"
    }
   ],
   "source": [
    "lr = LogisticRegression()\n",
    "lr.fit(tfidf_df, y_train)"
   ]
  },
  {
   "cell_type": "code",
   "execution_count": 55,
   "metadata": {},
   "outputs": [],
   "source": [
    "y_pred = lr.predict(test_tfidf)"
   ]
  },
  {
   "cell_type": "code",
   "execution_count": 56,
   "metadata": {},
   "outputs": [],
   "source": [
    "proba = lr.predict_proba(test_tfidf)"
   ]
  },
  {
   "cell_type": "code",
   "execution_count": 57,
   "metadata": {},
   "outputs": [
    {
     "name": "stdout",
     "output_type": "stream",
     "text": [
      "Accuracy Score: 0.7692307692307693\n",
      "\n",
      "Classification Report:\n",
      "              precision    recall  f1-score   support\n",
      "\n",
      "           0       0.65      0.53      0.59       808\n",
      "           1       0.80      0.03      0.05       141\n",
      "           2       0.81      0.93      0.87      1807\n",
      "\n",
      "    accuracy                           0.77      2756\n",
      "   macro avg       0.75      0.50      0.50      2756\n",
      "weighted avg       0.76      0.77      0.74      2756\n",
      "\n",
      "\n",
      "Confusion Matrix:\n",
      "[[ 432    0  376]\n",
      " [ 111    4   26]\n",
      " [ 122    1 1684]]\n",
      "\n"
     ]
    }
   ],
   "source": [
    "print(\"Accuracy Score: {}\\n\".format(accuracy_score(y_test, y_pred)))\n",
    "# print(\"ROC score = {}\\n\".format(roc_auc_score(y_test, proba[:,1])))\n",
    "print(\"Classification Report:\\n{}\\n\".format(classification_report(y_test, y_pred)))\n",
    "print(\"Confusion Matrix:\\n{}\\n\".format(confusion_matrix(y_test, y_pred)))"
   ]
  },
  {
   "cell_type": "code",
   "execution_count": 58,
   "metadata": {},
   "outputs": [
    {
     "data": {
      "text/html": [
       "<div>\n",
       "<style scoped>\n",
       "    .dataframe tbody tr th:only-of-type {\n",
       "        vertical-align: middle;\n",
       "    }\n",
       "\n",
       "    .dataframe tbody tr th {\n",
       "        vertical-align: top;\n",
       "    }\n",
       "\n",
       "    .dataframe thead th {\n",
       "        text-align: right;\n",
       "    }\n",
       "</style>\n",
       "<table border=\"1\" class=\"dataframe\">\n",
       "  <thead>\n",
       "    <tr style=\"text-align: right;\">\n",
       "      <th></th>\n",
       "      <th>name</th>\n",
       "    </tr>\n",
       "  </thead>\n",
       "  <tbody>\n",
       "    <tr>\n",
       "      <th>2</th>\n",
       "      <td>Rock Bottom Des Moines L’Ange Rouge</td>\n",
       "    </tr>\n",
       "    <tr>\n",
       "      <th>2</th>\n",
       "      <td>Rock Bottom Des Moines L’Ange Rouge</td>\n",
       "    </tr>\n",
       "    <tr>\n",
       "      <th>2</th>\n",
       "      <td>Rock Bottom Des Moines L’Ange Rouge</td>\n",
       "    </tr>\n",
       "    <tr>\n",
       "      <th>2</th>\n",
       "      <td>Rock Bottom Des Moines L’Ange Rouge</td>\n",
       "    </tr>\n",
       "    <tr>\n",
       "      <th>2</th>\n",
       "      <td>Rock Bottom Des Moines L’Ange Rouge</td>\n",
       "    </tr>\n",
       "    <tr>\n",
       "      <th>...</th>\n",
       "      <td>...</td>\n",
       "    </tr>\n",
       "    <tr>\n",
       "      <th>0</th>\n",
       "      <td>Iron Hill ESB</td>\n",
       "    </tr>\n",
       "    <tr>\n",
       "      <th>2</th>\n",
       "      <td>Rock Bottom Des Moines L’Ange Rouge</td>\n",
       "    </tr>\n",
       "    <tr>\n",
       "      <th>2</th>\n",
       "      <td>Rock Bottom Des Moines L’Ange Rouge</td>\n",
       "    </tr>\n",
       "    <tr>\n",
       "      <th>2</th>\n",
       "      <td>Rock Bottom Des Moines L’Ange Rouge</td>\n",
       "    </tr>\n",
       "    <tr>\n",
       "      <th>2</th>\n",
       "      <td>Rock Bottom Des Moines L’Ange Rouge</td>\n",
       "    </tr>\n",
       "  </tbody>\n",
       "</table>\n",
       "<p>2756 rows × 1 columns</p>\n",
       "</div>"
      ],
      "text/plain": [
       "                                   name\n",
       "2   Rock Bottom Des Moines L’Ange Rouge\n",
       "2   Rock Bottom Des Moines L’Ange Rouge\n",
       "2   Rock Bottom Des Moines L’Ange Rouge\n",
       "2   Rock Bottom Des Moines L’Ange Rouge\n",
       "2   Rock Bottom Des Moines L’Ange Rouge\n",
       "..                                  ...\n",
       "0                         Iron Hill ESB\n",
       "2   Rock Bottom Des Moines L’Ange Rouge\n",
       "2   Rock Bottom Des Moines L’Ange Rouge\n",
       "2   Rock Bottom Des Moines L’Ange Rouge\n",
       "2   Rock Bottom Des Moines L’Ange Rouge\n",
       "\n",
       "[2756 rows x 1 columns]"
      ]
     },
     "execution_count": 58,
     "metadata": {},
     "output_type": "execute_result"
    }
   ],
   "source": [
    "pred_df = pd.DataFrame(X_test['name'], y_pred)\n",
    "pred_df"
   ]
  },
  {
   "cell_type": "code",
   "execution_count": 59,
   "metadata": {},
   "outputs": [],
   "source": [
    "pred_df.to_csv('prediction.csv')"
   ]
  },
  {
   "cell_type": "code",
   "execution_count": null,
   "metadata": {},
   "outputs": [],
   "source": []
  },
  {
   "cell_type": "code",
   "execution_count": 60,
   "metadata": {},
   "outputs": [
    {
     "data": {
      "text/html": [
       "<div>\n",
       "<style scoped>\n",
       "    .dataframe tbody tr th:only-of-type {\n",
       "        vertical-align: middle;\n",
       "    }\n",
       "\n",
       "    .dataframe tbody tr th {\n",
       "        vertical-align: top;\n",
       "    }\n",
       "\n",
       "    .dataframe thead th {\n",
       "        text-align: right;\n",
       "    }\n",
       "</style>\n",
       "<table border=\"1\" class=\"dataframe\">\n",
       "  <thead>\n",
       "    <tr style=\"text-align: right;\">\n",
       "      <th></th>\n",
       "      <th>review</th>\n",
       "    </tr>\n",
       "  </thead>\n",
       "  <tbody>\n",
       "    <tr>\n",
       "      <th>0</th>\n",
       "      <td>Fruity aroma on the nose which made me think i...</td>\n",
       "    </tr>\n",
       "    <tr>\n",
       "      <th>1</th>\n",
       "      <td>I don't typically like stouts but decided to t...</td>\n",
       "    </tr>\n",
       "    <tr>\n",
       "      <th>2</th>\n",
       "      <td>Pils are my favorite beer so I'm sorry to say ...</td>\n",
       "    </tr>\n",
       "    <tr>\n",
       "      <th>3</th>\n",
       "      <td>Pours very dark brown with a small short-lasti...</td>\n",
       "    </tr>\n",
       "    <tr>\n",
       "      <th>4</th>\n",
       "      <td>Peach juice colour. Bubbly head. Aroma is rasp...</td>\n",
       "    </tr>\n",
       "    <tr>\n",
       "      <th>5</th>\n",
       "      <td>Hazy golden colour. Aroma is grassy with some ...</td>\n",
       "    </tr>\n",
       "    <tr>\n",
       "      <th>6</th>\n",
       "      <td>Very clear, pale amber nearing lemon. Only sma...</td>\n",
       "    </tr>\n",
       "    <tr>\n",
       "      <th>7</th>\n",
       "      <td>The beer is a hazy copper-red color with a med...</td>\n",
       "    </tr>\n",
       "    <tr>\n",
       "      <th>8</th>\n",
       "      <td>I'm not much of a stout guy buy enjoyed the 20...</td>\n",
       "    </tr>\n",
       "    <tr>\n",
       "      <th>9</th>\n",
       "      <td>Interesting pour to this as it had a blueberry...</td>\n",
       "    </tr>\n",
       "    <tr>\n",
       "      <th>10</th>\n",
       "      <td>Pours a clear, brilliant deep honey gold body ...</td>\n",
       "    </tr>\n",
       "    <tr>\n",
       "      <th>11</th>\n",
       "      <td>Lemon/orange scent with malt up front and bit ...</td>\n",
       "    </tr>\n",
       "    <tr>\n",
       "      <th>12</th>\n",
       "      <td>Looks like every other New England IPA, with h...</td>\n",
       "    </tr>\n",
       "    <tr>\n",
       "      <th>13</th>\n",
       "      <td>Clear light amber, sudsy bone white cap. Cerea...</td>\n",
       "    </tr>\n",
       "    <tr>\n",
       "      <th>14</th>\n",
       "      <td>Hazy pale yellow pour with a large white head ...</td>\n",
       "    </tr>\n",
       "    <tr>\n",
       "      <th>15</th>\n",
       "      <td>Poured from a can into a pint glass. Pours gol...</td>\n",
       "    </tr>\n",
       "    <tr>\n",
       "      <th>16</th>\n",
       "      <td>This one shifts in flavor compared to the arom...</td>\n",
       "    </tr>\n",
       "    <tr>\n",
       "      <th>17</th>\n",
       "      <td>Pours a deep jet-brown body highlighting mahog...</td>\n",
       "    </tr>\n",
       "    <tr>\n",
       "      <th>18</th>\n",
       "      <td>I always thought this was one of the better Ch...</td>\n",
       "    </tr>\n",
       "    <tr>\n",
       "      <th>19</th>\n",
       "      <td>Picked-up a case of cans at Bradford's in Plym...</td>\n",
       "    </tr>\n",
       "    <tr>\n",
       "      <th>20</th>\n",
       "      <td>Danky IPA with the smell of straight up weed. ...</td>\n",
       "    </tr>\n",
       "  </tbody>\n",
       "</table>\n",
       "</div>"
      ],
      "text/plain": [
       "                                               review\n",
       "0   Fruity aroma on the nose which made me think i...\n",
       "1   I don't typically like stouts but decided to t...\n",
       "2   Pils are my favorite beer so I'm sorry to say ...\n",
       "3   Pours very dark brown with a small short-lasti...\n",
       "4   Peach juice colour. Bubbly head. Aroma is rasp...\n",
       "5   Hazy golden colour. Aroma is grassy with some ...\n",
       "6   Very clear, pale amber nearing lemon. Only sma...\n",
       "7   The beer is a hazy copper-red color with a med...\n",
       "8   I'm not much of a stout guy buy enjoyed the 20...\n",
       "9   Interesting pour to this as it had a blueberry...\n",
       "10  Pours a clear, brilliant deep honey gold body ...\n",
       "11  Lemon/orange scent with malt up front and bit ...\n",
       "12  Looks like every other New England IPA, with h...\n",
       "13  Clear light amber, sudsy bone white cap. Cerea...\n",
       "14  Hazy pale yellow pour with a large white head ...\n",
       "15  Poured from a can into a pint glass. Pours gol...\n",
       "16  This one shifts in flavor compared to the arom...\n",
       "17  Pours a deep jet-brown body highlighting mahog...\n",
       "18  I always thought this was one of the better Ch...\n",
       "19  Picked-up a case of cans at Bradford's in Plym...\n",
       "20  Danky IPA with the smell of straight up weed. ..."
      ]
     },
     "execution_count": 60,
     "metadata": {},
     "output_type": "execute_result"
    }
   ],
   "source": [
    "test = pd.read_csv('reviews.csv')\n",
    "test"
   ]
  },
  {
   "cell_type": "code",
   "execution_count": 61,
   "metadata": {},
   "outputs": [
    {
     "name": "stdout",
     "output_type": "stream",
     "text": [
      "<class 'scipy.sparse.csr.csr_matrix'>\n",
      "(21, 10000)\n"
     ]
    }
   ],
   "source": [
    "test_reviews_countvect = count_vect.transform(test.review)\n",
    "test_reviews_tfidf = tfidf_trans.transform(test_reviews_countvect)\n",
    "print(type(test_reviews_tfidf))\n",
    "print(pd.DataFrame(test_reviews_tfidf.toarray()).shape)"
   ]
  },
  {
   "cell_type": "code",
   "execution_count": 62,
   "metadata": {},
   "outputs": [
    {
     "name": "stdout",
     "output_type": "stream",
     "text": [
      "(21, 10000)\n"
     ]
    }
   ],
   "source": [
    "test_reviews_df = pd.DataFrame()\n",
    "print(pd.DataFrame(test_reviews_tfidf.toarray()).shape)"
   ]
  },
  {
   "cell_type": "code",
   "execution_count": 63,
   "metadata": {},
   "outputs": [],
   "source": [
    "test_predictions = lr.predict(test_reviews_tfidf)"
   ]
  },
  {
   "cell_type": "code",
   "execution_count": 64,
   "metadata": {},
   "outputs": [
    {
     "data": {
      "text/plain": [
       "array([2, 2, 2, 0, 2, 2, 2, 2, 2, 2, 2, 2, 2, 2, 2, 2, 2, 2, 2, 2, 2])"
      ]
     },
     "execution_count": 64,
     "metadata": {},
     "output_type": "execute_result"
    }
   ],
   "source": [
    "test_predictions"
   ]
  },
  {
   "cell_type": "code",
   "execution_count": null,
   "metadata": {},
   "outputs": [],
   "source": []
  },
  {
   "cell_type": "code",
   "execution_count": 65,
   "metadata": {},
   "outputs": [
    {
     "data": {
      "text/plain": [
       "RandomForestClassifier(bootstrap=True, ccp_alpha=0.0, class_weight=None,\n",
       "                       criterion='gini', max_depth=None, max_features='auto',\n",
       "                       max_leaf_nodes=None, max_samples=None,\n",
       "                       min_impurity_decrease=0.0, min_impurity_split=None,\n",
       "                       min_samples_leaf=1, min_samples_split=2,\n",
       "                       min_weight_fraction_leaf=0.0, n_estimators=100,\n",
       "                       n_jobs=None, oob_score=False, random_state=None,\n",
       "                       verbose=0, warm_start=False)"
      ]
     },
     "execution_count": 65,
     "metadata": {},
     "output_type": "execute_result"
    }
   ],
   "source": [
    "rf = RandomForestClassifier()\n",
    "rf.fit(tfidf_df, y_train)"
   ]
  },
  {
   "cell_type": "code",
   "execution_count": 66,
   "metadata": {},
   "outputs": [],
   "source": [
    "rf_prediction = rf.predict(test_tfidf)"
   ]
  },
  {
   "cell_type": "code",
   "execution_count": 67,
   "metadata": {},
   "outputs": [
    {
     "name": "stdout",
     "output_type": "stream",
     "text": [
      "Accuracy_score: \n",
      " 0.7155297532656023\n",
      "Confusion Matrix: \n",
      " [[ 209    1  598]\n",
      " [  89    1   51]\n",
      " [  45    0 1762]]\n"
     ]
    }
   ],
   "source": [
    "print(\"Accuracy_score: \\n {}\".format(accuracy_score(y_test, rf_prediction)))\n",
    "print(\"Confusion Matrix: \\n {}\".format(confusion_matrix(y_test, rf_prediction)))"
   ]
  },
  {
   "cell_type": "code",
   "execution_count": 69,
   "metadata": {},
   "outputs": [],
   "source": [
    "rf_predictions = rf.predict(test_reviews_tfidf)"
   ]
  },
  {
   "cell_type": "code",
   "execution_count": 70,
   "metadata": {},
   "outputs": [
    {
     "data": {
      "text/plain": [
       "array([2, 2, 2, 0, 2, 2, 2, 2, 2, 2, 2, 2, 2, 2, 2, 2, 2, 2, 2, 2, 2])"
      ]
     },
     "execution_count": 70,
     "metadata": {},
     "output_type": "execute_result"
    }
   ],
   "source": [
    "rf_predictions"
   ]
  },
  {
   "cell_type": "code",
   "execution_count": 68,
   "metadata": {},
   "outputs": [],
   "source": [
    "# Grid Search Cross Validation"
   ]
  },
  {
   "cell_type": "code",
   "execution_count": 71,
   "metadata": {},
   "outputs": [],
   "source": [
    "param_grid = {'n_estimators':[10, 50, 100],\n",
    "             'max_features':['auto', 'log2'],\n",
    "              'max_depth':[4, 8],\n",
    "              'criterion': ['gini', 'entropy']\n",
    "             }\n",
    "rf = RandomForestClassifier()"
   ]
  },
  {
   "cell_type": "code",
   "execution_count": 72,
   "metadata": {},
   "outputs": [],
   "source": [
    "cv_model = GridSearchCV(estimator=rf, param_grid=param_grid, cv=5)"
   ]
  },
  {
   "cell_type": "code",
   "execution_count": 73,
   "metadata": {},
   "outputs": [
    {
     "data": {
      "text/plain": [
       "GridSearchCV(cv=5, error_score=nan,\n",
       "             estimator=RandomForestClassifier(bootstrap=True, ccp_alpha=0.0,\n",
       "                                              class_weight=None,\n",
       "                                              criterion='gini', max_depth=None,\n",
       "                                              max_features='auto',\n",
       "                                              max_leaf_nodes=None,\n",
       "                                              max_samples=None,\n",
       "                                              min_impurity_decrease=0.0,\n",
       "                                              min_impurity_split=None,\n",
       "                                              min_samples_leaf=1,\n",
       "                                              min_samples_split=2,\n",
       "                                              min_weight_fraction_leaf=0.0,\n",
       "                                              n_estimators=100, n_jobs=None,\n",
       "                                              oob_score=False,\n",
       "                                              random_state=None, verbose=0,\n",
       "                                              warm_start=False),\n",
       "             iid='deprecated', n_jobs=None,\n",
       "             param_grid={'criterion': ['gini', 'entropy'], 'max_depth': [4, 8],\n",
       "                         'max_features': ['auto', 'log2'],\n",
       "                         'n_estimators': [10, 50, 100]},\n",
       "             pre_dispatch='2*n_jobs', refit=True, return_train_score=False,\n",
       "             scoring=None, verbose=0)"
      ]
     },
     "execution_count": 73,
     "metadata": {},
     "output_type": "execute_result"
    }
   ],
   "source": [
    "cv_model.fit(tfidf_df, y_train)"
   ]
  },
  {
   "cell_type": "code",
   "execution_count": 74,
   "metadata": {},
   "outputs": [
    {
     "name": "stdout",
     "output_type": "stream",
     "text": [
      "{'criterion': 'gini', 'max_depth': 8, 'max_features': 'auto', 'n_estimators': 10}\n"
     ]
    }
   ],
   "source": [
    "print(cv_model.best_params_)"
   ]
  },
  {
   "cell_type": "code",
   "execution_count": 75,
   "metadata": {},
   "outputs": [],
   "source": [
    "cv_predict = cv_model.predict(test_tfidf)"
   ]
  },
  {
   "cell_type": "code",
   "execution_count": 76,
   "metadata": {},
   "outputs": [],
   "source": [
    "probs = cv_model.predict_proba(test_tfidf)"
   ]
  },
  {
   "cell_type": "code",
   "execution_count": 77,
   "metadata": {},
   "outputs": [
    {
     "name": "stdout",
     "output_type": "stream",
     "text": [
      "Accuracy Score: 0.6560232220609579\n",
      "\n",
      "Classification Report:\n",
      "              precision    recall  f1-score   support\n",
      "\n",
      "           0       0.50      0.00      0.00       808\n",
      "           1       0.00      0.00      0.00       141\n",
      "           2       0.66      1.00      0.79      1807\n",
      "\n",
      "    accuracy                           0.66      2756\n",
      "   macro avg       0.39      0.33      0.26      2756\n",
      "weighted avg       0.58      0.66      0.52      2756\n",
      "\n",
      "\n",
      "Confusion Matrix:\n",
      "[[   1    0  807]\n",
      " [   1    0  140]\n",
      " [   0    0 1807]]\n",
      "\n"
     ]
    },
    {
     "name": "stderr",
     "output_type": "stream",
     "text": [
      "/opt/anaconda3/lib/python3.7/site-packages/sklearn/metrics/_classification.py:1272: UndefinedMetricWarning: Precision and F-score are ill-defined and being set to 0.0 in labels with no predicted samples. Use `zero_division` parameter to control this behavior.\n",
      "  _warn_prf(average, modifier, msg_start, len(result))\n"
     ]
    }
   ],
   "source": [
    "print(\"Accuracy Score: {}\\n\".format(accuracy_score(y_test, cv_predict)))\n",
    "# print(\"ROC score = {}\\n\".format(roc_auc_score(y_test, probs[:,1])))\n",
    "print(\"Classification Report:\\n{}\\n\".format(classification_report(y_test, cv_predict)))\n",
    "print(\"Confusion Matrix:\\n{}\\n\".format(confusion_matrix(y_test, cv_predict)))"
   ]
  },
  {
   "cell_type": "code",
   "execution_count": null,
   "metadata": {},
   "outputs": [],
   "source": []
  },
  {
   "cell_type": "code",
   "execution_count": 66,
   "metadata": {},
   "outputs": [],
   "source": [
    "# Trying to balance the class"
   ]
  },
  {
   "cell_type": "code",
   "execution_count": 67,
   "metadata": {},
   "outputs": [],
   "source": [
    "from sklearn.utils import resample"
   ]
  },
  {
   "cell_type": "code",
   "execution_count": 68,
   "metadata": {},
   "outputs": [],
   "source": [
    "negative_sentiment = resample(negative, replace=True, n_samples=len(neutral), random_state=123)"
   ]
  },
  {
   "cell_type": "code",
   "execution_count": 70,
   "metadata": {},
   "outputs": [
    {
     "name": "stdout",
     "output_type": "stream",
     "text": [
      "Requirement already satisfied: imblearn in /opt/anaconda3/lib/python3.7/site-packages (0.0)\n",
      "Requirement already satisfied: imbalanced-learn in /opt/anaconda3/lib/python3.7/site-packages (from imblearn) (0.6.2)\n",
      "Requirement already satisfied: scipy>=0.17 in /opt/anaconda3/lib/python3.7/site-packages (from imbalanced-learn->imblearn) (1.4.1)\n",
      "Requirement already satisfied: joblib>=0.11 in /opt/anaconda3/lib/python3.7/site-packages (from imbalanced-learn->imblearn) (0.13.2)\n",
      "Requirement already satisfied: numpy>=1.11 in /opt/anaconda3/lib/python3.7/site-packages (from imbalanced-learn->imblearn) (1.18.4)\n",
      "Requirement already satisfied: scikit-learn>=0.22 in /opt/anaconda3/lib/python3.7/site-packages (from imbalanced-learn->imblearn) (0.22.1)\n",
      "Note: you may need to restart the kernel to use updated packages.\n"
     ]
    }
   ],
   "source": [
    "pip install imblearn"
   ]
  },
  {
   "cell_type": "code",
   "execution_count": 72,
   "metadata": {},
   "outputs": [],
   "source": [
    "reviews_3 = reviews_2"
   ]
  },
  {
   "cell_type": "code",
   "execution_count": 73,
   "metadata": {},
   "outputs": [
    {
     "data": {
      "text/html": [
       "<div>\n",
       "<style scoped>\n",
       "    .dataframe tbody tr th:only-of-type {\n",
       "        vertical-align: middle;\n",
       "    }\n",
       "\n",
       "    .dataframe tbody tr th {\n",
       "        vertical-align: top;\n",
       "    }\n",
       "\n",
       "    .dataframe thead th {\n",
       "        text-align: right;\n",
       "    }\n",
       "</style>\n",
       "<table border=\"1\" class=\"dataframe\">\n",
       "  <thead>\n",
       "    <tr style=\"text-align: right;\">\n",
       "      <th></th>\n",
       "      <th>name</th>\n",
       "      <th>review</th>\n",
       "      <th>sentiment_1</th>\n",
       "    </tr>\n",
       "  </thead>\n",
       "  <tbody>\n",
       "    <tr>\n",
       "      <th>0</th>\n",
       "      <td>Coney Island Albino Python</td>\n",
       "      <td>Experienced from a 12oz bottle in a pub glass....</td>\n",
       "      <td>2</td>\n",
       "    </tr>\n",
       "    <tr>\n",
       "      <th>1</th>\n",
       "      <td>Steam Whistle Pilsner</td>\n",
       "      <td>Golden yellow, slightly sweet grassy aroma. Re...</td>\n",
       "      <td>2</td>\n",
       "    </tr>\n",
       "    <tr>\n",
       "      <th>2</th>\n",
       "      <td>Hitachino Nest New Year Celebration Ale</td>\n",
       "      <td>,33L. 08 opened brand spanking new. Pours a de...</td>\n",
       "      <td>2</td>\n",
       "    </tr>\n",
       "    <tr>\n",
       "      <th>3</th>\n",
       "      <td>Cigar City Capricho Oscuro &amp;#40;Batch 1&amp;#41;</td>\n",
       "      <td>In short: A brutal highly roasted woody dark b...</td>\n",
       "      <td>0</td>\n",
       "    </tr>\n",
       "    <tr>\n",
       "      <th>4</th>\n",
       "      <td>Shorts Anniversary Ale 2008</td>\n",
       "      <td>Poured a hazy red amber color with a small, of...</td>\n",
       "      <td>2</td>\n",
       "    </tr>\n",
       "  </tbody>\n",
       "</table>\n",
       "</div>"
      ],
      "text/plain": [
       "                                           name  \\\n",
       "0                   Coney Island Albino Python    \n",
       "1                         Steam Whistle Pilsner   \n",
       "2       Hitachino Nest New Year Celebration Ale   \n",
       "3  Cigar City Capricho Oscuro &#40;Batch 1&#41;   \n",
       "4                   Shorts Anniversary Ale 2008   \n",
       "\n",
       "                                              review  sentiment_1  \n",
       "0  Experienced from a 12oz bottle in a pub glass....            2  \n",
       "1  Golden yellow, slightly sweet grassy aroma. Re...            2  \n",
       "2  ,33L. 08 opened brand spanking new. Pours a de...            2  \n",
       "3  In short: A brutal highly roasted woody dark b...            0  \n",
       "4  Poured a hazy red amber color with a small, of...            2  "
      ]
     },
     "execution_count": 73,
     "metadata": {},
     "output_type": "execute_result"
    }
   ],
   "source": [
    "reviews_3.head()"
   ]
  },
  {
   "cell_type": "code",
   "execution_count": 81,
   "metadata": {},
   "outputs": [],
   "source": [
    "from imblearn.over_sampling import RandomOverSampler\n"
   ]
  },
  {
   "cell_type": "code",
   "execution_count": 82,
   "metadata": {},
   "outputs": [],
   "source": [
    "ros = RandomOverSampler(random_state=0)\n",
    "X_resampled, y_resampled = ros.fit_resample(X, y)"
   ]
  },
  {
   "cell_type": "code",
   "execution_count": 83,
   "metadata": {},
   "outputs": [
    {
     "name": "stdout",
     "output_type": "stream",
     "text": [
      "2    9033\n",
      "1    9033\n",
      "0    9033\n",
      "Name: sentiment_1, dtype: int64\n"
     ]
    }
   ],
   "source": [
    "print(y_resampled.value_counts())"
   ]
  },
  {
   "cell_type": "code",
   "execution_count": 85,
   "metadata": {},
   "outputs": [],
   "source": [
    "X_train_r, X_test_r, y_train_r, y_test_r = train_test_split(X_resampled, y_resampled, test_size=0.2, random_state=42)"
   ]
  },
  {
   "cell_type": "code",
   "execution_count": 100,
   "metadata": {},
   "outputs": [],
   "source": [
    "X_test_r = X_test_r.reset_index().drop('index', axis=1)"
   ]
  },
  {
   "cell_type": "code",
   "execution_count": 90,
   "metadata": {},
   "outputs": [
    {
     "data": {
      "text/plain": [
       "CountVectorizer(analyzer='word', binary=False, decode_error='strict',\n",
       "                dtype=<class 'numpy.int64'>, encoding='utf-8', input='content',\n",
       "                lowercase=True, max_df=1.0, max_features=10000, min_df=1,\n",
       "                ngram_range=(1, 2), preprocessor=None, stop_words='english',\n",
       "                strip_accents=None, token_pattern='(?u)\\\\b\\\\w\\\\w+\\\\b',\n",
       "                tokenizer=None, vocabulary=None)"
      ]
     },
     "execution_count": 90,
     "metadata": {},
     "output_type": "execute_result"
    }
   ],
   "source": [
    "count_vect_r = CountVectorizer(ngram_range=(1,2), max_features=10000, stop_words='english')\n",
    "count_vect_r.fit(X_train_r.review)"
   ]
  },
  {
   "cell_type": "code",
   "execution_count": 91,
   "metadata": {},
   "outputs": [
    {
     "data": {
      "text/html": [
       "<div>\n",
       "<style scoped>\n",
       "    .dataframe tbody tr th:only-of-type {\n",
       "        vertical-align: middle;\n",
       "    }\n",
       "\n",
       "    .dataframe tbody tr th {\n",
       "        vertical-align: top;\n",
       "    }\n",
       "\n",
       "    .dataframe thead th {\n",
       "        text-align: right;\n",
       "    }\n",
       "</style>\n",
       "<table border=\"1\" class=\"dataframe\">\n",
       "  <thead>\n",
       "    <tr style=\"text-align: right;\">\n",
       "      <th></th>\n",
       "      <th>01</th>\n",
       "      <th>02</th>\n",
       "      <th>03</th>\n",
       "      <th>04</th>\n",
       "      <th>05</th>\n",
       "      <th>06</th>\n",
       "      <th>06 08</th>\n",
       "      <th>06 10</th>\n",
       "      <th>06 18</th>\n",
       "      <th>06 pours</th>\n",
       "      <th>...</th>\n",
       "      <th>yumm</th>\n",
       "      <th>yummy</th>\n",
       "      <th>zero</th>\n",
       "      <th>zero carbonation</th>\n",
       "      <th>zero head</th>\n",
       "      <th>zest</th>\n",
       "      <th>zest flavor</th>\n",
       "      <th>zesty</th>\n",
       "      <th>zhukovs</th>\n",
       "      <th>zing</th>\n",
       "    </tr>\n",
       "  </thead>\n",
       "  <tbody>\n",
       "    <tr>\n",
       "      <th>0</th>\n",
       "      <td>0</td>\n",
       "      <td>0</td>\n",
       "      <td>0</td>\n",
       "      <td>0</td>\n",
       "      <td>0</td>\n",
       "      <td>0</td>\n",
       "      <td>0</td>\n",
       "      <td>0</td>\n",
       "      <td>0</td>\n",
       "      <td>0</td>\n",
       "      <td>...</td>\n",
       "      <td>0</td>\n",
       "      <td>0</td>\n",
       "      <td>0</td>\n",
       "      <td>0</td>\n",
       "      <td>0</td>\n",
       "      <td>0</td>\n",
       "      <td>0</td>\n",
       "      <td>0</td>\n",
       "      <td>0</td>\n",
       "      <td>0</td>\n",
       "    </tr>\n",
       "    <tr>\n",
       "      <th>1</th>\n",
       "      <td>0</td>\n",
       "      <td>0</td>\n",
       "      <td>0</td>\n",
       "      <td>0</td>\n",
       "      <td>0</td>\n",
       "      <td>0</td>\n",
       "      <td>0</td>\n",
       "      <td>0</td>\n",
       "      <td>0</td>\n",
       "      <td>0</td>\n",
       "      <td>...</td>\n",
       "      <td>0</td>\n",
       "      <td>0</td>\n",
       "      <td>0</td>\n",
       "      <td>0</td>\n",
       "      <td>0</td>\n",
       "      <td>0</td>\n",
       "      <td>0</td>\n",
       "      <td>0</td>\n",
       "      <td>0</td>\n",
       "      <td>0</td>\n",
       "    </tr>\n",
       "    <tr>\n",
       "      <th>2</th>\n",
       "      <td>0</td>\n",
       "      <td>0</td>\n",
       "      <td>0</td>\n",
       "      <td>0</td>\n",
       "      <td>0</td>\n",
       "      <td>0</td>\n",
       "      <td>0</td>\n",
       "      <td>0</td>\n",
       "      <td>0</td>\n",
       "      <td>0</td>\n",
       "      <td>...</td>\n",
       "      <td>0</td>\n",
       "      <td>0</td>\n",
       "      <td>0</td>\n",
       "      <td>0</td>\n",
       "      <td>0</td>\n",
       "      <td>0</td>\n",
       "      <td>0</td>\n",
       "      <td>0</td>\n",
       "      <td>0</td>\n",
       "      <td>0</td>\n",
       "    </tr>\n",
       "    <tr>\n",
       "      <th>3</th>\n",
       "      <td>0</td>\n",
       "      <td>0</td>\n",
       "      <td>0</td>\n",
       "      <td>0</td>\n",
       "      <td>0</td>\n",
       "      <td>0</td>\n",
       "      <td>0</td>\n",
       "      <td>0</td>\n",
       "      <td>0</td>\n",
       "      <td>0</td>\n",
       "      <td>...</td>\n",
       "      <td>0</td>\n",
       "      <td>0</td>\n",
       "      <td>0</td>\n",
       "      <td>0</td>\n",
       "      <td>0</td>\n",
       "      <td>0</td>\n",
       "      <td>0</td>\n",
       "      <td>0</td>\n",
       "      <td>0</td>\n",
       "      <td>0</td>\n",
       "    </tr>\n",
       "    <tr>\n",
       "      <th>4</th>\n",
       "      <td>0</td>\n",
       "      <td>0</td>\n",
       "      <td>0</td>\n",
       "      <td>0</td>\n",
       "      <td>0</td>\n",
       "      <td>0</td>\n",
       "      <td>0</td>\n",
       "      <td>0</td>\n",
       "      <td>0</td>\n",
       "      <td>0</td>\n",
       "      <td>...</td>\n",
       "      <td>0</td>\n",
       "      <td>0</td>\n",
       "      <td>0</td>\n",
       "      <td>0</td>\n",
       "      <td>0</td>\n",
       "      <td>0</td>\n",
       "      <td>0</td>\n",
       "      <td>0</td>\n",
       "      <td>0</td>\n",
       "      <td>0</td>\n",
       "    </tr>\n",
       "  </tbody>\n",
       "</table>\n",
       "<p>5 rows × 10000 columns</p>\n",
       "</div>"
      ],
      "text/plain": [
       "   01  02  03  04  05  06  06 08  06 10  06 18  06 pours  ...  yumm  yummy  \\\n",
       "0   0   0   0   0   0   0      0      0      0         0  ...     0      0   \n",
       "1   0   0   0   0   0   0      0      0      0         0  ...     0      0   \n",
       "2   0   0   0   0   0   0      0      0      0         0  ...     0      0   \n",
       "3   0   0   0   0   0   0      0      0      0         0  ...     0      0   \n",
       "4   0   0   0   0   0   0      0      0      0         0  ...     0      0   \n",
       "\n",
       "   zero  zero carbonation  zero head  zest  zest flavor  zesty  zhukovs  zing  \n",
       "0     0                 0          0     0            0      0        0     0  \n",
       "1     0                 0          0     0            0      0        0     0  \n",
       "2     0                 0          0     0            0      0        0     0  \n",
       "3     0                 0          0     0            0      0        0     0  \n",
       "4     0                 0          0     0            0      0        0     0  \n",
       "\n",
       "[5 rows x 10000 columns]"
      ]
     },
     "execution_count": 91,
     "metadata": {},
     "output_type": "execute_result"
    }
   ],
   "source": [
    "X_train_r_transformed = count_vect_r.transform(X_train_r.review)\n",
    "train_df_r = pd.DataFrame(X_train_r_transformed.toarray(), columns=count_vect_r.get_feature_names())\n",
    "train_df_r.head()"
   ]
  },
  {
   "cell_type": "code",
   "execution_count": 92,
   "metadata": {},
   "outputs": [],
   "source": [
    "tfidf_trans_r = TfidfTransformer().fit(train_df_r)"
   ]
  },
  {
   "cell_type": "code",
   "execution_count": 93,
   "metadata": {},
   "outputs": [],
   "source": [
    "training_tfidf_r = tfidf_trans_r.transform(train_df_r)"
   ]
  },
  {
   "cell_type": "code",
   "execution_count": 94,
   "metadata": {},
   "outputs": [
    {
     "data": {
      "text/html": [
       "<div>\n",
       "<style scoped>\n",
       "    .dataframe tbody tr th:only-of-type {\n",
       "        vertical-align: middle;\n",
       "    }\n",
       "\n",
       "    .dataframe tbody tr th {\n",
       "        vertical-align: top;\n",
       "    }\n",
       "\n",
       "    .dataframe thead th {\n",
       "        text-align: right;\n",
       "    }\n",
       "</style>\n",
       "<table border=\"1\" class=\"dataframe\">\n",
       "  <thead>\n",
       "    <tr style=\"text-align: right;\">\n",
       "      <th></th>\n",
       "      <th>0</th>\n",
       "      <th>1</th>\n",
       "      <th>2</th>\n",
       "      <th>3</th>\n",
       "      <th>4</th>\n",
       "      <th>5</th>\n",
       "      <th>6</th>\n",
       "      <th>7</th>\n",
       "      <th>8</th>\n",
       "      <th>9</th>\n",
       "      <th>...</th>\n",
       "      <th>9990</th>\n",
       "      <th>9991</th>\n",
       "      <th>9992</th>\n",
       "      <th>9993</th>\n",
       "      <th>9994</th>\n",
       "      <th>9995</th>\n",
       "      <th>9996</th>\n",
       "      <th>9997</th>\n",
       "      <th>9998</th>\n",
       "      <th>9999</th>\n",
       "    </tr>\n",
       "  </thead>\n",
       "  <tbody>\n",
       "    <tr>\n",
       "      <th>0</th>\n",
       "      <td>0.0</td>\n",
       "      <td>0.0</td>\n",
       "      <td>0.0</td>\n",
       "      <td>0.0</td>\n",
       "      <td>0.0</td>\n",
       "      <td>0.0</td>\n",
       "      <td>0.0</td>\n",
       "      <td>0.0</td>\n",
       "      <td>0.0</td>\n",
       "      <td>0.0</td>\n",
       "      <td>...</td>\n",
       "      <td>0.0</td>\n",
       "      <td>0.0</td>\n",
       "      <td>0.0</td>\n",
       "      <td>0.0</td>\n",
       "      <td>0.0</td>\n",
       "      <td>0.0</td>\n",
       "      <td>0.0</td>\n",
       "      <td>0.0</td>\n",
       "      <td>0.0</td>\n",
       "      <td>0.0</td>\n",
       "    </tr>\n",
       "    <tr>\n",
       "      <th>1</th>\n",
       "      <td>0.0</td>\n",
       "      <td>0.0</td>\n",
       "      <td>0.0</td>\n",
       "      <td>0.0</td>\n",
       "      <td>0.0</td>\n",
       "      <td>0.0</td>\n",
       "      <td>0.0</td>\n",
       "      <td>0.0</td>\n",
       "      <td>0.0</td>\n",
       "      <td>0.0</td>\n",
       "      <td>...</td>\n",
       "      <td>0.0</td>\n",
       "      <td>0.0</td>\n",
       "      <td>0.0</td>\n",
       "      <td>0.0</td>\n",
       "      <td>0.0</td>\n",
       "      <td>0.0</td>\n",
       "      <td>0.0</td>\n",
       "      <td>0.0</td>\n",
       "      <td>0.0</td>\n",
       "      <td>0.0</td>\n",
       "    </tr>\n",
       "    <tr>\n",
       "      <th>2</th>\n",
       "      <td>0.0</td>\n",
       "      <td>0.0</td>\n",
       "      <td>0.0</td>\n",
       "      <td>0.0</td>\n",
       "      <td>0.0</td>\n",
       "      <td>0.0</td>\n",
       "      <td>0.0</td>\n",
       "      <td>0.0</td>\n",
       "      <td>0.0</td>\n",
       "      <td>0.0</td>\n",
       "      <td>...</td>\n",
       "      <td>0.0</td>\n",
       "      <td>0.0</td>\n",
       "      <td>0.0</td>\n",
       "      <td>0.0</td>\n",
       "      <td>0.0</td>\n",
       "      <td>0.0</td>\n",
       "      <td>0.0</td>\n",
       "      <td>0.0</td>\n",
       "      <td>0.0</td>\n",
       "      <td>0.0</td>\n",
       "    </tr>\n",
       "    <tr>\n",
       "      <th>3</th>\n",
       "      <td>0.0</td>\n",
       "      <td>0.0</td>\n",
       "      <td>0.0</td>\n",
       "      <td>0.0</td>\n",
       "      <td>0.0</td>\n",
       "      <td>0.0</td>\n",
       "      <td>0.0</td>\n",
       "      <td>0.0</td>\n",
       "      <td>0.0</td>\n",
       "      <td>0.0</td>\n",
       "      <td>...</td>\n",
       "      <td>0.0</td>\n",
       "      <td>0.0</td>\n",
       "      <td>0.0</td>\n",
       "      <td>0.0</td>\n",
       "      <td>0.0</td>\n",
       "      <td>0.0</td>\n",
       "      <td>0.0</td>\n",
       "      <td>0.0</td>\n",
       "      <td>0.0</td>\n",
       "      <td>0.0</td>\n",
       "    </tr>\n",
       "    <tr>\n",
       "      <th>4</th>\n",
       "      <td>0.0</td>\n",
       "      <td>0.0</td>\n",
       "      <td>0.0</td>\n",
       "      <td>0.0</td>\n",
       "      <td>0.0</td>\n",
       "      <td>0.0</td>\n",
       "      <td>0.0</td>\n",
       "      <td>0.0</td>\n",
       "      <td>0.0</td>\n",
       "      <td>0.0</td>\n",
       "      <td>...</td>\n",
       "      <td>0.0</td>\n",
       "      <td>0.0</td>\n",
       "      <td>0.0</td>\n",
       "      <td>0.0</td>\n",
       "      <td>0.0</td>\n",
       "      <td>0.0</td>\n",
       "      <td>0.0</td>\n",
       "      <td>0.0</td>\n",
       "      <td>0.0</td>\n",
       "      <td>0.0</td>\n",
       "    </tr>\n",
       "  </tbody>\n",
       "</table>\n",
       "<p>5 rows × 10000 columns</p>\n",
       "</div>"
      ],
      "text/plain": [
       "   0     1     2     3     4     5     6     7     8     9     ...  9990  \\\n",
       "0   0.0   0.0   0.0   0.0   0.0   0.0   0.0   0.0   0.0   0.0  ...   0.0   \n",
       "1   0.0   0.0   0.0   0.0   0.0   0.0   0.0   0.0   0.0   0.0  ...   0.0   \n",
       "2   0.0   0.0   0.0   0.0   0.0   0.0   0.0   0.0   0.0   0.0  ...   0.0   \n",
       "3   0.0   0.0   0.0   0.0   0.0   0.0   0.0   0.0   0.0   0.0  ...   0.0   \n",
       "4   0.0   0.0   0.0   0.0   0.0   0.0   0.0   0.0   0.0   0.0  ...   0.0   \n",
       "\n",
       "   9991  9992  9993  9994  9995  9996  9997  9998  9999  \n",
       "0   0.0   0.0   0.0   0.0   0.0   0.0   0.0   0.0   0.0  \n",
       "1   0.0   0.0   0.0   0.0   0.0   0.0   0.0   0.0   0.0  \n",
       "2   0.0   0.0   0.0   0.0   0.0   0.0   0.0   0.0   0.0  \n",
       "3   0.0   0.0   0.0   0.0   0.0   0.0   0.0   0.0   0.0  \n",
       "4   0.0   0.0   0.0   0.0   0.0   0.0   0.0   0.0   0.0  \n",
       "\n",
       "[5 rows x 10000 columns]"
      ]
     },
     "execution_count": 94,
     "metadata": {},
     "output_type": "execute_result"
    }
   ],
   "source": [
    "tfidf_df_r = pd.DataFrame(training_tfidf_r.toarray())\n",
    "tfidf_df_r.head()"
   ]
  },
  {
   "cell_type": "code",
   "execution_count": 95,
   "metadata": {},
   "outputs": [
    {
     "name": "stdout",
     "output_type": "stream",
     "text": [
      "<class 'scipy.sparse.csr.csr_matrix'>\n",
      "(5420, 10000)\n"
     ]
    }
   ],
   "source": [
    "test_countvect_r = count_vect_r.transform(X_test_r.review)\n",
    "test_tfidf_r = tfidf_trans_r.transform(test_countvect_r)\n",
    "print(type(test_tfidf_r))\n",
    "print(pd.DataFrame(test_tfidf_r.toarray()).shape)"
   ]
  },
  {
   "cell_type": "code",
   "execution_count": 96,
   "metadata": {},
   "outputs": [
    {
     "name": "stderr",
     "output_type": "stream",
     "text": [
      "/opt/anaconda3/lib/python3.7/site-packages/sklearn/linear_model/_logistic.py:940: ConvergenceWarning: lbfgs failed to converge (status=1):\n",
      "STOP: TOTAL NO. of ITERATIONS REACHED LIMIT.\n",
      "\n",
      "Increase the number of iterations (max_iter) or scale the data as shown in:\n",
      "    https://scikit-learn.org/stable/modules/preprocessing.html\n",
      "Please also refer to the documentation for alternative solver options:\n",
      "    https://scikit-learn.org/stable/modules/linear_model.html#logistic-regression\n",
      "  extra_warning_msg=_LOGISTIC_SOLVER_CONVERGENCE_MSG)\n"
     ]
    },
    {
     "data": {
      "text/plain": [
       "LogisticRegression(C=1.0, class_weight=None, dual=False, fit_intercept=True,\n",
       "                   intercept_scaling=1, l1_ratio=None, max_iter=100,\n",
       "                   multi_class='auto', n_jobs=None, penalty='l2',\n",
       "                   random_state=None, solver='lbfgs', tol=0.0001, verbose=0,\n",
       "                   warm_start=False)"
      ]
     },
     "execution_count": 96,
     "metadata": {},
     "output_type": "execute_result"
    }
   ],
   "source": [
    "lr.fit(tfidf_df_r, y_train_r)"
   ]
  },
  {
   "cell_type": "code",
   "execution_count": 97,
   "metadata": {},
   "outputs": [],
   "source": [
    "resampled_prediction = lr.predict(test_tfidf_r)"
   ]
  },
  {
   "cell_type": "code",
   "execution_count": 98,
   "metadata": {},
   "outputs": [
    {
     "name": "stdout",
     "output_type": "stream",
     "text": [
      "Accuracy Score: 0.8915129151291513\n",
      "\n",
      "Classification Report:\n",
      "              precision    recall  f1-score   support\n",
      "\n",
      "           0       0.84      0.85      0.85      1782\n",
      "           1       0.94      1.00      0.97      1808\n",
      "           2       0.89      0.82      0.85      1830\n",
      "\n",
      "    accuracy                           0.89      5420\n",
      "   macro avg       0.89      0.89      0.89      5420\n",
      "weighted avg       0.89      0.89      0.89      5420\n",
      "\n",
      "\n",
      "Confusion Matrix:\n",
      "[[1518   75  189]\n",
      " [   1 1807    0]\n",
      " [ 289   34 1507]]\n",
      "\n"
     ]
    }
   ],
   "source": [
    "print(\"Accuracy Score: {}\\n\".format(accuracy_score(y_test_r, resampled_prediction)))\n",
    "# print(\"ROC score = {}\\n\".format(roc_auc_score(y_test, proba[:,1])))\n",
    "print(\"Classification Report:\\n{}\\n\".format(classification_report(y_test_r, resampled_prediction)))\n",
    "print(\"Confusion Matrix:\\n{}\\n\".format(confusion_matrix(y_test_r, resampled_prediction)))"
   ]
  },
  {
   "cell_type": "code",
   "execution_count": 101,
   "metadata": {},
   "outputs": [
    {
     "data": {
      "text/html": [
       "<div>\n",
       "<style scoped>\n",
       "    .dataframe tbody tr th:only-of-type {\n",
       "        vertical-align: middle;\n",
       "    }\n",
       "\n",
       "    .dataframe tbody tr th {\n",
       "        vertical-align: top;\n",
       "    }\n",
       "\n",
       "    .dataframe thead th {\n",
       "        text-align: right;\n",
       "    }\n",
       "</style>\n",
       "<table border=\"1\" class=\"dataframe\">\n",
       "  <thead>\n",
       "    <tr style=\"text-align: right;\">\n",
       "      <th></th>\n",
       "      <th>name</th>\n",
       "    </tr>\n",
       "  </thead>\n",
       "  <tbody>\n",
       "    <tr>\n",
       "      <th>2</th>\n",
       "      <td>Terrapin Hop Karma Brown IPA</td>\n",
       "    </tr>\n",
       "    <tr>\n",
       "      <th>1</th>\n",
       "      <td>Holdens Black Country Mild</td>\n",
       "    </tr>\n",
       "    <tr>\n",
       "      <th>2</th>\n",
       "      <td>Terrapin Hop Karma Brown IPA</td>\n",
       "    </tr>\n",
       "    <tr>\n",
       "      <th>1</th>\n",
       "      <td>Holdens Black Country Mild</td>\n",
       "    </tr>\n",
       "    <tr>\n",
       "      <th>2</th>\n",
       "      <td>Terrapin Hop Karma Brown IPA</td>\n",
       "    </tr>\n",
       "    <tr>\n",
       "      <th>...</th>\n",
       "      <td>...</td>\n",
       "    </tr>\n",
       "    <tr>\n",
       "      <th>2</th>\n",
       "      <td>Terrapin Hop Karma Brown IPA</td>\n",
       "    </tr>\n",
       "    <tr>\n",
       "      <th>0</th>\n",
       "      <td>Big Bear Brown Bear Ale</td>\n",
       "    </tr>\n",
       "    <tr>\n",
       "      <th>0</th>\n",
       "      <td>Big Bear Brown Bear Ale</td>\n",
       "    </tr>\n",
       "    <tr>\n",
       "      <th>1</th>\n",
       "      <td>Holdens Black Country Mild</td>\n",
       "    </tr>\n",
       "    <tr>\n",
       "      <th>1</th>\n",
       "      <td>Holdens Black Country Mild</td>\n",
       "    </tr>\n",
       "  </tbody>\n",
       "</table>\n",
       "<p>5420 rows × 1 columns</p>\n",
       "</div>"
      ],
      "text/plain": [
       "                            name\n",
       "2   Terrapin Hop Karma Brown IPA\n",
       "1     Holdens Black Country Mild\n",
       "2   Terrapin Hop Karma Brown IPA\n",
       "1     Holdens Black Country Mild\n",
       "2   Terrapin Hop Karma Brown IPA\n",
       "..                           ...\n",
       "2   Terrapin Hop Karma Brown IPA\n",
       "0        Big Bear Brown Bear Ale\n",
       "0        Big Bear Brown Bear Ale\n",
       "1     Holdens Black Country Mild\n",
       "1     Holdens Black Country Mild\n",
       "\n",
       "[5420 rows x 1 columns]"
      ]
     },
     "execution_count": 101,
     "metadata": {},
     "output_type": "execute_result"
    }
   ],
   "source": [
    "pred_df_resampled = pd.DataFrame(X_test_r['name'], resampled_prediction)\n",
    "pred_df_resampled"
   ]
  },
  {
   "cell_type": "code",
   "execution_count": 102,
   "metadata": {},
   "outputs": [],
   "source": [
    "pred_df_resampled.to_csv('prediction_resampled.csv')"
   ]
  },
  {
   "cell_type": "code",
   "execution_count": 104,
   "metadata": {},
   "outputs": [],
   "source": [
    "test_reviews_countvect_r = count_vect_r.transform(test.review)\n",
    "test_reviews_tfidf_r = tfidf_trans_r.transform(test_reviews_countvect_r)"
   ]
  },
  {
   "cell_type": "code",
   "execution_count": 105,
   "metadata": {},
   "outputs": [],
   "source": [
    "test_predictions_new = lr.predict(test_reviews_tfidf_r)"
   ]
  },
  {
   "cell_type": "code",
   "execution_count": 106,
   "metadata": {},
   "outputs": [
    {
     "data": {
      "text/plain": [
       "array([2, 0, 2, 0, 1, 2, 2, 2, 0, 2, 2, 2, 2, 2, 2, 2, 0, 2, 2, 0, 1])"
      ]
     },
     "execution_count": 106,
     "metadata": {},
     "output_type": "execute_result"
    }
   ],
   "source": [
    "test_predictions_new"
   ]
  },
  {
   "cell_type": "code",
   "execution_count": 107,
   "metadata": {},
   "outputs": [],
   "source": [
    "# Random Forest Classifier"
   ]
  },
  {
   "cell_type": "code",
   "execution_count": 108,
   "metadata": {},
   "outputs": [
    {
     "data": {
      "text/plain": [
       "RandomForestClassifier(bootstrap=True, ccp_alpha=0.0, class_weight=None,\n",
       "                       criterion='gini', max_depth=None, max_features='auto',\n",
       "                       max_leaf_nodes=None, max_samples=None,\n",
       "                       min_impurity_decrease=0.0, min_impurity_split=None,\n",
       "                       min_samples_leaf=1, min_samples_split=2,\n",
       "                       min_weight_fraction_leaf=0.0, n_estimators=100,\n",
       "                       n_jobs=None, oob_score=False, random_state=None,\n",
       "                       verbose=0, warm_start=False)"
      ]
     },
     "execution_count": 108,
     "metadata": {},
     "output_type": "execute_result"
    }
   ],
   "source": [
    "rf.fit(tfidf_df_r, y_train_r)"
   ]
  },
  {
   "cell_type": "code",
   "execution_count": 109,
   "metadata": {},
   "outputs": [],
   "source": [
    "rf_resampled_predictions = rf.predict(test_tfidf_r)"
   ]
  },
  {
   "cell_type": "code",
   "execution_count": 111,
   "metadata": {},
   "outputs": [
    {
     "name": "stdout",
     "output_type": "stream",
     "text": [
      "Accuracy Score: 0.9380073800738007\n",
      "\n",
      "Classification Report:\n",
      "              precision    recall  f1-score   support\n",
      "\n",
      "           0       0.93      0.88      0.91      1782\n",
      "           1       0.99      1.00      1.00      1808\n",
      "           2       0.89      0.93      0.91      1830\n",
      "\n",
      "    accuracy                           0.94      5420\n",
      "   macro avg       0.94      0.94      0.94      5420\n",
      "weighted avg       0.94      0.94      0.94      5420\n",
      "\n",
      "\n",
      "Confusion Matrix:\n",
      "[[1571    3  208]\n",
      " [   0 1808    0]\n",
      " [ 118    7 1705]]\n",
      "\n"
     ]
    }
   ],
   "source": [
    "print(\"Accuracy Score: {}\\n\".format(accuracy_score(y_test_r, rf_resampled_predictions)))\n",
    "# print(\"ROC score = {}\\n\".format(roc_auc_score(y_test, proba[:,1])))\n",
    "print(\"Classification Report:\\n{}\\n\".format(classification_report(y_test_r, rf_resampled_predictions)))\n",
    "print(\"Confusion Matrix:\\n{}\\n\".format(confusion_matrix(y_test_r, rf_resampled_predictions)))"
   ]
  },
  {
   "cell_type": "code",
   "execution_count": 112,
   "metadata": {},
   "outputs": [
    {
     "data": {
      "text/plain": [
       "array([2, 0, 2, 0, 0, 2, 2, 2, 2, 2, 2, 0, 2, 2, 2, 2, 2, 2, 2, 2, 2])"
      ]
     },
     "execution_count": 112,
     "metadata": {},
     "output_type": "execute_result"
    }
   ],
   "source": [
    "rf_test_predictions_new = rf.predict(test_reviews_tfidf_r)\n",
    "rf_test_predictions_new"
   ]
  },
  {
   "cell_type": "code",
   "execution_count": 113,
   "metadata": {},
   "outputs": [
    {
     "data": {
      "text/plain": [
       "GridSearchCV(cv=5, error_score=nan,\n",
       "             estimator=RandomForestClassifier(bootstrap=True, ccp_alpha=0.0,\n",
       "                                              class_weight=None,\n",
       "                                              criterion='gini', max_depth=None,\n",
       "                                              max_features='auto',\n",
       "                                              max_leaf_nodes=None,\n",
       "                                              max_samples=None,\n",
       "                                              min_impurity_decrease=0.0,\n",
       "                                              min_impurity_split=None,\n",
       "                                              min_samples_leaf=1,\n",
       "                                              min_samples_split=2,\n",
       "                                              min_weight_fraction_leaf=0.0,\n",
       "                                              n_estimators=100, n_jobs=None,\n",
       "                                              oob_score=False,\n",
       "                                              random_state=None, verbose=0,\n",
       "                                              warm_start=False),\n",
       "             iid='deprecated', n_jobs=None,\n",
       "             param_grid={'criterion': ['gini', 'entropy'], 'max_depth': [4, 8],\n",
       "                         'max_features': ['auto', 'log2'],\n",
       "                         'n_estimators': [10, 50, 100]},\n",
       "             pre_dispatch='2*n_jobs', refit=True, return_train_score=False,\n",
       "             scoring=None, verbose=0)"
      ]
     },
     "execution_count": 113,
     "metadata": {},
     "output_type": "execute_result"
    }
   ],
   "source": [
    "cv_model.fit(tfidf_df_r, y_train_r)"
   ]
  },
  {
   "cell_type": "code",
   "execution_count": 115,
   "metadata": {},
   "outputs": [],
   "source": [
    "cv_resampled_predictions = cv_model.predict(test_tfidf_r)"
   ]
  },
  {
   "cell_type": "code",
   "execution_count": 117,
   "metadata": {},
   "outputs": [
    {
     "name": "stdout",
     "output_type": "stream",
     "text": [
      "Accuracy Score: 0.73690036900369\n",
      "\n",
      "Classification Report:\n",
      "              precision    recall  f1-score   support\n",
      "\n",
      "           0       0.75      0.51      0.61      1782\n",
      "           1       0.70      0.98      0.82      1808\n",
      "           2       0.79      0.72      0.75      1830\n",
      "\n",
      "    accuracy                           0.74      5420\n",
      "   macro avg       0.74      0.74      0.72      5420\n",
      "weighted avg       0.74      0.74      0.72      5420\n",
      "\n",
      "\n",
      "Confusion Matrix:\n",
      "[[ 908  520  354]\n",
      " [  33 1775    0]\n",
      " [ 272  247 1311]]\n",
      "\n"
     ]
    }
   ],
   "source": [
    "print(\"Accuracy Score: {}\\n\".format(accuracy_score(y_test_r, cv_resampled_predictions)))\n",
    "# print(\"ROC score = {}\\n\".format(roc_auc_score(y_test, proba[:,1])))\n",
    "print(\"Classification Report:\\n{}\\n\".format(classification_report(y_test_r, cv_resampled_predictions)))\n",
    "print(\"Confusion Matrix:\\n{}\\n\".format(confusion_matrix(y_test_r, cv_resampled_predictions)))"
   ]
  },
  {
   "cell_type": "code",
   "execution_count": 118,
   "metadata": {},
   "outputs": [
    {
     "name": "stdout",
     "output_type": "stream",
     "text": [
      "{'criterion': 'gini', 'max_depth': 8, 'max_features': 'auto', 'n_estimators': 100}\n"
     ]
    }
   ],
   "source": [
    "print(cv_model.best_params_)"
   ]
  },
  {
   "cell_type": "code",
   "execution_count": null,
   "metadata": {},
   "outputs": [],
   "source": []
  },
  {
   "cell_type": "code",
   "execution_count": 114,
   "metadata": {},
   "outputs": [],
   "source": [
    "# Saving the model"
   ]
  },
  {
   "cell_type": "code",
   "execution_count": 119,
   "metadata": {},
   "outputs": [],
   "source": [
    "import pickle"
   ]
  },
  {
   "cell_type": "code",
   "execution_count": 123,
   "metadata": {},
   "outputs": [],
   "source": [
    "filename = \"finalized_model.h5\"\n",
    "pickle.dump(lr, open(filename, 'wb'))"
   ]
  }
 ],
 "metadata": {
  "kernelspec": {
   "display_name": "Python 3",
   "language": "python",
   "name": "python3"
  },
  "language_info": {
   "codemirror_mode": {
    "name": "ipython",
    "version": 3
   },
   "file_extension": ".py",
   "mimetype": "text/x-python",
   "name": "python",
   "nbconvert_exporter": "python",
   "pygments_lexer": "ipython3",
   "version": "3.7.4"
  }
 },
 "nbformat": 4,
 "nbformat_minor": 2
}
