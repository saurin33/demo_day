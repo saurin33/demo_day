{
 "cells": [
  {
   "cell_type": "code",
   "execution_count": 1,
   "metadata": {},
   "outputs": [],
   "source": [
    "import pandas as pd\n",
    "import numpy as np\n",
    "import matplotlib.pyplot as plt\n",
    "import seaborn as sns\n",
    "from pprint import pprint as pp\n",
    "%matplotlib inline"
   ]
  },
  {
   "cell_type": "code",
   "execution_count": 2,
   "metadata": {},
   "outputs": [
    {
     "data": {
      "text/html": [
       "<div>\n",
       "<style scoped>\n",
       "    .dataframe tbody tr th:only-of-type {\n",
       "        vertical-align: middle;\n",
       "    }\n",
       "\n",
       "    .dataframe tbody tr th {\n",
       "        vertical-align: top;\n",
       "    }\n",
       "\n",
       "    .dataframe thead th {\n",
       "        text-align: right;\n",
       "    }\n",
       "</style>\n",
       "<table border=\"1\" class=\"dataframe\">\n",
       "  <thead>\n",
       "    <tr style=\"text-align: right;\">\n",
       "      <th></th>\n",
       "      <th>step</th>\n",
       "      <th>customer</th>\n",
       "      <th>age</th>\n",
       "      <th>gender</th>\n",
       "      <th>zipcodeOri</th>\n",
       "      <th>merchant</th>\n",
       "      <th>zipMerchant</th>\n",
       "      <th>category</th>\n",
       "      <th>amount</th>\n",
       "      <th>fraud</th>\n",
       "    </tr>\n",
       "  </thead>\n",
       "  <tbody>\n",
       "    <tr>\n",
       "      <th>0</th>\n",
       "      <td>0</td>\n",
       "      <td>'C1093826151'</td>\n",
       "      <td>'4'</td>\n",
       "      <td>'M'</td>\n",
       "      <td>'28007'</td>\n",
       "      <td>'M348934600'</td>\n",
       "      <td>'28007'</td>\n",
       "      <td>'es_transportation'</td>\n",
       "      <td>4.55</td>\n",
       "      <td>0</td>\n",
       "    </tr>\n",
       "    <tr>\n",
       "      <th>1</th>\n",
       "      <td>0</td>\n",
       "      <td>'C352968107'</td>\n",
       "      <td>'2'</td>\n",
       "      <td>'M'</td>\n",
       "      <td>'28007'</td>\n",
       "      <td>'M348934600'</td>\n",
       "      <td>'28007'</td>\n",
       "      <td>'es_transportation'</td>\n",
       "      <td>39.68</td>\n",
       "      <td>0</td>\n",
       "    </tr>\n",
       "    <tr>\n",
       "      <th>2</th>\n",
       "      <td>0</td>\n",
       "      <td>'C2054744914'</td>\n",
       "      <td>'4'</td>\n",
       "      <td>'F'</td>\n",
       "      <td>'28007'</td>\n",
       "      <td>'M1823072687'</td>\n",
       "      <td>'28007'</td>\n",
       "      <td>'es_transportation'</td>\n",
       "      <td>26.89</td>\n",
       "      <td>0</td>\n",
       "    </tr>\n",
       "    <tr>\n",
       "      <th>3</th>\n",
       "      <td>0</td>\n",
       "      <td>'C1760612790'</td>\n",
       "      <td>'3'</td>\n",
       "      <td>'M'</td>\n",
       "      <td>'28007'</td>\n",
       "      <td>'M348934600'</td>\n",
       "      <td>'28007'</td>\n",
       "      <td>'es_transportation'</td>\n",
       "      <td>17.25</td>\n",
       "      <td>0</td>\n",
       "    </tr>\n",
       "    <tr>\n",
       "      <th>4</th>\n",
       "      <td>0</td>\n",
       "      <td>'C757503768'</td>\n",
       "      <td>'5'</td>\n",
       "      <td>'M'</td>\n",
       "      <td>'28007'</td>\n",
       "      <td>'M348934600'</td>\n",
       "      <td>'28007'</td>\n",
       "      <td>'es_transportation'</td>\n",
       "      <td>35.72</td>\n",
       "      <td>0</td>\n",
       "    </tr>\n",
       "  </tbody>\n",
       "</table>\n",
       "</div>"
      ],
      "text/plain": [
       "   step       customer  age gender zipcodeOri       merchant zipMerchant  \\\n",
       "0     0  'C1093826151'  '4'    'M'    '28007'   'M348934600'     '28007'   \n",
       "1     0   'C352968107'  '2'    'M'    '28007'   'M348934600'     '28007'   \n",
       "2     0  'C2054744914'  '4'    'F'    '28007'  'M1823072687'     '28007'   \n",
       "3     0  'C1760612790'  '3'    'M'    '28007'   'M348934600'     '28007'   \n",
       "4     0   'C757503768'  '5'    'M'    '28007'   'M348934600'     '28007'   \n",
       "\n",
       "              category  amount  fraud  \n",
       "0  'es_transportation'    4.55      0  \n",
       "1  'es_transportation'   39.68      0  \n",
       "2  'es_transportation'   26.89      0  \n",
       "3  'es_transportation'   17.25      0  \n",
       "4  'es_transportation'   35.72      0  "
      ]
     },
     "execution_count": 2,
     "metadata": {},
     "output_type": "execute_result"
    }
   ],
   "source": [
    "bank = pd.read_csv('/users/saurin/desktop/Datacamp/Fraud Protection/bank_data.csv')\n",
    "bank.head()"
   ]
  },
  {
   "cell_type": "code",
   "execution_count": 3,
   "metadata": {},
   "outputs": [
    {
     "name": "stdout",
     "output_type": "stream",
     "text": [
      "<class 'pandas.core.frame.DataFrame'>\n",
      "RangeIndex: 594643 entries, 0 to 594642\n",
      "Data columns (total 10 columns):\n",
      " #   Column       Non-Null Count   Dtype  \n",
      "---  ------       --------------   -----  \n",
      " 0   step         594643 non-null  int64  \n",
      " 1   customer     594643 non-null  object \n",
      " 2   age          594643 non-null  object \n",
      " 3   gender       594643 non-null  object \n",
      " 4   zipcodeOri   594643 non-null  object \n",
      " 5   merchant     594643 non-null  object \n",
      " 6   zipMerchant  594643 non-null  object \n",
      " 7   category     594643 non-null  object \n",
      " 8   amount       594643 non-null  float64\n",
      " 9   fraud        594643 non-null  int64  \n",
      "dtypes: float64(1), int64(2), object(7)\n",
      "memory usage: 45.4+ MB\n"
     ]
    }
   ],
   "source": [
    "bank.info()"
   ]
  },
  {
   "cell_type": "code",
   "execution_count": 4,
   "metadata": {},
   "outputs": [
    {
     "data": {
      "text/html": [
       "<div>\n",
       "<style scoped>\n",
       "    .dataframe tbody tr th:only-of-type {\n",
       "        vertical-align: middle;\n",
       "    }\n",
       "\n",
       "    .dataframe tbody tr th {\n",
       "        vertical-align: top;\n",
       "    }\n",
       "\n",
       "    .dataframe thead th {\n",
       "        text-align: right;\n",
       "    }\n",
       "</style>\n",
       "<table border=\"1\" class=\"dataframe\">\n",
       "  <thead>\n",
       "    <tr style=\"text-align: right;\">\n",
       "      <th></th>\n",
       "      <th>age</th>\n",
       "      <th>gender</th>\n",
       "      <th>category</th>\n",
       "      <th>amount</th>\n",
       "      <th>fraud</th>\n",
       "    </tr>\n",
       "  </thead>\n",
       "  <tbody>\n",
       "    <tr>\n",
       "      <th>0</th>\n",
       "      <td>'4'</td>\n",
       "      <td>'M'</td>\n",
       "      <td>'es_transportation'</td>\n",
       "      <td>4.55</td>\n",
       "      <td>0</td>\n",
       "    </tr>\n",
       "    <tr>\n",
       "      <th>1</th>\n",
       "      <td>'2'</td>\n",
       "      <td>'M'</td>\n",
       "      <td>'es_transportation'</td>\n",
       "      <td>39.68</td>\n",
       "      <td>0</td>\n",
       "    </tr>\n",
       "    <tr>\n",
       "      <th>2</th>\n",
       "      <td>'4'</td>\n",
       "      <td>'F'</td>\n",
       "      <td>'es_transportation'</td>\n",
       "      <td>26.89</td>\n",
       "      <td>0</td>\n",
       "    </tr>\n",
       "    <tr>\n",
       "      <th>3</th>\n",
       "      <td>'3'</td>\n",
       "      <td>'M'</td>\n",
       "      <td>'es_transportation'</td>\n",
       "      <td>17.25</td>\n",
       "      <td>0</td>\n",
       "    </tr>\n",
       "    <tr>\n",
       "      <th>4</th>\n",
       "      <td>'5'</td>\n",
       "      <td>'M'</td>\n",
       "      <td>'es_transportation'</td>\n",
       "      <td>35.72</td>\n",
       "      <td>0</td>\n",
       "    </tr>\n",
       "  </tbody>\n",
       "</table>\n",
       "</div>"
      ],
      "text/plain": [
       "   age gender             category  amount  fraud\n",
       "0  '4'    'M'  'es_transportation'    4.55      0\n",
       "1  '2'    'M'  'es_transportation'   39.68      0\n",
       "2  '4'    'F'  'es_transportation'   26.89      0\n",
       "3  '3'    'M'  'es_transportation'   17.25      0\n",
       "4  '5'    'M'  'es_transportation'   35.72      0"
      ]
     },
     "execution_count": 4,
     "metadata": {},
     "output_type": "execute_result"
    }
   ],
   "source": [
    "df = bank.drop(columns=['step', 'customer', 'zipcodeOri', 'merchant', 'zipMerchant'])\n",
    "df.head()"
   ]
  },
  {
   "cell_type": "code",
   "execution_count": 5,
   "metadata": {},
   "outputs": [
    {
     "data": {
      "text/html": [
       "<div>\n",
       "<style scoped>\n",
       "    .dataframe tbody tr th:only-of-type {\n",
       "        vertical-align: middle;\n",
       "    }\n",
       "\n",
       "    .dataframe tbody tr th {\n",
       "        vertical-align: top;\n",
       "    }\n",
       "\n",
       "    .dataframe thead th {\n",
       "        text-align: right;\n",
       "    }\n",
       "</style>\n",
       "<table border=\"1\" class=\"dataframe\">\n",
       "  <thead>\n",
       "    <tr style=\"text-align: right;\">\n",
       "      <th></th>\n",
       "      <th>amount</th>\n",
       "      <th>fraud</th>\n",
       "    </tr>\n",
       "    <tr>\n",
       "      <th>category</th>\n",
       "      <th></th>\n",
       "      <th></th>\n",
       "    </tr>\n",
       "  </thead>\n",
       "  <tbody>\n",
       "    <tr>\n",
       "      <th>'es_barsandrestaurants'</th>\n",
       "      <td>43.461014</td>\n",
       "      <td>0.018829</td>\n",
       "    </tr>\n",
       "    <tr>\n",
       "      <th>'es_contents'</th>\n",
       "      <td>44.547571</td>\n",
       "      <td>0.000000</td>\n",
       "    </tr>\n",
       "    <tr>\n",
       "      <th>'es_fashion'</th>\n",
       "      <td>65.666642</td>\n",
       "      <td>0.017973</td>\n",
       "    </tr>\n",
       "    <tr>\n",
       "      <th>'es_food'</th>\n",
       "      <td>37.070405</td>\n",
       "      <td>0.000000</td>\n",
       "    </tr>\n",
       "    <tr>\n",
       "      <th>'es_health'</th>\n",
       "      <td>135.621367</td>\n",
       "      <td>0.105126</td>\n",
       "    </tr>\n",
       "    <tr>\n",
       "      <th>'es_home'</th>\n",
       "      <td>165.670846</td>\n",
       "      <td>0.152064</td>\n",
       "    </tr>\n",
       "    <tr>\n",
       "      <th>'es_hotelservices'</th>\n",
       "      <td>205.614249</td>\n",
       "      <td>0.314220</td>\n",
       "    </tr>\n",
       "    <tr>\n",
       "      <th>'es_hyper'</th>\n",
       "      <td>45.970421</td>\n",
       "      <td>0.045917</td>\n",
       "    </tr>\n",
       "    <tr>\n",
       "      <th>'es_leisure'</th>\n",
       "      <td>288.911303</td>\n",
       "      <td>0.949900</td>\n",
       "    </tr>\n",
       "    <tr>\n",
       "      <th>'es_otherservices'</th>\n",
       "      <td>135.881524</td>\n",
       "      <td>0.250000</td>\n",
       "    </tr>\n",
       "    <tr>\n",
       "      <th>'es_sportsandtoys'</th>\n",
       "      <td>215.715280</td>\n",
       "      <td>0.495252</td>\n",
       "    </tr>\n",
       "    <tr>\n",
       "      <th>'es_tech'</th>\n",
       "      <td>120.947937</td>\n",
       "      <td>0.066667</td>\n",
       "    </tr>\n",
       "    <tr>\n",
       "      <th>'es_transportation'</th>\n",
       "      <td>26.958187</td>\n",
       "      <td>0.000000</td>\n",
       "    </tr>\n",
       "    <tr>\n",
       "      <th>'es_travel'</th>\n",
       "      <td>2250.409190</td>\n",
       "      <td>0.793956</td>\n",
       "    </tr>\n",
       "    <tr>\n",
       "      <th>'es_wellnessandbeauty'</th>\n",
       "      <td>65.511221</td>\n",
       "      <td>0.047594</td>\n",
       "    </tr>\n",
       "  </tbody>\n",
       "</table>\n",
       "</div>"
      ],
      "text/plain": [
       "                              amount     fraud\n",
       "category                                      \n",
       "'es_barsandrestaurants'    43.461014  0.018829\n",
       "'es_contents'              44.547571  0.000000\n",
       "'es_fashion'               65.666642  0.017973\n",
       "'es_food'                  37.070405  0.000000\n",
       "'es_health'               135.621367  0.105126\n",
       "'es_home'                 165.670846  0.152064\n",
       "'es_hotelservices'        205.614249  0.314220\n",
       "'es_hyper'                 45.970421  0.045917\n",
       "'es_leisure'              288.911303  0.949900\n",
       "'es_otherservices'        135.881524  0.250000\n",
       "'es_sportsandtoys'        215.715280  0.495252\n",
       "'es_tech'                 120.947937  0.066667\n",
       "'es_transportation'        26.958187  0.000000\n",
       "'es_travel'              2250.409190  0.793956\n",
       "'es_wellnessandbeauty'     65.511221  0.047594"
      ]
     },
     "execution_count": 5,
     "metadata": {},
     "output_type": "execute_result"
    }
   ],
   "source": [
    "df_transaction = df.groupby('category').mean()\n",
    "df_transaction"
   ]
  },
  {
   "cell_type": "code",
   "execution_count": 6,
   "metadata": {},
   "outputs": [
    {
     "data": {
      "text/html": [
       "<div>\n",
       "<style scoped>\n",
       "    .dataframe tbody tr th:only-of-type {\n",
       "        vertical-align: middle;\n",
       "    }\n",
       "\n",
       "    .dataframe tbody tr th {\n",
       "        vertical-align: top;\n",
       "    }\n",
       "\n",
       "    .dataframe thead th {\n",
       "        text-align: right;\n",
       "    }\n",
       "</style>\n",
       "<table border=\"1\" class=\"dataframe\">\n",
       "  <thead>\n",
       "    <tr style=\"text-align: right;\">\n",
       "      <th></th>\n",
       "      <th>amount</th>\n",
       "      <th>fraud</th>\n",
       "    </tr>\n",
       "    <tr>\n",
       "      <th>age</th>\n",
       "      <th></th>\n",
       "      <th></th>\n",
       "    </tr>\n",
       "  </thead>\n",
       "  <tbody>\n",
       "    <tr>\n",
       "      <th>'0'</th>\n",
       "      <td>46.602896</td>\n",
       "      <td>0.019576</td>\n",
       "    </tr>\n",
       "    <tr>\n",
       "      <th>'1'</th>\n",
       "      <td>37.530909</td>\n",
       "      <td>0.011853</td>\n",
       "    </tr>\n",
       "    <tr>\n",
       "      <th>'2'</th>\n",
       "      <td>38.358458</td>\n",
       "      <td>0.012514</td>\n",
       "    </tr>\n",
       "    <tr>\n",
       "      <th>'3'</th>\n",
       "      <td>37.879718</td>\n",
       "      <td>0.011928</td>\n",
       "    </tr>\n",
       "    <tr>\n",
       "      <th>'4'</th>\n",
       "      <td>38.201522</td>\n",
       "      <td>0.012933</td>\n",
       "    </tr>\n",
       "    <tr>\n",
       "      <th>'5'</th>\n",
       "      <td>36.426231</td>\n",
       "      <td>0.010951</td>\n",
       "    </tr>\n",
       "    <tr>\n",
       "      <th>'6'</th>\n",
       "      <td>36.865624</td>\n",
       "      <td>0.009748</td>\n",
       "    </tr>\n",
       "    <tr>\n",
       "      <th>'U'</th>\n",
       "      <td>36.627623</td>\n",
       "      <td>0.005942</td>\n",
       "    </tr>\n",
       "  </tbody>\n",
       "</table>\n",
       "</div>"
      ],
      "text/plain": [
       "        amount     fraud\n",
       "age                     \n",
       "'0'  46.602896  0.019576\n",
       "'1'  37.530909  0.011853\n",
       "'2'  38.358458  0.012514\n",
       "'3'  37.879718  0.011928\n",
       "'4'  38.201522  0.012933\n",
       "'5'  36.426231  0.010951\n",
       "'6'  36.865624  0.009748\n",
       "'U'  36.627623  0.005942"
      ]
     },
     "execution_count": 6,
     "metadata": {},
     "output_type": "execute_result"
    }
   ],
   "source": [
    "df_age = df.groupby('age').mean()\n",
    "df_age"
   ]
  },
  {
   "cell_type": "code",
   "execution_count": 7,
   "metadata": {},
   "outputs": [
    {
     "data": {
      "text/plain": [
       "'2'    187310\n",
       "'3'    147131\n",
       "'4'    109025\n",
       "'5'     62642\n",
       "'1'     58131\n",
       "'6'     26774\n",
       "'0'      2452\n",
       "'U'      1178\n",
       "Name: age, dtype: int64"
      ]
     },
     "execution_count": 7,
     "metadata": {},
     "output_type": "execute_result"
    }
   ],
   "source": [
    "count = df['age'].value_counts()\n",
    "count"
   ]
  },
  {
   "cell_type": "code",
   "execution_count": 8,
   "metadata": {},
   "outputs": [
    {
     "data": {
      "text/html": [
       "<div>\n",
       "<style scoped>\n",
       "    .dataframe tbody tr th:only-of-type {\n",
       "        vertical-align: middle;\n",
       "    }\n",
       "\n",
       "    .dataframe tbody tr th {\n",
       "        vertical-align: top;\n",
       "    }\n",
       "\n",
       "    .dataframe thead th {\n",
       "        text-align: right;\n",
       "    }\n",
       "</style>\n",
       "<table border=\"1\" class=\"dataframe\">\n",
       "  <thead>\n",
       "    <tr style=\"text-align: right;\">\n",
       "      <th></th>\n",
       "      <th>age</th>\n",
       "      <th>gender</th>\n",
       "      <th>category</th>\n",
       "      <th>amount</th>\n",
       "      <th>fraud</th>\n",
       "    </tr>\n",
       "  </thead>\n",
       "  <tbody>\n",
       "    <tr>\n",
       "      <th>88</th>\n",
       "      <td>'3'</td>\n",
       "      <td>'M'</td>\n",
       "      <td>'es_health'</td>\n",
       "      <td>44.26</td>\n",
       "      <td>1</td>\n",
       "    </tr>\n",
       "    <tr>\n",
       "      <th>89</th>\n",
       "      <td>'3'</td>\n",
       "      <td>'M'</td>\n",
       "      <td>'es_health'</td>\n",
       "      <td>324.50</td>\n",
       "      <td>1</td>\n",
       "    </tr>\n",
       "    <tr>\n",
       "      <th>434</th>\n",
       "      <td>'3'</td>\n",
       "      <td>'M'</td>\n",
       "      <td>'es_hotelservices'</td>\n",
       "      <td>176.32</td>\n",
       "      <td>1</td>\n",
       "    </tr>\n",
       "    <tr>\n",
       "      <th>435</th>\n",
       "      <td>'3'</td>\n",
       "      <td>'M'</td>\n",
       "      <td>'es_hotelservices'</td>\n",
       "      <td>337.41</td>\n",
       "      <td>1</td>\n",
       "    </tr>\n",
       "    <tr>\n",
       "      <th>553</th>\n",
       "      <td>'4'</td>\n",
       "      <td>'F'</td>\n",
       "      <td>'es_wellnessandbeauty'</td>\n",
       "      <td>220.11</td>\n",
       "      <td>1</td>\n",
       "    </tr>\n",
       "    <tr>\n",
       "      <th>...</th>\n",
       "      <td>...</td>\n",
       "      <td>...</td>\n",
       "      <td>...</td>\n",
       "      <td>...</td>\n",
       "      <td>...</td>\n",
       "    </tr>\n",
       "    <tr>\n",
       "      <th>593928</th>\n",
       "      <td>'5'</td>\n",
       "      <td>'M'</td>\n",
       "      <td>'es_leisure'</td>\n",
       "      <td>192.78</td>\n",
       "      <td>1</td>\n",
       "    </tr>\n",
       "    <tr>\n",
       "      <th>594025</th>\n",
       "      <td>'5'</td>\n",
       "      <td>'F'</td>\n",
       "      <td>'es_wellnessandbeauty'</td>\n",
       "      <td>42.37</td>\n",
       "      <td>1</td>\n",
       "    </tr>\n",
       "    <tr>\n",
       "      <th>594026</th>\n",
       "      <td>'3'</td>\n",
       "      <td>'F'</td>\n",
       "      <td>'es_wellnessandbeauty'</td>\n",
       "      <td>521.84</td>\n",
       "      <td>1</td>\n",
       "    </tr>\n",
       "    <tr>\n",
       "      <th>594168</th>\n",
       "      <td>'2'</td>\n",
       "      <td>'F'</td>\n",
       "      <td>'es_wellnessandbeauty'</td>\n",
       "      <td>25.29</td>\n",
       "      <td>1</td>\n",
       "    </tr>\n",
       "    <tr>\n",
       "      <th>594169</th>\n",
       "      <td>'5'</td>\n",
       "      <td>'M'</td>\n",
       "      <td>'es_wellnessandbeauty'</td>\n",
       "      <td>10.16</td>\n",
       "      <td>1</td>\n",
       "    </tr>\n",
       "  </tbody>\n",
       "</table>\n",
       "<p>7200 rows × 5 columns</p>\n",
       "</div>"
      ],
      "text/plain": [
       "        age gender                category  amount  fraud\n",
       "88      '3'    'M'             'es_health'   44.26      1\n",
       "89      '3'    'M'             'es_health'  324.50      1\n",
       "434     '3'    'M'      'es_hotelservices'  176.32      1\n",
       "435     '3'    'M'      'es_hotelservices'  337.41      1\n",
       "553     '4'    'F'  'es_wellnessandbeauty'  220.11      1\n",
       "...     ...    ...                     ...     ...    ...\n",
       "593928  '5'    'M'            'es_leisure'  192.78      1\n",
       "594025  '5'    'F'  'es_wellnessandbeauty'   42.37      1\n",
       "594026  '3'    'F'  'es_wellnessandbeauty'  521.84      1\n",
       "594168  '2'    'F'  'es_wellnessandbeauty'   25.29      1\n",
       "594169  '5'    'M'  'es_wellnessandbeauty'   10.16      1\n",
       "\n",
       "[7200 rows x 5 columns]"
      ]
     },
     "execution_count": 8,
     "metadata": {},
     "output_type": "execute_result"
    }
   ],
   "source": [
    "df_fraud = df.loc[df.fraud == 1]\n",
    "df_fraud"
   ]
  },
  {
   "cell_type": "code",
   "execution_count": 9,
   "metadata": {},
   "outputs": [
    {
     "data": {
      "text/html": [
       "<div>\n",
       "<style scoped>\n",
       "    .dataframe tbody tr th:only-of-type {\n",
       "        vertical-align: middle;\n",
       "    }\n",
       "\n",
       "    .dataframe tbody tr th {\n",
       "        vertical-align: top;\n",
       "    }\n",
       "\n",
       "    .dataframe thead th {\n",
       "        text-align: right;\n",
       "    }\n",
       "</style>\n",
       "<table border=\"1\" class=\"dataframe\">\n",
       "  <thead>\n",
       "    <tr style=\"text-align: right;\">\n",
       "      <th></th>\n",
       "      <th>age</th>\n",
       "      <th>gender</th>\n",
       "      <th>category</th>\n",
       "      <th>amount</th>\n",
       "      <th>fraud</th>\n",
       "    </tr>\n",
       "  </thead>\n",
       "  <tbody>\n",
       "    <tr>\n",
       "      <th>0</th>\n",
       "      <td>'4'</td>\n",
       "      <td>'M'</td>\n",
       "      <td>'es_transportation'</td>\n",
       "      <td>4.55</td>\n",
       "      <td>0</td>\n",
       "    </tr>\n",
       "    <tr>\n",
       "      <th>1</th>\n",
       "      <td>'2'</td>\n",
       "      <td>'M'</td>\n",
       "      <td>'es_transportation'</td>\n",
       "      <td>39.68</td>\n",
       "      <td>0</td>\n",
       "    </tr>\n",
       "    <tr>\n",
       "      <th>2</th>\n",
       "      <td>'4'</td>\n",
       "      <td>'F'</td>\n",
       "      <td>'es_transportation'</td>\n",
       "      <td>26.89</td>\n",
       "      <td>0</td>\n",
       "    </tr>\n",
       "    <tr>\n",
       "      <th>3</th>\n",
       "      <td>'3'</td>\n",
       "      <td>'M'</td>\n",
       "      <td>'es_transportation'</td>\n",
       "      <td>17.25</td>\n",
       "      <td>0</td>\n",
       "    </tr>\n",
       "    <tr>\n",
       "      <th>4</th>\n",
       "      <td>'5'</td>\n",
       "      <td>'M'</td>\n",
       "      <td>'es_transportation'</td>\n",
       "      <td>35.72</td>\n",
       "      <td>0</td>\n",
       "    </tr>\n",
       "    <tr>\n",
       "      <th>...</th>\n",
       "      <td>...</td>\n",
       "      <td>...</td>\n",
       "      <td>...</td>\n",
       "      <td>...</td>\n",
       "      <td>...</td>\n",
       "    </tr>\n",
       "    <tr>\n",
       "      <th>594638</th>\n",
       "      <td>'3'</td>\n",
       "      <td>'F'</td>\n",
       "      <td>'es_transportation'</td>\n",
       "      <td>20.53</td>\n",
       "      <td>0</td>\n",
       "    </tr>\n",
       "    <tr>\n",
       "      <th>594639</th>\n",
       "      <td>'4'</td>\n",
       "      <td>'F'</td>\n",
       "      <td>'es_transportation'</td>\n",
       "      <td>50.73</td>\n",
       "      <td>0</td>\n",
       "    </tr>\n",
       "    <tr>\n",
       "      <th>594640</th>\n",
       "      <td>'2'</td>\n",
       "      <td>'F'</td>\n",
       "      <td>'es_fashion'</td>\n",
       "      <td>22.44</td>\n",
       "      <td>0</td>\n",
       "    </tr>\n",
       "    <tr>\n",
       "      <th>594641</th>\n",
       "      <td>'5'</td>\n",
       "      <td>'M'</td>\n",
       "      <td>'es_transportation'</td>\n",
       "      <td>14.46</td>\n",
       "      <td>0</td>\n",
       "    </tr>\n",
       "    <tr>\n",
       "      <th>594642</th>\n",
       "      <td>'4'</td>\n",
       "      <td>'F'</td>\n",
       "      <td>'es_transportation'</td>\n",
       "      <td>26.93</td>\n",
       "      <td>0</td>\n",
       "    </tr>\n",
       "  </tbody>\n",
       "</table>\n",
       "<p>587443 rows × 5 columns</p>\n",
       "</div>"
      ],
      "text/plain": [
       "        age gender             category  amount  fraud\n",
       "0       '4'    'M'  'es_transportation'    4.55      0\n",
       "1       '2'    'M'  'es_transportation'   39.68      0\n",
       "2       '4'    'F'  'es_transportation'   26.89      0\n",
       "3       '3'    'M'  'es_transportation'   17.25      0\n",
       "4       '5'    'M'  'es_transportation'   35.72      0\n",
       "...     ...    ...                  ...     ...    ...\n",
       "594638  '3'    'F'  'es_transportation'   20.53      0\n",
       "594639  '4'    'F'  'es_transportation'   50.73      0\n",
       "594640  '2'    'F'         'es_fashion'   22.44      0\n",
       "594641  '5'    'M'  'es_transportation'   14.46      0\n",
       "594642  '4'    'F'  'es_transportation'   26.93      0\n",
       "\n",
       "[587443 rows x 5 columns]"
      ]
     },
     "execution_count": 9,
     "metadata": {},
     "output_type": "execute_result"
    }
   ],
   "source": [
    "df_non_fraud = df.loc[df.fraud == 0]\n",
    "df_non_fraud"
   ]
  },
  {
   "cell_type": "code",
   "execution_count": 11,
   "metadata": {},
   "outputs": [
    {
     "data": {
      "text/plain": [
       "0    587443\n",
       "1      7200\n",
       "Name: fraud, dtype: int64"
      ]
     },
     "execution_count": 11,
     "metadata": {},
     "output_type": "execute_result"
    }
   ],
   "source": [
    "df['fraud'].value_counts()"
   ]
  },
  {
   "cell_type": "code",
   "execution_count": 12,
   "metadata": {},
   "outputs": [
    {
     "data": {
      "image/png": "[encoded data removed]",
      "text/plain": [
       "<Figure size 432x288 with 1 Axes>"
      ]
     },
     "metadata": {
      "needs_background": "light"
     },
     "output_type": "display_data"
    }
   ],
   "source": [
    "# plt.hist(df_fraud.amount, alpha=0.5, label='fraud')\n",
    "plt.hist(df_non_fraud.amount, alpha=0.5, label='non_fraud')\n",
    "plt.legend()\n",
    "\n",
    "plt.xlim(0,1000)\n",
    "plt.show()"
   ]
  },
  {
   "cell_type": "markdown",
   "metadata": {},
   "source": []
  },
  {
   "cell_type": "code",
   "execution_count": 13,
   "metadata": {},
   "outputs": [
    {
     "data": {
      "text/plain": [
       "'es_transportation'        505119\n",
       "'es_food'                   26254\n",
       "'es_health'                 16133\n",
       "'es_wellnessandbeauty'      15086\n",
       "'es_fashion'                 6454\n",
       "'es_barsandrestaurants'      6373\n",
       "'es_hyper'                   6098\n",
       "'es_sportsandtoys'           4002\n",
       "'es_tech'                    2370\n",
       "'es_home'                    1986\n",
       "'es_hotelservices'           1744\n",
       "'es_otherservices'            912\n",
       "'es_contents'                 885\n",
       "'es_travel'                   728\n",
       "'es_leisure'                  499\n",
       "Name: category, dtype: int64"
      ]
     },
     "execution_count": 13,
     "metadata": {},
     "output_type": "execute_result"
    }
   ],
   "source": [
    "df['category'].value_counts()"
   ]
  },
  {
   "cell_type": "markdown",
   "metadata": {},
   "source": [
    "##### Scaling the data"
   ]
  },
  {
   "cell_type": "code",
   "execution_count": 12,
   "metadata": {},
   "outputs": [],
   "source": [
    "from sklearn.preprocessing import MinMaxScaler"
   ]
  },
  {
   "cell_type": "code",
   "execution_count": 13,
   "metadata": {},
   "outputs": [
    {
     "data": {
      "text/html": [
       "<div>\n",
       "<style scoped>\n",
       "    .dataframe tbody tr th:only-of-type {\n",
       "        vertical-align: middle;\n",
       "    }\n",
       "\n",
       "    .dataframe tbody tr th {\n",
       "        vertical-align: top;\n",
       "    }\n",
       "\n",
       "    .dataframe thead th {\n",
       "        text-align: right;\n",
       "    }\n",
       "</style>\n",
       "<table border=\"1\" class=\"dataframe\">\n",
       "  <thead>\n",
       "    <tr style=\"text-align: right;\">\n",
       "      <th></th>\n",
       "      <th>age</th>\n",
       "      <th>category</th>\n",
       "      <th>amount</th>\n",
       "      <th>fraud</th>\n",
       "    </tr>\n",
       "  </thead>\n",
       "  <tbody>\n",
       "    <tr>\n",
       "      <td>0</td>\n",
       "      <td>'4'</td>\n",
       "      <td>'es_transportation'</td>\n",
       "      <td>4.55</td>\n",
       "      <td>0</td>\n",
       "    </tr>\n",
       "    <tr>\n",
       "      <td>1</td>\n",
       "      <td>'2'</td>\n",
       "      <td>'es_transportation'</td>\n",
       "      <td>39.68</td>\n",
       "      <td>0</td>\n",
       "    </tr>\n",
       "    <tr>\n",
       "      <td>2</td>\n",
       "      <td>'4'</td>\n",
       "      <td>'es_transportation'</td>\n",
       "      <td>26.89</td>\n",
       "      <td>0</td>\n",
       "    </tr>\n",
       "    <tr>\n",
       "      <td>3</td>\n",
       "      <td>'3'</td>\n",
       "      <td>'es_transportation'</td>\n",
       "      <td>17.25</td>\n",
       "      <td>0</td>\n",
       "    </tr>\n",
       "    <tr>\n",
       "      <td>4</td>\n",
       "      <td>'5'</td>\n",
       "      <td>'es_transportation'</td>\n",
       "      <td>35.72</td>\n",
       "      <td>0</td>\n",
       "    </tr>\n",
       "  </tbody>\n",
       "</table>\n",
       "</div>"
      ],
      "text/plain": [
       "   age             category  amount  fraud\n",
       "0  '4'  'es_transportation'    4.55      0\n",
       "1  '2'  'es_transportation'   39.68      0\n",
       "2  '4'  'es_transportation'   26.89      0\n",
       "3  '3'  'es_transportation'   17.25      0\n",
       "4  '5'  'es_transportation'   35.72      0"
      ]
     },
     "execution_count": 13,
     "metadata": {},
     "output_type": "execute_result"
    }
   ],
   "source": [
    "df_1 = df.drop(columns=['gender'])\n",
    "df_1.head()"
   ]
  },
  {
   "cell_type": "code",
   "execution_count": 14,
   "metadata": {},
   "outputs": [
    {
     "data": {
      "text/html": [
       "<div>\n",
       "<style scoped>\n",
       "    .dataframe tbody tr th:only-of-type {\n",
       "        vertical-align: middle;\n",
       "    }\n",
       "\n",
       "    .dataframe tbody tr th {\n",
       "        vertical-align: top;\n",
       "    }\n",
       "\n",
       "    .dataframe thead th {\n",
       "        text-align: right;\n",
       "    }\n",
       "</style>\n",
       "<table border=\"1\" class=\"dataframe\">\n",
       "  <thead>\n",
       "    <tr style=\"text-align: right;\">\n",
       "      <th></th>\n",
       "      <th>age</th>\n",
       "      <th>amount</th>\n",
       "      <th>fraud</th>\n",
       "      <th>category_'es_barsandrestaurants'</th>\n",
       "      <th>category_'es_contents'</th>\n",
       "      <th>category_'es_fashion'</th>\n",
       "      <th>category_'es_food'</th>\n",
       "      <th>category_'es_health'</th>\n",
       "      <th>category_'es_home'</th>\n",
       "      <th>category_'es_hotelservices'</th>\n",
       "      <th>category_'es_hyper'</th>\n",
       "      <th>category_'es_leisure'</th>\n",
       "      <th>category_'es_otherservices'</th>\n",
       "      <th>category_'es_sportsandtoys'</th>\n",
       "      <th>category_'es_tech'</th>\n",
       "      <th>category_'es_transportation'</th>\n",
       "      <th>category_'es_travel'</th>\n",
       "      <th>category_'es_wellnessandbeauty'</th>\n",
       "    </tr>\n",
       "  </thead>\n",
       "  <tbody>\n",
       "    <tr>\n",
       "      <td>0</td>\n",
       "      <td>'4'</td>\n",
       "      <td>4.55</td>\n",
       "      <td>0</td>\n",
       "      <td>0</td>\n",
       "      <td>0</td>\n",
       "      <td>0</td>\n",
       "      <td>0</td>\n",
       "      <td>0</td>\n",
       "      <td>0</td>\n",
       "      <td>0</td>\n",
       "      <td>0</td>\n",
       "      <td>0</td>\n",
       "      <td>0</td>\n",
       "      <td>0</td>\n",
       "      <td>0</td>\n",
       "      <td>1</td>\n",
       "      <td>0</td>\n",
       "      <td>0</td>\n",
       "    </tr>\n",
       "    <tr>\n",
       "      <td>1</td>\n",
       "      <td>'2'</td>\n",
       "      <td>39.68</td>\n",
       "      <td>0</td>\n",
       "      <td>0</td>\n",
       "      <td>0</td>\n",
       "      <td>0</td>\n",
       "      <td>0</td>\n",
       "      <td>0</td>\n",
       "      <td>0</td>\n",
       "      <td>0</td>\n",
       "      <td>0</td>\n",
       "      <td>0</td>\n",
       "      <td>0</td>\n",
       "      <td>0</td>\n",
       "      <td>0</td>\n",
       "      <td>1</td>\n",
       "      <td>0</td>\n",
       "      <td>0</td>\n",
       "    </tr>\n",
       "    <tr>\n",
       "      <td>2</td>\n",
       "      <td>'4'</td>\n",
       "      <td>26.89</td>\n",
       "      <td>0</td>\n",
       "      <td>0</td>\n",
       "      <td>0</td>\n",
       "      <td>0</td>\n",
       "      <td>0</td>\n",
       "      <td>0</td>\n",
       "      <td>0</td>\n",
       "      <td>0</td>\n",
       "      <td>0</td>\n",
       "      <td>0</td>\n",
       "      <td>0</td>\n",
       "      <td>0</td>\n",
       "      <td>0</td>\n",
       "      <td>1</td>\n",
       "      <td>0</td>\n",
       "      <td>0</td>\n",
       "    </tr>\n",
       "    <tr>\n",
       "      <td>3</td>\n",
       "      <td>'3'</td>\n",
       "      <td>17.25</td>\n",
       "      <td>0</td>\n",
       "      <td>0</td>\n",
       "      <td>0</td>\n",
       "      <td>0</td>\n",
       "      <td>0</td>\n",
       "      <td>0</td>\n",
       "      <td>0</td>\n",
       "      <td>0</td>\n",
       "      <td>0</td>\n",
       "      <td>0</td>\n",
       "      <td>0</td>\n",
       "      <td>0</td>\n",
       "      <td>0</td>\n",
       "      <td>1</td>\n",
       "      <td>0</td>\n",
       "      <td>0</td>\n",
       "    </tr>\n",
       "    <tr>\n",
       "      <td>4</td>\n",
       "      <td>'5'</td>\n",
       "      <td>35.72</td>\n",
       "      <td>0</td>\n",
       "      <td>0</td>\n",
       "      <td>0</td>\n",
       "      <td>0</td>\n",
       "      <td>0</td>\n",
       "      <td>0</td>\n",
       "      <td>0</td>\n",
       "      <td>0</td>\n",
       "      <td>0</td>\n",
       "      <td>0</td>\n",
       "      <td>0</td>\n",
       "      <td>0</td>\n",
       "      <td>0</td>\n",
       "      <td>1</td>\n",
       "      <td>0</td>\n",
       "      <td>0</td>\n",
       "    </tr>\n",
       "    <tr>\n",
       "      <td>...</td>\n",
       "      <td>...</td>\n",
       "      <td>...</td>\n",
       "      <td>...</td>\n",
       "      <td>...</td>\n",
       "      <td>...</td>\n",
       "      <td>...</td>\n",
       "      <td>...</td>\n",
       "      <td>...</td>\n",
       "      <td>...</td>\n",
       "      <td>...</td>\n",
       "      <td>...</td>\n",
       "      <td>...</td>\n",
       "      <td>...</td>\n",
       "      <td>...</td>\n",
       "      <td>...</td>\n",
       "      <td>...</td>\n",
       "      <td>...</td>\n",
       "      <td>...</td>\n",
       "    </tr>\n",
       "    <tr>\n",
       "      <td>594638</td>\n",
       "      <td>'3'</td>\n",
       "      <td>20.53</td>\n",
       "      <td>0</td>\n",
       "      <td>0</td>\n",
       "      <td>0</td>\n",
       "      <td>0</td>\n",
       "      <td>0</td>\n",
       "      <td>0</td>\n",
       "      <td>0</td>\n",
       "      <td>0</td>\n",
       "      <td>0</td>\n",
       "      <td>0</td>\n",
       "      <td>0</td>\n",
       "      <td>0</td>\n",
       "      <td>0</td>\n",
       "      <td>1</td>\n",
       "      <td>0</td>\n",
       "      <td>0</td>\n",
       "    </tr>\n",
       "    <tr>\n",
       "      <td>594639</td>\n",
       "      <td>'4'</td>\n",
       "      <td>50.73</td>\n",
       "      <td>0</td>\n",
       "      <td>0</td>\n",
       "      <td>0</td>\n",
       "      <td>0</td>\n",
       "      <td>0</td>\n",
       "      <td>0</td>\n",
       "      <td>0</td>\n",
       "      <td>0</td>\n",
       "      <td>0</td>\n",
       "      <td>0</td>\n",
       "      <td>0</td>\n",
       "      <td>0</td>\n",
       "      <td>0</td>\n",
       "      <td>1</td>\n",
       "      <td>0</td>\n",
       "      <td>0</td>\n",
       "    </tr>\n",
       "    <tr>\n",
       "      <td>594640</td>\n",
       "      <td>'2'</td>\n",
       "      <td>22.44</td>\n",
       "      <td>0</td>\n",
       "      <td>0</td>\n",
       "      <td>0</td>\n",
       "      <td>1</td>\n",
       "      <td>0</td>\n",
       "      <td>0</td>\n",
       "      <td>0</td>\n",
       "      <td>0</td>\n",
       "      <td>0</td>\n",
       "      <td>0</td>\n",
       "      <td>0</td>\n",
       "      <td>0</td>\n",
       "      <td>0</td>\n",
       "      <td>0</td>\n",
       "      <td>0</td>\n",
       "      <td>0</td>\n",
       "    </tr>\n",
       "    <tr>\n",
       "      <td>594641</td>\n",
       "      <td>'5'</td>\n",
       "      <td>14.46</td>\n",
       "      <td>0</td>\n",
       "      <td>0</td>\n",
       "      <td>0</td>\n",
       "      <td>0</td>\n",
       "      <td>0</td>\n",
       "      <td>0</td>\n",
       "      <td>0</td>\n",
       "      <td>0</td>\n",
       "      <td>0</td>\n",
       "      <td>0</td>\n",
       "      <td>0</td>\n",
       "      <td>0</td>\n",
       "      <td>0</td>\n",
       "      <td>1</td>\n",
       "      <td>0</td>\n",
       "      <td>0</td>\n",
       "    </tr>\n",
       "    <tr>\n",
       "      <td>594642</td>\n",
       "      <td>'4'</td>\n",
       "      <td>26.93</td>\n",
       "      <td>0</td>\n",
       "      <td>0</td>\n",
       "      <td>0</td>\n",
       "      <td>0</td>\n",
       "      <td>0</td>\n",
       "      <td>0</td>\n",
       "      <td>0</td>\n",
       "      <td>0</td>\n",
       "      <td>0</td>\n",
       "      <td>0</td>\n",
       "      <td>0</td>\n",
       "      <td>0</td>\n",
       "      <td>0</td>\n",
       "      <td>1</td>\n",
       "      <td>0</td>\n",
       "      <td>0</td>\n",
       "    </tr>\n",
       "  </tbody>\n",
       "</table>\n",
       "<p>594643 rows × 18 columns</p>\n",
       "</div>"
      ],
      "text/plain": [
       "        age  amount  fraud  category_'es_barsandrestaurants'  \\\n",
       "0       '4'    4.55      0                                 0   \n",
       "1       '2'   39.68      0                                 0   \n",
       "2       '4'   26.89      0                                 0   \n",
       "3       '3'   17.25      0                                 0   \n",
       "4       '5'   35.72      0                                 0   \n",
       "...     ...     ...    ...                               ...   \n",
       "594638  '3'   20.53      0                                 0   \n",
       "594639  '4'   50.73      0                                 0   \n",
       "594640  '2'   22.44      0                                 0   \n",
       "594641  '5'   14.46      0                                 0   \n",
       "594642  '4'   26.93      0                                 0   \n",
       "\n",
       "        category_'es_contents'  category_'es_fashion'  category_'es_food'  \\\n",
       "0                            0                      0                   0   \n",
       "1                            0                      0                   0   \n",
       "2                            0                      0                   0   \n",
       "3                            0                      0                   0   \n",
       "4                            0                      0                   0   \n",
       "...                        ...                    ...                 ...   \n",
       "594638                       0                      0                   0   \n",
       "594639                       0                      0                   0   \n",
       "594640                       0                      1                   0   \n",
       "594641                       0                      0                   0   \n",
       "594642                       0                      0                   0   \n",
       "\n",
       "        category_'es_health'  category_'es_home'  category_'es_hotelservices'  \\\n",
       "0                          0                   0                            0   \n",
       "1                          0                   0                            0   \n",
       "2                          0                   0                            0   \n",
       "3                          0                   0                            0   \n",
       "4                          0                   0                            0   \n",
       "...                      ...                 ...                          ...   \n",
       "594638                     0                   0                            0   \n",
       "594639                     0                   0                            0   \n",
       "594640                     0                   0                            0   \n",
       "594641                     0                   0                            0   \n",
       "594642                     0                   0                            0   \n",
       "\n",
       "        category_'es_hyper'  category_'es_leisure'  \\\n",
       "0                         0                      0   \n",
       "1                         0                      0   \n",
       "2                         0                      0   \n",
       "3                         0                      0   \n",
       "4                         0                      0   \n",
       "...                     ...                    ...   \n",
       "594638                    0                      0   \n",
       "594639                    0                      0   \n",
       "594640                    0                      0   \n",
       "594641                    0                      0   \n",
       "594642                    0                      0   \n",
       "\n",
       "        category_'es_otherservices'  category_'es_sportsandtoys'  \\\n",
       "0                                 0                            0   \n",
       "1                                 0                            0   \n",
       "2                                 0                            0   \n",
       "3                                 0                            0   \n",
       "4                                 0                            0   \n",
       "...                             ...                          ...   \n",
       "594638                            0                            0   \n",
       "594639                            0                            0   \n",
       "594640                            0                            0   \n",
       "594641                            0                            0   \n",
       "594642                            0                            0   \n",
       "\n",
       "        category_'es_tech'  category_'es_transportation'  \\\n",
       "0                        0                             1   \n",
       "1                        0                             1   \n",
       "2                        0                             1   \n",
       "3                        0                             1   \n",
       "4                        0                             1   \n",
       "...                    ...                           ...   \n",
       "594638                   0                             1   \n",
       "594639                   0                             1   \n",
       "594640                   0                             0   \n",
       "594641                   0                             1   \n",
       "594642                   0                             1   \n",
       "\n",
       "        category_'es_travel'  category_'es_wellnessandbeauty'  \n",
       "0                          0                                0  \n",
       "1                          0                                0  \n",
       "2                          0                                0  \n",
       "3                          0                                0  \n",
       "4                          0                                0  \n",
       "...                      ...                              ...  \n",
       "594638                     0                                0  \n",
       "594639                     0                                0  \n",
       "594640                     0                                0  \n",
       "594641                     0                                0  \n",
       "594642                     0                                0  \n",
       "\n",
       "[594643 rows x 18 columns]"
      ]
     },
     "execution_count": 14,
     "metadata": {},
     "output_type": "execute_result"
    }
   ],
   "source": [
    "df_2 = pd.get_dummies(df_1, columns=['category'])\n",
    "df_2"
   ]
  },
  {
   "cell_type": "code",
   "execution_count": 15,
   "metadata": {},
   "outputs": [],
   "source": [
    "# df_2.age = df_2.age.astype(np.int64)"
   ]
  },
  {
   "cell_type": "code",
   "execution_count": 16,
   "metadata": {},
   "outputs": [
    {
     "data": {
      "text/html": [
       "<div>\n",
       "<style scoped>\n",
       "    .dataframe tbody tr th:only-of-type {\n",
       "        vertical-align: middle;\n",
       "    }\n",
       "\n",
       "    .dataframe tbody tr th {\n",
       "        vertical-align: top;\n",
       "    }\n",
       "\n",
       "    .dataframe thead th {\n",
       "        text-align: right;\n",
       "    }\n",
       "</style>\n",
       "<table border=\"1\" class=\"dataframe\">\n",
       "  <thead>\n",
       "    <tr style=\"text-align: right;\">\n",
       "      <th></th>\n",
       "      <th>Unnamed: 0</th>\n",
       "      <th>age</th>\n",
       "      <th>amount</th>\n",
       "      <th>fraud</th>\n",
       "      <th>M</th>\n",
       "      <th>es_barsandrestaurants</th>\n",
       "      <th>es_contents</th>\n",
       "      <th>es_fashion</th>\n",
       "      <th>es_food</th>\n",
       "      <th>es_health</th>\n",
       "      <th>es_home</th>\n",
       "      <th>es_hotelservices</th>\n",
       "      <th>es_hyper</th>\n",
       "      <th>es_leisure</th>\n",
       "      <th>es_otherservices</th>\n",
       "      <th>es_sportsandtoys</th>\n",
       "      <th>es_tech</th>\n",
       "      <th>es_transportation</th>\n",
       "      <th>es_travel</th>\n",
       "    </tr>\n",
       "  </thead>\n",
       "  <tbody>\n",
       "    <tr>\n",
       "      <td>0</td>\n",
       "      <td>0</td>\n",
       "      <td>3</td>\n",
       "      <td>49.71</td>\n",
       "      <td>0</td>\n",
       "      <td>0</td>\n",
       "      <td>0</td>\n",
       "      <td>0</td>\n",
       "      <td>0</td>\n",
       "      <td>0</td>\n",
       "      <td>0</td>\n",
       "      <td>0</td>\n",
       "      <td>0</td>\n",
       "      <td>0</td>\n",
       "      <td>0</td>\n",
       "      <td>0</td>\n",
       "      <td>0</td>\n",
       "      <td>0</td>\n",
       "      <td>1</td>\n",
       "      <td>0</td>\n",
       "    </tr>\n",
       "    <tr>\n",
       "      <td>1</td>\n",
       "      <td>1</td>\n",
       "      <td>4</td>\n",
       "      <td>39.29</td>\n",
       "      <td>0</td>\n",
       "      <td>0</td>\n",
       "      <td>0</td>\n",
       "      <td>0</td>\n",
       "      <td>0</td>\n",
       "      <td>0</td>\n",
       "      <td>1</td>\n",
       "      <td>0</td>\n",
       "      <td>0</td>\n",
       "      <td>0</td>\n",
       "      <td>0</td>\n",
       "      <td>0</td>\n",
       "      <td>0</td>\n",
       "      <td>0</td>\n",
       "      <td>0</td>\n",
       "      <td>0</td>\n",
       "    </tr>\n",
       "    <tr>\n",
       "      <td>2</td>\n",
       "      <td>2</td>\n",
       "      <td>3</td>\n",
       "      <td>18.76</td>\n",
       "      <td>0</td>\n",
       "      <td>0</td>\n",
       "      <td>0</td>\n",
       "      <td>0</td>\n",
       "      <td>0</td>\n",
       "      <td>0</td>\n",
       "      <td>0</td>\n",
       "      <td>0</td>\n",
       "      <td>0</td>\n",
       "      <td>0</td>\n",
       "      <td>0</td>\n",
       "      <td>0</td>\n",
       "      <td>0</td>\n",
       "      <td>0</td>\n",
       "      <td>1</td>\n",
       "      <td>0</td>\n",
       "    </tr>\n",
       "    <tr>\n",
       "      <td>3</td>\n",
       "      <td>3</td>\n",
       "      <td>4</td>\n",
       "      <td>13.95</td>\n",
       "      <td>0</td>\n",
       "      <td>1</td>\n",
       "      <td>0</td>\n",
       "      <td>0</td>\n",
       "      <td>0</td>\n",
       "      <td>0</td>\n",
       "      <td>0</td>\n",
       "      <td>0</td>\n",
       "      <td>0</td>\n",
       "      <td>0</td>\n",
       "      <td>0</td>\n",
       "      <td>0</td>\n",
       "      <td>0</td>\n",
       "      <td>0</td>\n",
       "      <td>1</td>\n",
       "      <td>0</td>\n",
       "    </tr>\n",
       "    <tr>\n",
       "      <td>4</td>\n",
       "      <td>4</td>\n",
       "      <td>2</td>\n",
       "      <td>49.87</td>\n",
       "      <td>0</td>\n",
       "      <td>1</td>\n",
       "      <td>0</td>\n",
       "      <td>0</td>\n",
       "      <td>0</td>\n",
       "      <td>0</td>\n",
       "      <td>0</td>\n",
       "      <td>0</td>\n",
       "      <td>0</td>\n",
       "      <td>0</td>\n",
       "      <td>0</td>\n",
       "      <td>0</td>\n",
       "      <td>0</td>\n",
       "      <td>0</td>\n",
       "      <td>1</td>\n",
       "      <td>0</td>\n",
       "    </tr>\n",
       "  </tbody>\n",
       "</table>\n",
       "</div>"
      ],
      "text/plain": [
       "   Unnamed: 0  age  amount  fraud  M  es_barsandrestaurants  es_contents  \\\n",
       "0           0    3   49.71      0  0                      0            0   \n",
       "1           1    4   39.29      0  0                      0            0   \n",
       "2           2    3   18.76      0  0                      0            0   \n",
       "3           3    4   13.95      0  1                      0            0   \n",
       "4           4    2   49.87      0  1                      0            0   \n",
       "\n",
       "   es_fashion  es_food  es_health  es_home  es_hotelservices  es_hyper  \\\n",
       "0           0        0          0        0                 0         0   \n",
       "1           0        0          1        0                 0         0   \n",
       "2           0        0          0        0                 0         0   \n",
       "3           0        0          0        0                 0         0   \n",
       "4           0        0          0        0                 0         0   \n",
       "\n",
       "   es_leisure  es_otherservices  es_sportsandtoys  es_tech  es_transportation  \\\n",
       "0           0                 0                 0        0                  1   \n",
       "1           0                 0                 0        0                  0   \n",
       "2           0                 0                 0        0                  1   \n",
       "3           0                 0                 0        0                  1   \n",
       "4           0                 0                 0        0                  1   \n",
       "\n",
       "   es_travel  \n",
       "0          0  \n",
       "1          0  \n",
       "2          0  \n",
       "3          0  \n",
       "4          0  "
      ]
     },
     "execution_count": 16,
     "metadata": {},
     "output_type": "execute_result"
    }
   ],
   "source": [
    "df_2 = pd.read_csv('/users/saurin/desktop/Datacamp/Fraud Protection/bank_adj.csv')\n",
    "df_2.head()"
   ]
  },
  {
   "cell_type": "code",
   "execution_count": 17,
   "metadata": {},
   "outputs": [],
   "source": [
    "X = df_2.values.astype(np.float)\n",
    "y = df_2.fraud.values"
   ]
  },
  {
   "cell_type": "code",
   "execution_count": 32,
   "metadata": {},
   "outputs": [
    {
     "data": {
      "text/plain": [
       "array([[0.00000000e+00, 5.00000000e-01, 2.06810025e-01, ...,\n",
       "        0.00000000e+00, 1.00000000e+00, 0.00000000e+00],\n",
       "       [1.38908182e-04, 6.66666667e-01, 1.62478579e-01, ...,\n",
       "        0.00000000e+00, 0.00000000e+00, 0.00000000e+00],\n",
       "       [2.77816363e-04, 5.00000000e-01, 7.51345685e-02, ...,\n",
       "        0.00000000e+00, 1.00000000e+00, 0.00000000e+00],\n",
       "       ...,\n",
       "       [9.99722184e-01, 1.66666667e-01, 1.00000000e+00, ...,\n",
       "        0.00000000e+00, 0.00000000e+00, 1.00000000e+00],\n",
       "       [9.99861092e-01, 1.66666667e-01, 1.00000000e+00, ...,\n",
       "        0.00000000e+00, 0.00000000e+00, 0.00000000e+00],\n",
       "       [1.00000000e+00, 6.66666667e-01, 1.00000000e+00, ...,\n",
       "        0.00000000e+00, 0.00000000e+00, 0.00000000e+00]])"
      ]
     },
     "execution_count": 32,
     "metadata": {},
     "output_type": "execute_result"
    }
   ],
   "source": [
    "scaler = MinMaxScaler()\n",
    "X_scaled = scaler.fit_transform(X)\n",
    "X_scaled"
   ]
  },
  {
   "cell_type": "code",
   "execution_count": 31,
   "metadata": {},
   "outputs": [
    {
     "data": {
      "text/plain": [
       "array([0, 0, 0, ..., 1, 1, 1])"
      ]
     },
     "execution_count": 31,
     "metadata": {},
     "output_type": "execute_result"
    }
   ],
   "source": [
    "y"
   ]
  },
  {
   "cell_type": "code",
   "execution_count": 19,
   "metadata": {},
   "outputs": [],
   "source": [
    "# K Means Clustering"
   ]
  },
  {
   "cell_type": "code",
   "execution_count": 93,
   "metadata": {},
   "outputs": [],
   "source": [
    "from sklearn.cluster import KMeans\n",
    "from sklearn.cluster import MiniBatchKMeans\n",
    "from sklearn.model_selection import train_test_split\n",
    "from sklearn.metrics import roc_auc_score\n",
    "from sklearn.metrics import confusion_matrix\n",
    "from sklearn.metrics import accuracy_score\n",
    "from itertools import product\n",
    "from sklearn.cluster import DBSCAN\n",
    "from sklearn.metrics import homogeneity_score\n",
    "from sklearn.metrics import silhouette_score"
   ]
  },
  {
   "cell_type": "code",
   "execution_count": 21,
   "metadata": {},
   "outputs": [],
   "source": [
    "kmeans = MiniBatchKMeans(n_clusters = 8, random_state=0)"
   ]
  },
  {
   "cell_type": "code",
   "execution_count": 22,
   "metadata": {},
   "outputs": [
    {
     "data": {
      "text/plain": [
       "MiniBatchKMeans(batch_size=100, compute_labels=True, init='k-means++',\n",
       "                init_size=None, max_iter=100, max_no_improvement=10,\n",
       "                n_clusters=8, n_init=3, random_state=0, reassignment_ratio=0.01,\n",
       "                tol=0.0, verbose=0)"
      ]
     },
     "execution_count": 22,
     "metadata": {},
     "output_type": "execute_result"
    }
   ],
   "source": [
    "kmeans.fit(X_scaled)"
   ]
  },
  {
   "cell_type": "code",
   "execution_count": 23,
   "metadata": {},
   "outputs": [],
   "source": [
    "clustno = range(1,10)\n",
    "kmeans_1 = [MiniBatchKMeans(n_clusters = i) for i in clustno]"
   ]
  },
  {
   "cell_type": "code",
   "execution_count": 24,
   "metadata": {},
   "outputs": [],
   "source": [
    "score = [kmeans_1[i].fit(X_scaled).score(X_scaled) for i in range(len(kmeans_1))]"
   ]
  },
  {
   "cell_type": "code",
   "execution_count": 25,
   "metadata": {},
   "outputs": [
    {
     "data": {
      "image/png": "[encoded data removed]",
      "text/plain": [
       "<Figure size 432x288 with 1 Axes>"
      ]
     },
     "metadata": {
      "needs_background": "light"
     },
     "output_type": "display_data"
    }
   ],
   "source": [
    "plt.plot(clustno, score)\n",
    "plt.xlabel('Number of Clusters')\n",
    "plt.ylabel('Score')\n",
    "plt.title('Elbow Curve')\n",
    "plt.show()"
   ]
  },
  {
   "cell_type": "code",
   "execution_count": 26,
   "metadata": {},
   "outputs": [],
   "source": [
    "# Another method"
   ]
  },
  {
   "cell_type": "code",
   "execution_count": 28,
   "metadata": {},
   "outputs": [
    {
     "data": {
      "image/png": "[encoded data removed]",
      "text/plain": [
       "<Figure size 432x288 with 1 Axes>"
      ]
     },
     "metadata": {
      "needs_background": "light"
     },
     "output_type": "display_data"
    }
   ],
   "source": [
    "# For each k value, we will initialise k-means and use the inertia attribute to identify the sum of squared distances\n",
    "# of samples to the nearest cluster centre.\n",
    "\n",
    "sum_of_squared_distances = []\n",
    "clustno = range(1,16)\n",
    "for k in clustno:\n",
    "    km = MiniBatchKMeans(n_clusters=k, random_state=0)\n",
    "    km = km.fit(X_scaled)\n",
    "    sum_of_squared_distances.append(km.inertia_)\n",
    "\n",
    "plt.plot(clustno, sum_of_squared_distances, \"bx-\")\n",
    "plt.xlabel(\"k\")\n",
    "plt.xticks([1,2,3,4,5,6,7,8,9,10,11,12,13,14,15,16])\n",
    "plt.ylabel('Sum of Squared Distances')\n",
    "plt.title('Elbow method for optimal K')\n",
    "plt.show()\n"
   ]
  },
  {
   "cell_type": "markdown",
   "metadata": {},
   "source": [
    "Now we can see that the optimal number of clusters should probably be at around 3 clusters, as that is where the elbow is in the curve. \n",
    "We'll use this as our baseline model, and see how well this does in detecting fraud."
   ]
  },
  {
   "cell_type": "code",
   "execution_count": null,
   "metadata": {},
   "outputs": [],
   "source": []
  },
  {
   "cell_type": "markdown",
   "metadata": {},
   "source": [
    "Detecting Outliers"
   ]
  },
  {
   "cell_type": "code",
   "execution_count": 79,
   "metadata": {},
   "outputs": [],
   "source": [
    "X_train, X_test, y_train, y_test = train_test_split(X_scaled, y, test_size=0.3, random_state=0)\n",
    "\n",
    "kmeans = MiniBatchKMeans(n_clusters=3, random_state=42).fit(X_train)\n",
    "\n",
    "X_test_clusters = kmeans.predict(X_test)\n",
    "\n",
    "# save the cluster centroids\n",
    "X_test_clusters_centers = kmeans.cluster_centers_\n",
    "\n",
    "# calculate the distance to the cluster centroids for each point\n",
    "dist = [np.linalg.norm(x-y) for x, y in zip(X_test, X_test_clusters_centers[X_test_clusters])]\n",
    "\n",
    "# create fraud predictions based on outliers on clusters \n",
    "# define the boundary between fraud and non fraud to be at 95% of distance distribution and higher\n",
    "km_y_pred = np.array(dist)\n",
    "km_y_pred[dist >= np.percentile(dist, 95)] = 1\n",
    "km_y_pred[dist < np.percentile(dist, 95)] = 0\n"
   ]
  },
  {
   "cell_type": "code",
   "execution_count": 80,
   "metadata": {},
   "outputs": [
    {
     "data": {
      "text/plain": [
       "array([0., 0., 0., 0., 0., 0., 0., 0., 0., 0., 0., 0., 0., 0., 0., 0., 0.,\n",
       "       0., 0., 0., 0., 1., 0., 0., 0., 0., 0., 0., 0., 0., 0., 0., 0., 0.,\n",
       "       0., 0., 0., 0., 0., 0., 0., 1., 0., 0., 0., 1., 0., 0., 0., 0., 0.,\n",
       "       0., 0., 0., 0., 0., 0., 0., 0., 0., 0., 0., 0., 0., 0., 0., 0., 0.,\n",
       "       0., 0., 0., 0., 0., 0., 0., 0., 0., 0., 0., 0., 0., 0., 0., 0., 0.,\n",
       "       0., 0., 0., 0., 0., 0., 0., 0., 1., 0., 0., 0., 0., 0., 0.])"
      ]
     },
     "execution_count": 80,
     "metadata": {},
     "output_type": "execute_result"
    }
   ],
   "source": [
    "km_y_pred[:100]"
   ]
  },
  {
   "cell_type": "code",
   "execution_count": 81,
   "metadata": {},
   "outputs": [
    {
     "name": "stdout",
     "output_type": "stream",
     "text": [
      "Accuracy Score: 0.971256374594344\n",
      "ROC AUC Score: 0.934936176504411\n"
     ]
    }
   ],
   "source": [
    "print(f\"Accuracy Score: {accuracy_score(y_test, km_y_pred)}\")\n",
    "print(f\"ROC AUC Score: {roc_auc_score(y_test, km_y_pred)}\")"
   ]
  },
  {
   "cell_type": "code",
   "execution_count": 64,
   "metadata": {},
   "outputs": [
    {
     "data": {
      "text/plain": [
       "array([[2043,   56],\n",
       "       [   6,   52]])"
      ]
     },
     "execution_count": 64,
     "metadata": {},
     "output_type": "execute_result"
    }
   ],
   "source": [
    "km_cm = confusion_matrix(y_test, km_y_pred)\n",
    "km_cm"
   ]
  },
  {
   "cell_type": "code",
   "execution_count": 84,
   "metadata": {},
   "outputs": [],
   "source": [
    "km_y_pred_1 = np.array(dist)\n",
    "km_y_pred_1[dist >= np.percentile(dist, 93)] = 1\n",
    "km_y_pred_1[dist < np.percentile(dist, 93)] = 0\n"
   ]
  },
  {
   "cell_type": "code",
   "execution_count": 86,
   "metadata": {},
   "outputs": [
    {
     "data": {
      "text/plain": [
       "array([[2004,   95],\n",
       "       [   2,   56]])"
      ]
     },
     "execution_count": 86,
     "metadata": {},
     "output_type": "execute_result"
    }
   ],
   "source": [
    "km_cm_1 = confusion_matrix(y_test, km_y_pred_1)\n",
    "km_cm_1"
   ]
  },
  {
   "cell_type": "code",
   "execution_count": 77,
   "metadata": {},
   "outputs": [],
   "source": [
    "def plot_confusion_matrix(cm, classes=['Not Fraud', 'Fraud'],\n",
    "                          normalize=True,\n",
    "                          title='Fraud Confusion matrix',\n",
    "                          cmap=plt.cm.Blues):\n",
    "    if normalize:\n",
    "        cm = cm.astype('float') / cm.sum(axis=1)[:, np.newaxis]\n",
    "        print(\"Normalized confusion matrix\")\n",
    "    else:\n",
    "        print('Confusion matrix, without normalization')\n",
    "\n",
    "    # print(cm)\n",
    "\n",
    "    plt.imshow(cm, interpolation='nearest', cmap=cmap)\n",
    "    plt.title(title)\n",
    "    plt.colorbar()\n",
    "    tick_marks = np.arange(len(classes))\n",
    "    plt.xticks(tick_marks, classes, rotation=45)\n",
    "    plt.yticks(tick_marks, classes)\n",
    "\n",
    "    fmt = '.2f' if normalize else 'd'\n",
    "    thresh = cm.max() / 2.\n",
    "    for i, j in product(range(cm.shape[0]), range(cm.shape[1])):\n",
    "        plt.text(j, i, format(cm[i, j], fmt),\n",
    "                 horizontalalignment=\"center\",\n",
    "                 color=\"white\" if cm[i, j] > thresh else \"black\")\n",
    "\n",
    "    plt.tight_layout()\n",
    "    plt.ylabel('True label')\n",
    "    plt.xlabel('Predicted label')\n",
    "    plt.show()"
   ]
  },
  {
   "cell_type": "code",
   "execution_count": 78,
   "metadata": {},
   "outputs": [
    {
     "name": "stdout",
     "output_type": "stream",
     "text": [
      "Normalized confusion matrix\n"
     ]
    },
    {
     "data": {
      "image/png": "[encoded data removed]",
      "text/plain": [
       "<Figure size 432x288 with 2 Axes>"
      ]
     },
     "metadata": {
      "needs_background": "light"
     },
     "output_type": "display_data"
    }
   ],
   "source": [
    "plot_confusion_matrix(km_cm)"
   ]
  },
  {
   "cell_type": "code",
   "execution_count": 75,
   "metadata": {},
   "outputs": [
    {
     "data": {
      "image/png": "[encoded data removed]",
      "text/plain": [
       "<Figure size 432x288 with 1 Axes>"
      ]
     },
     "metadata": {
      "needs_background": "light"
     },
     "output_type": "display_data"
    }
   ],
   "source": [
    "sns.heatmap(km_cm, annot=True, annot_kws={\"size\":16}, fmt=\"d\", cbar=False, linewidths=0.1, cmap=\"Blues\")\n",
    "plt.title(\"Confusion matrix of K-means\", fontsize=14)\n",
    "plt.ylabel(\"Actual label\", fontsize=12)\n",
    "plt.xlabel(\"Predicted label\", fontsize=12)\n",
    "plt.show()"
   ]
  },
  {
   "cell_type": "code",
   "execution_count": 88,
   "metadata": {},
   "outputs": [],
   "source": [
    "# Density based clustering - DBSCAN"
   ]
  },
  {
   "cell_type": "code",
   "execution_count": 92,
   "metadata": {},
   "outputs": [],
   "source": [
    "db = DBSCAN(eps=0.9, min_samples=10).fit(X_scaled)\n",
    "\n",
    "pred_labels = db.labels_\n",
    "\n",
    "n_clusters = len(set(pred_labels)) - (1 if -1 in y else 0)"
   ]
  },
  {
   "cell_type": "code",
   "execution_count": 99,
   "metadata": {},
   "outputs": [
    {
     "name": "stdout",
     "output_type": "stream",
     "text": [
      "Estimated Clusters: 26\n",
      "Homogeneity: 0.922\n",
      "Silhouette Coefficient: 0.564\n"
     ]
    }
   ],
   "source": [
    "print(f'Estimated Clusters: {n_clusters}')\n",
    "print(f'Homogeneity: {homogeneity_score(y, pred_labels):0.3f}')\n",
    "print(f'Silhouette Coefficient: {silhouette_score(X_scaled, pred_labels):0.3f}')"
   ]
  },
  {
   "cell_type": "markdown",
   "metadata": {},
   "source": [
    "The number of clusters using DBSCAN (26) is much higher than with K-means (3). For fraud detection this is for now OK, as we are only interested in the smallest clusters, since those are considered as abnormal. \n",
    "Now let's have a look at those clusters and decide which one to flag as fraud."
   ]
  },
  {
   "cell_type": "code",
   "execution_count": 101,
   "metadata": {},
   "outputs": [
    {
     "name": "stdout",
     "output_type": "stream",
     "text": [
      "[3252  105 2714   46  174  119  112   79   52   74   43   24   45   42\n",
      "   11   19   16   13   10   15   35   10   40   19   11]\n"
     ]
    }
   ],
   "source": [
    "# Assesing smallest clusters\n",
    "\n",
    "counts = np.bincount(pred_labels[pred_labels >= 0])\n",
    "print(counts)"
   ]
  },
  {
   "cell_type": "code",
   "execution_count": 107,
   "metadata": {},
   "outputs": [
    {
     "name": "stdout",
     "output_type": "stream",
     "text": [
      "Smallest clusters: \n",
      " [21 18 24]\n",
      "Their Counts are: \n",
      " [10 10 11]\n"
     ]
    }
   ],
   "source": [
    "# sort the count and take the 3 smallest ones\n",
    "\n",
    "smallest_clusters = np.argsort(counts)[:3]\n",
    "print(f'Smallest clusters: \\n {smallest_clusters}')\n",
    "\n",
    "print(f'Their Counts are: \\n {counts[smallest_clusters]}')"
   ]
  },
  {
   "cell_type": "code",
   "execution_count": 119,
   "metadata": {},
   "outputs": [
    {
     "name": "stdout",
     "output_type": "stream",
     "text": [
      "Flagged Fraud     0   1\n",
      "Actual Fraud           \n",
      "0              6979  10\n",
      "1               179  21\n"
     ]
    }
   ],
   "source": [
    "# Checking the results\n",
    "\n",
    "df_results = pd.DataFrame({'clusternr': pred_labels, 'fraud': y})\n",
    "# print(df_results)\n",
    "\n",
    "df_results['predicted_fraud'] = np.where((df_results['clusternr'] == 21)| (df_results['clusternr'] == 18) | \n",
    "                                                                  (df_results['clusternr'] == 24),1,0)\n",
    "\n",
    "print(pd.crosstab(df_results['fraud'], df_results['predicted_fraud'], rownames=['Actual Fraud'], \n",
    "                  colnames=['Flagged Fraud']))"
   ]
  },
  {
   "cell_type": "code",
   "execution_count": 122,
   "metadata": {},
   "outputs": [
    {
     "data": {
      "text/plain": [
       "0       0\n",
       "1       0\n",
       "2       0\n",
       "3       0\n",
       "4       0\n",
       "       ..\n",
       "7184    1\n",
       "7185    0\n",
       "7186    0\n",
       "7187    1\n",
       "7188    0\n",
       "Name: predicted_fraud, Length: 7189, dtype: int64"
      ]
     },
     "execution_count": 122,
     "metadata": {},
     "output_type": "execute_result"
    }
   ],
   "source": [
    "df_results['predicted_fraud']"
   ]
  },
  {
   "cell_type": "code",
   "execution_count": 121,
   "metadata": {},
   "outputs": [
    {
     "data": {
      "image/png": "[encoded data removed]",
      "text/plain": [
       "<Figure size 432x288 with 1 Axes>"
      ]
     },
     "metadata": {
      "needs_background": "light"
     },
     "output_type": "display_data"
    }
   ],
   "source": [
    "testabc = pd.crosstab(y, df_results['predicted_fraud'], rownames=['Actual Fraud'], colnames=['Flagged Fraud'])\n",
    "sns.heatmap(testabc, annot=True, annot_kws={\"size\":16}, fmt=\"d\", cbar=False, linewidths=0.1, cmap=\"Blues\")\n",
    "plt.title(\"Confusion matrix of DBSCAN\", fontsize=14)\n",
    "plt.ylabel(\"Actual label\", fontsize=12)\n",
    "plt.xlabel(\"Predicted label\", fontsize=12)\n",
    "\n",
    "# plt.savefig(\"_cm.png\", bbox_inches=\"tight\")\n",
    "plt.show()"
   ]
  },
  {
   "cell_type": "markdown",
   "metadata": {},
   "source": [
    "How does this compare to the K-means model? The good thing is: out of all flagged cases (31), roughly 2/3 are actually fraud (21)! Since we only take the three smallest clusters, by definition we flag less cases of fraud, so we catch less but also have less false positives. However, we are missing quite a lot of fraud cases. Increasing the amount of smallest clusters we flag could improve that, at the cost of more false positives of course."
   ]
  },
  {
   "cell_type": "code",
   "execution_count": null,
   "metadata": {},
   "outputs": [],
   "source": []
  }
 ],
 "metadata": {
  "kernelspec": {
   "display_name": "Python 3",
   "language": "python",
   "name": "python3"
  },
  "language_info": {
   "codemirror_mode": {
    "name": "ipython",
    "version": 3
   },
   "file_extension": ".py",
   "mimetype": "text/x-python",
   "name": "python",
   "nbconvert_exporter": "python",
   "pygments_lexer": "ipython3",
   "version": "3.7.4"
  }
 },
 "nbformat": 4,
 "nbformat_minor": 2
}
